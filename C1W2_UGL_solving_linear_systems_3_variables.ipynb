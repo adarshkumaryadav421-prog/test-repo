{
  "nbformat": 4,
  "nbformat_minor": 0,
  "metadata": {
    "colab": {
      "provenance": [],
      "authorship_tag": "ABX9TyN1wJEQ5qmRQCWtQn7Lk8Je",
      "include_colab_link": true
    },
    "kernelspec": {
      "name": "python3",
      "display_name": "Python 3"
    },
    "language_info": {
      "name": "python"
    }
  },
  "cells": [
    {
      "cell_type": "markdown",
      "metadata": {
        "id": "view-in-github",
        "colab_type": "text"
      },
      "source": [
        "<a href=\"https://colab.research.google.com/github/adarshkumaryadav421-prog/test-repo/blob/main/C1W2_UGL_solving_linear_systems_3_variables.ipynb\" target=\"_parent\"><img src=\"https://colab.research.google.com/assets/colab-badge.svg\" alt=\"Open In Colab\"/></a>"
      ]
    },
    {
      "cell_type": "markdown",
      "source": [
        "# Introduction to the Numpy.linalg sub-library"
      ],
      "metadata": {
        "id": "PDbA86YsNRRM"
      }
    },
    {
      "cell_type": "markdown",
      "source": [
        "In this lab, you will keep developing your skills using Python to solve systems of linear equations by using the sub-library [numpy.linalg](https://numpy.org/doc/stable/reference/routines.linalg.html). In this notebook you will:\n",
        "\n",
        "- Use `NumPy` linear algebra package to find the solutions to the system of linear equations\n",
        "- Evaluate the determinant of the matrix to see again the connection between matrix singularity and the number of solutions of the linear system\n",
        "- Explore the numpy.linalg sub-library to get to know its properties"
      ],
      "metadata": {
        "id": "45mIeGeZNVfF"
      }
    },
    {
      "cell_type": "markdown",
      "source": [
        "# Table of Contents\n",
        "- [ 1 - Representing and Solving a System of Linear Equations using Matrices](#1)\n",
        "  - [ 1.1 - System of Linear Equations](#1.1)\n",
        "  - [ 1.2 - Solving Systems of Linear Equations using Matrices](#1.2)\n",
        "  - [ 1.3 - Evaluating the Determinant of a Matrix](#1.3)\n",
        "  - [ 1.4 - What happens if the system has no unique solution?](#1.4)"
      ],
      "metadata": {
        "id": "dXlGeNB6Nb-6"
      }
    },
    {
      "cell_type": "markdown",
      "source": [
        "## Packages\n",
        "\n",
        "Load the `NumPy` package to access its functions."
      ],
      "metadata": {
        "id": "RaJ6M6F6NiHY"
      }
    },
    {
      "cell_type": "code",
      "execution_count": null,
      "metadata": {
        "id": "OXfRSIYWNBSH"
      },
      "outputs": [],
      "source": [
        "import numpy as np"
      ]
    },
    {
      "cell_type": "markdown",
      "source": [
        "<a name='1'></a>\n",
        "## 1 - Representing and Solving a System of Linear Equations using Matrices"
      ],
      "metadata": {
        "id": "MUrNX0NINtth"
      }
    },
    {
      "cell_type": "markdown",
      "source": [
        "<a name='1.1'></a>\n",
        "### 1.1 - System of Linear Equations\n",
        "\n",
        "Here is a **system of linear equations** (or **linear system**) with three equations and three unknown variables:\n",
        "\n",
        "\n",
        "$$\\begin{cases}\n",
        "4x_1-3x_2+x_3=-10, \\\\ 2x_1+x_2+3x_3=0, \\\\ -x_1+2x_2-5x_3=17, \\end{cases}\\tag{1}$$\n",
        "\n",
        "**To solve** this system of linear equations means to find such values of the variables $x_1$, $x_2$, $x_3$, that all of its equations are simultaneously satisfied."
      ],
      "metadata": {
        "id": "IeMIQD0QNznO"
      }
    },
    {
      "cell_type": "markdown",
      "source": [
        "<a name='1.2'></a>\n",
        "### 1.2 - Solving Systems of Linear Equations using Matrices\n",
        "\n",
        "Let's prepare to solve the linear system $(1)$ using `NumPy`. $A$ will be a matrix, each row will represent one equation in the system and each column will correspond to the variable $x_1$, $x_2$, $x_3$. And $b$ is a 1-D array of the free (right side) coefficients:"
      ],
      "metadata": {
        "id": "zfPLD_JEN-0P"
      }
    },
    {
      "cell_type": "code",
      "source": [
        "A = np.array([\n",
        "        [4, -3, 1],\n",
        "        [2, 1, 3],\n",
        "        [-1, 2, -5]\n",
        "    ], dtype=np.dtype(float))\n",
        "\n",
        "b = np.array([-10, 0, 17], dtype=np.dtype(float))\n",
        "\n",
        "print(\"Matrix A:\")\n",
        "print(A)\n",
        "print(\"\\nArray b:\")\n",
        "print(b)"
      ],
      "metadata": {
        "colab": {
          "base_uri": "https://localhost:8080/"
        },
        "id": "S8q9N6iINnWa",
        "outputId": "082e61de-bdfd-4221-dbd2-d04d6fe2bb10"
      },
      "execution_count": null,
      "outputs": [
        {
          "output_type": "stream",
          "name": "stdout",
          "text": [
            "Matrix A:\n",
            "[[ 4. -3.  1.]\n",
            " [ 2.  1.  3.]\n",
            " [-1.  2. -5.]]\n",
            "\n",
            "Array b:\n",
            "[-10.   0.  17.]\n"
          ]
        }
      ]
    },
    {
      "cell_type": "markdown",
      "source": [
        "Check the dimensions of $A$ and $b$ using `shape()` function:"
      ],
      "metadata": {
        "id": "ckChLk80OV-z"
      }
    },
    {
      "cell_type": "code",
      "source": [
        "print(f\"Shape of A: {np.shape(A)}\")\n",
        "print(f\"Shape of b: {np.shape(b)}\")"
      ],
      "metadata": {
        "colab": {
          "base_uri": "https://localhost:8080/"
        },
        "id": "BunnMnE6OHPx",
        "outputId": "37a147ca-cb19-4d1d-bd30-1ff5eb8c7ce3"
      },
      "execution_count": null,
      "outputs": [
        {
          "output_type": "stream",
          "name": "stdout",
          "text": [
            "Shape of A: (3, 3)\n",
            "Shape of b: (3,)\n"
          ]
        }
      ]
    },
    {
      "cell_type": "markdown",
      "source": [
        "Now use `np.linalg.solve(A, b)` function to find the solution of the system $(1)$. The result will be saved in the 1-D array $x$. The elements will correspond to the values of $x_1$, $x_2$ and $x_3$:"
      ],
      "metadata": {
        "id": "c0u1yQy-OhpW"
      }
    },
    {
      "cell_type": "code",
      "source": [
        "x = np.linalg.solve(A, b)\n",
        "\n",
        "print(f\"Solution: {x}\")"
      ],
      "metadata": {
        "colab": {
          "base_uri": "https://localhost:8080/"
        },
        "id": "T1dbMqLjOb0s",
        "outputId": "52f46d7d-0f20-4495-8bf5-fbdf3952a624"
      },
      "execution_count": null,
      "outputs": [
        {
          "output_type": "stream",
          "name": "stdout",
          "text": [
            "Solution: [ 1.  4. -2.]\n"
          ]
        }
      ]
    },
    {
      "cell_type": "markdown",
      "source": [
        "Try to substitute those values of $x_1$, $x_2$ and $x_3$ into the original system of equations to check its consistency."
      ],
      "metadata": {
        "id": "Td_x-hGIOuJa"
      }
    },
    {
      "cell_type": "markdown",
      "source": [
        "<a name='1.3'></a>\n",
        "### 1.3 - Evaluating the Determinant of a Matrix\n",
        "\n",
        "Matrix $A$ corresponding to the linear system $(1)$ is a **square matrix** - it has the same number of rows and columns. In the case of a square matrix it is possible to calculate its determinant - a real number that characterizes some properties of the matrix. A linear system containing three equations with three unknown variables will have one solution if and only if the matrix $A$ has a non-zero determinant.\n",
        "\n",
        "Let's calculate the determinant using `np.linalg.det(A)` function:"
      ],
      "metadata": {
        "id": "JMimzrxXO0_b"
      }
    },
    {
      "cell_type": "code",
      "source": [
        "d = np.linalg.det(A)\n",
        "\n",
        "print(f\"Determinant of matrix A: {d:.2f}\")"
      ],
      "metadata": {
        "colab": {
          "base_uri": "https://localhost:8080/"
        },
        "id": "asWBuaH8OnFe",
        "outputId": "5473b60a-83cc-4bc6-ea2f-57b85d760908"
      },
      "execution_count": null,
      "outputs": [
        {
          "output_type": "stream",
          "name": "stdout",
          "text": [
            "Determinant of matrix A: -60.00\n"
          ]
        }
      ]
    },
    {
      "cell_type": "markdown",
      "source": [
        "Please note that its value is non-zero, as expected."
      ],
      "metadata": {
        "id": "8SEaX3nmPBe8"
      }
    },
    {
      "cell_type": "markdown",
      "source": [
        "<a name='1.4'></a>\n",
        "### 1.4 - What happens if the system has no unique solution?\n",
        "\n",
        "Let's explore what happens if we use `np.linalg.solve` in a system with no unique solution (no solution at all or infinitely many solutions).\n",
        "\n",
        "Given another system of linear equations:\n",
        "\n",
        "$$\\begin{cases}\n",
        "x_1+x_2+x_3=2, \\\\ x_2-3x_3=1, \\\\ 2x_1+x_2+5x_3=0, \\end{cases}\\tag{2}$$\n",
        "\n",
        "let's find the determinant of the corresponding matrix."
      ],
      "metadata": {
        "id": "Ixg8WgVjPNq3"
      }
    },
    {
      "cell_type": "code",
      "source": [
        "A_2 = np.array([\n",
        "        [1, 1, 1],\n",
        "        [0, 1, -3],\n",
        "        [2, 1, 5]\n",
        "    ], dtype=np.dtype(float))\n",
        "\n",
        "b_2 = np.array([2, 1, 0], dtype=np.dtype(float))\n",
        "\n",
        "# Calculate the determinant of A_2\n",
        "d_2 = np.linalg.det(A_2)\n",
        "\n",
        "print(f\"Determinant of matrix A_2: {d_2:.2f}\")\n",
        "\n",
        "# Attempting to solve the system will result in an error\n",
        "# print(np.linalg.solve(A_2, b_2))"
      ],
      "metadata": {
        "colab": {
          "base_uri": "https://localhost:8080/"
        },
        "id": "kikpO4ThPLe4",
        "outputId": "05e45e30-9c77-4c9d-b940-2bc9074c198d"
      },
      "execution_count": null,
      "outputs": [
        {
          "output_type": "stream",
          "name": "stdout",
          "text": [
            "Determinant of matrix A_2: 0.00\n"
          ]
        }
      ]
    },
    {
      "cell_type": "markdown",
      "source": [
        "As you can see, it throws a `LinAlgError` because the matrix is singular. You can check this for yourself by computing the determinant of the matrix:"
      ],
      "metadata": {
        "id": "3mAEySZ7P7Aa"
      }
    },
    {
      "cell_type": "code",
      "source": [
        "d_2 = np.linalg.det(A_2)\n",
        "\n",
        "print(f\"Determinant of matrix A_2: {d_2:.2f}\")"
      ],
      "metadata": {
        "colab": {
          "base_uri": "https://localhost:8080/"
        },
        "id": "Avzct0d2QI0F",
        "outputId": "bacf192e-2617-49a6-fb1d-68f40cbdbbe1"
      },
      "execution_count": null,
      "outputs": [
        {
          "output_type": "stream",
          "name": "stdout",
          "text": [
            "Determinant of matrix A_2: 0.00\n"
          ]
        }
      ]
    },
    {
      "cell_type": "markdown",
      "source": [
        "The sub-library np.linalg has several linear algebra functions to help linear algebra tasks and we have exhausted so far the functions you have learned in class.\n",
        "\n",
        "Once you learn more theory, the functions in this library will become clearer. You also will be using them in the assignments in week 3 and 4, but do not worry because you will be guided through them.\n",
        "\n",
        "Well done! You used the `NumPy` functions to solve a system of equations. As expected, using a predefined function is much easier, but gives much less insight into what is happening under the hood. **This is why the next assignment will be in Gaussian Elimination, a method to solve linear systems**. Remember that np.linalg.solve gives an error if there are no or infinitely many solutions. When using it, you will need to check for that case to prevent your program from crashing."
      ],
      "metadata": {
        "id": "OW4b1YE0Qj_t"
      }
    },
    {
      "cell_type": "code",
      "source": [],
      "metadata": {
        "id": "nQpN6OwBQPhL"
      },
      "execution_count": null,
      "outputs": []
    }
  ]
}