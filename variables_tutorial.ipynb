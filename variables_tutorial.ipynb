{
  "cells": [
    {
      "cell_type": "markdown",
      "metadata": {
        "id": "view-in-github",
        "colab_type": "text"
      },
      "source": [
        "<a href=\"https://colab.research.google.com/github/adarshkumaryadav421-prog/test-repo/blob/main/variables_tutorial.ipynb\" target=\"_parent\"><img src=\"https://colab.research.google.com/assets/colab-badge.svg\" alt=\"Open In Colab\"/></a>"
      ]
    },
    {
      "cell_type": "markdown",
      "id": "5c9c57d1",
      "metadata": {
        "id": "5c9c57d1"
      },
      "source": [
        "<h2 align=\"center\" style=\"color:blue\">Codebasics Python Course: Variables</h2>"
      ]
    },
    {
      "cell_type": "markdown",
      "id": "0e98b431",
      "metadata": {
        "id": "0e98b431"
      },
      "source": [
        "### Variables Introduction: String, Numbers, Boolean"
      ]
    },
    {
      "cell_type": "markdown",
      "id": "a49b1f32",
      "metadata": {
        "id": "a49b1f32"
      },
      "source": [
        "Variables are containers that store some type of data. For example soda can is a container that contains soda"
      ]
    },
    {
      "cell_type": "code",
      "execution_count": 1,
      "id": "92469a37",
      "metadata": {
        "colab": {
          "base_uri": "https://localhost:8080/",
          "height": 35
        },
        "id": "92469a37",
        "outputId": "d466f709-c121-402e-a1c1-6e2ad15039c9"
      },
      "outputs": [
        {
          "output_type": "execute_result",
          "data": {
            "text/plain": [
              "'soda'"
            ],
            "application/vnd.google.colaboratory.intrinsic+json": {
              "type": "string"
            }
          },
          "metadata": {},
          "execution_count": 1
        }
      ],
      "source": [
        "can = \"soda\"\n",
        "can"
      ]
    },
    {
      "cell_type": "code",
      "execution_count": 2,
      "id": "d46eafc5",
      "metadata": {
        "colab": {
          "base_uri": "https://localhost:8080/"
        },
        "id": "d46eafc5",
        "outputId": "cb9448de-d020-4e0e-8bbb-823a0be36501"
      },
      "outputs": [
        {
          "output_type": "stream",
          "name": "stdout",
          "text": [
            "soda\n"
          ]
        }
      ],
      "source": [
        "print(can)"
      ]
    },
    {
      "cell_type": "code",
      "execution_count": 3,
      "id": "77415e03",
      "metadata": {
        "colab": {
          "base_uri": "https://localhost:8080/",
          "height": 35
        },
        "id": "77415e03",
        "outputId": "aaa42719-c5d9-480c-bde8-f6330d09bdab"
      },
      "outputs": [
        {
          "output_type": "execute_result",
          "data": {
            "text/plain": [
              "'beans'"
            ],
            "application/vnd.google.colaboratory.intrinsic+json": {
              "type": "string"
            }
          },
          "metadata": {},
          "execution_count": 3
        }
      ],
      "source": [
        "can = \"beans\"\n",
        "can"
      ]
    },
    {
      "cell_type": "code",
      "execution_count": 4,
      "id": "317ab541",
      "metadata": {
        "colab": {
          "base_uri": "https://localhost:8080/"
        },
        "id": "317ab541",
        "outputId": "38498145-a056-405b-e009-1743e7cc7da8"
      },
      "outputs": [
        {
          "output_type": "execute_result",
          "data": {
            "text/plain": [
              "str"
            ]
          },
          "metadata": {},
          "execution_count": 4
        }
      ],
      "source": [
        "type(can)"
      ]
    },
    {
      "cell_type": "code",
      "execution_count": 5,
      "id": "918585d2",
      "metadata": {
        "colab": {
          "base_uri": "https://localhost:8080/"
        },
        "id": "918585d2",
        "outputId": "0890942f-4ff1-4bb1-b7ac-5936ac75713a"
      },
      "outputs": [
        {
          "output_type": "execute_result",
          "data": {
            "text/plain": [
              "100"
            ]
          },
          "metadata": {},
          "execution_count": 5
        }
      ],
      "source": [
        "pizza = 100\n",
        "pizza"
      ]
    },
    {
      "cell_type": "code",
      "execution_count": 6,
      "id": "65bdb004",
      "metadata": {
        "colab": {
          "base_uri": "https://localhost:8080/"
        },
        "id": "65bdb004",
        "outputId": "3e23f5df-ceab-4fb0-9631-2fb1faebd1cf"
      },
      "outputs": [
        {
          "output_type": "execute_result",
          "data": {
            "text/plain": [
              "int"
            ]
          },
          "metadata": {},
          "execution_count": 6
        }
      ],
      "source": [
        "type(pizza)"
      ]
    },
    {
      "cell_type": "code",
      "execution_count": 7,
      "id": "e8fc8932",
      "metadata": {
        "id": "e8fc8932"
      },
      "outputs": [],
      "source": [
        "samosa=20.5\n",
        "ice_cream=100"
      ]
    },
    {
      "cell_type": "code",
      "execution_count": 8,
      "id": "a38c8e68",
      "metadata": {
        "colab": {
          "base_uri": "https://localhost:8080/"
        },
        "id": "a38c8e68",
        "outputId": "e6b207c1-e175-4b90-da07-86bb65013b67"
      },
      "outputs": [
        {
          "output_type": "execute_result",
          "data": {
            "text/plain": [
              "220.5"
            ]
          },
          "metadata": {},
          "execution_count": 8
        }
      ],
      "source": [
        "total = pizza + samosa + ice_cream\n",
        "total"
      ]
    },
    {
      "cell_type": "code",
      "execution_count": 9,
      "id": "a4450514",
      "metadata": {
        "scrolled": true,
        "colab": {
          "base_uri": "https://localhost:8080/"
        },
        "id": "a4450514",
        "outputId": "ac137158-dc87-4051-9e39-bd53a7290525"
      },
      "outputs": [
        {
          "output_type": "execute_result",
          "data": {
            "text/plain": [
              "float"
            ]
          },
          "metadata": {},
          "execution_count": 9
        }
      ],
      "source": [
        "type(total)"
      ]
    },
    {
      "cell_type": "code",
      "execution_count": 10,
      "id": "28d0bde6",
      "metadata": {
        "colab": {
          "base_uri": "https://localhost:8080/"
        },
        "id": "28d0bde6",
        "outputId": "b907e4db-44b4-491b-bd24-c6ee880923ed"
      },
      "outputs": [
        {
          "output_type": "execute_result",
          "data": {
            "text/plain": [
              "True"
            ]
          },
          "metadata": {},
          "execution_count": 10
        }
      ],
      "source": [
        "above_thresold = total > 200\n",
        "above_thresold"
      ]
    },
    {
      "cell_type": "code",
      "execution_count": 11,
      "id": "3db85c27",
      "metadata": {
        "colab": {
          "base_uri": "https://localhost:8080/"
        },
        "id": "3db85c27",
        "outputId": "4d30f81f-ba94-42f0-ccc6-e03a890762c6"
      },
      "outputs": [
        {
          "output_type": "execute_result",
          "data": {
            "text/plain": [
              "bool"
            ]
          },
          "metadata": {},
          "execution_count": 11
        }
      ],
      "source": [
        "type(above_thresold)"
      ]
    },
    {
      "cell_type": "markdown",
      "id": "5da0a78f",
      "metadata": {
        "id": "5da0a78f"
      },
      "source": [
        "**Integer** is a whole number with no decimal point. e.g. 34, 12, 500\n",
        "\n",
        "**Float** is a number with decimal point. e.g. 1.34, 0.45, 100.5\n",
        "\n",
        "**String** data types store text information\n",
        "\n",
        "**Boolean** type is used to store true or false value"
      ]
    },
    {
      "cell_type": "markdown",
      "id": "7a345ffd",
      "metadata": {
        "id": "7a345ffd"
      },
      "source": [
        "### Everything is an Object in Python"
      ]
    },
    {
      "cell_type": "code",
      "execution_count": 12,
      "id": "3e983282",
      "metadata": {
        "colab": {
          "base_uri": "https://localhost:8080/",
          "height": 35
        },
        "id": "3e983282",
        "outputId": "7a876186-997b-4a42-9d97-0599f39b826f"
      },
      "outputs": [
        {
          "output_type": "execute_result",
          "data": {
            "text/plain": [
              "'jalebi'"
            ],
            "application/vnd.google.colaboratory.intrinsic+json": {
              "type": "string"
            }
          },
          "metadata": {},
          "execution_count": 12
        }
      ],
      "source": [
        "foo = 'jalebi'\n",
        "foo"
      ]
    },
    {
      "cell_type": "code",
      "execution_count": 13,
      "id": "78256dcf",
      "metadata": {
        "colab": {
          "base_uri": "https://localhost:8080/",
          "height": 35
        },
        "id": "78256dcf",
        "outputId": "9b27e331-8986-4269-e9a6-e0c60c92a3f3"
      },
      "outputs": [
        {
          "output_type": "execute_result",
          "data": {
            "text/plain": [
              "'jalebi'"
            ],
            "application/vnd.google.colaboratory.intrinsic+json": {
              "type": "string"
            }
          },
          "metadata": {},
          "execution_count": 13
        }
      ],
      "source": [
        "bar = foo\n",
        "bar"
      ]
    },
    {
      "cell_type": "code",
      "execution_count": 14,
      "id": "a1a8b6fa",
      "metadata": {
        "colab": {
          "base_uri": "https://localhost:8080/"
        },
        "id": "a1a8b6fa",
        "outputId": "7d30bdd6-c38f-475e-c354-625110529905"
      },
      "outputs": [
        {
          "output_type": "execute_result",
          "data": {
            "text/plain": [
              "133025716715904"
            ]
          },
          "metadata": {},
          "execution_count": 14
        }
      ],
      "source": [
        "id(foo)"
      ]
    },
    {
      "cell_type": "code",
      "execution_count": 15,
      "id": "14f50dcc",
      "metadata": {
        "colab": {
          "base_uri": "https://localhost:8080/"
        },
        "id": "14f50dcc",
        "outputId": "2afa2b51-97eb-47d1-86ab-ed9109c19904"
      },
      "outputs": [
        {
          "output_type": "execute_result",
          "data": {
            "text/plain": [
              "133025716715904"
            ]
          },
          "metadata": {},
          "execution_count": 15
        }
      ],
      "source": [
        "id(bar)"
      ]
    },
    {
      "cell_type": "code",
      "execution_count": 16,
      "id": "3b1739f1",
      "metadata": {
        "colab": {
          "base_uri": "https://localhost:8080/",
          "height": 35
        },
        "id": "3b1739f1",
        "outputId": "0d0e9bef-54db-4934-e3e8-b5bc2cc642e7"
      },
      "outputs": [
        {
          "output_type": "execute_result",
          "data": {
            "text/plain": [
              "'samosa'"
            ],
            "application/vnd.google.colaboratory.intrinsic+json": {
              "type": "string"
            }
          },
          "metadata": {},
          "execution_count": 16
        }
      ],
      "source": [
        "bar = 'samosa'\n",
        "bar"
      ]
    },
    {
      "cell_type": "code",
      "execution_count": 17,
      "id": "d215bff4",
      "metadata": {
        "colab": {
          "base_uri": "https://localhost:8080/"
        },
        "id": "d215bff4",
        "outputId": "b9fc3619-bc9d-48af-8104-fd9b524387ec"
      },
      "outputs": [
        {
          "output_type": "execute_result",
          "data": {
            "text/plain": [
              "133025716876848"
            ]
          },
          "metadata": {},
          "execution_count": 17
        }
      ],
      "source": [
        "id(bar)"
      ]
    },
    {
      "cell_type": "code",
      "execution_count": 18,
      "id": "3e551682",
      "metadata": {
        "colab": {
          "base_uri": "https://localhost:8080/",
          "height": 35
        },
        "id": "3e551682",
        "outputId": "ca0c0362-0b1d-49f7-d64b-72122fb8b04a"
      },
      "outputs": [
        {
          "output_type": "execute_result",
          "data": {
            "text/plain": [
              "'jalebi'"
            ],
            "application/vnd.google.colaboratory.intrinsic+json": {
              "type": "string"
            }
          },
          "metadata": {},
          "execution_count": 18
        }
      ],
      "source": [
        "foo"
      ]
    },
    {
      "cell_type": "markdown",
      "id": "17de46d9",
      "metadata": {
        "id": "17de46d9"
      },
      "source": [
        "### Variable Naming Rules"
      ]
    },
    {
      "cell_type": "markdown",
      "id": "605e29eb",
      "metadata": {
        "id": "605e29eb"
      },
      "source": [
        "#### 1. Can't use reserved keywords to store variable names"
      ]
    },
    {
      "cell_type": "code",
      "execution_count": 19,
      "id": "5c4aa636",
      "metadata": {
        "colab": {
          "base_uri": "https://localhost:8080/",
          "height": 106
        },
        "id": "5c4aa636",
        "outputId": "e4379a35-931c-4497-b995-1e13f9f95192"
      },
      "outputs": [
        {
          "output_type": "error",
          "ename": "SyntaxError",
          "evalue": "cannot assign to True (ipython-input-3091963775.py, line 1)",
          "traceback": [
            "\u001b[0;36m  File \u001b[0;32m\"/tmp/ipython-input-3091963775.py\"\u001b[0;36m, line \u001b[0;32m1\u001b[0m\n\u001b[0;31m    True=5\u001b[0m\n\u001b[0m    ^\u001b[0m\n\u001b[0;31mSyntaxError\u001b[0m\u001b[0;31m:\u001b[0m cannot assign to True\n"
          ]
        }
      ],
      "source": [
        "True=5"
      ]
    },
    {
      "cell_type": "code",
      "execution_count": 20,
      "id": "f7774d07",
      "metadata": {
        "scrolled": true,
        "colab": {
          "base_uri": "https://localhost:8080/",
          "height": 106
        },
        "id": "f7774d07",
        "outputId": "26553e17-5826-467e-bb65-43511b4100e4"
      },
      "outputs": [
        {
          "output_type": "error",
          "ename": "SyntaxError",
          "evalue": "invalid syntax (ipython-input-1533978222.py, line 1)",
          "traceback": [
            "\u001b[0;36m  File \u001b[0;32m\"/tmp/ipython-input-1533978222.py\"\u001b[0;36m, line \u001b[0;32m1\u001b[0m\n\u001b[0;31m    def = \"Hello\"\u001b[0m\n\u001b[0m        ^\u001b[0m\n\u001b[0;31mSyntaxError\u001b[0m\u001b[0;31m:\u001b[0m invalid syntax\n"
          ]
        }
      ],
      "source": [
        "def = \"Hello\""
      ]
    },
    {
      "cell_type": "markdown",
      "id": "c98c9ac6",
      "metadata": {
        "id": "c98c9ac6"
      },
      "source": [
        "#### 2. Special characters are not allowed"
      ]
    },
    {
      "cell_type": "code",
      "execution_count": 21,
      "id": "0ee3d2a1",
      "metadata": {
        "colab": {
          "base_uri": "https://localhost:8080/",
          "height": 106
        },
        "id": "0ee3d2a1",
        "outputId": "a5de3373-b415-447b-e0a9-1f8fd4cb3c04"
      },
      "outputs": [
        {
          "output_type": "error",
          "ename": "SyntaxError",
          "evalue": "invalid syntax (ipython-input-1667250009.py, line 1)",
          "traceback": [
            "\u001b[0;36m  File \u001b[0;32m\"/tmp/ipython-input-1667250009.py\"\u001b[0;36m, line \u001b[0;32m1\u001b[0m\n\u001b[0;31m    $name=\"dhaval\"\u001b[0m\n\u001b[0m    ^\u001b[0m\n\u001b[0;31mSyntaxError\u001b[0m\u001b[0;31m:\u001b[0m invalid syntax\n"
          ]
        }
      ],
      "source": [
        "$name=\"dhaval\""
      ]
    },
    {
      "cell_type": "code",
      "execution_count": 22,
      "id": "e54ab05b",
      "metadata": {
        "scrolled": true,
        "colab": {
          "base_uri": "https://localhost:8080/",
          "height": 106
        },
        "id": "e54ab05b",
        "outputId": "04d7f451-630f-4a40-c8ab-42c0b3714686"
      },
      "outputs": [
        {
          "output_type": "error",
          "ename": "SyntaxError",
          "evalue": "invalid syntax (ipython-input-2224969571.py, line 1)",
          "traceback": [
            "\u001b[0;36m  File \u001b[0;32m\"/tmp/ipython-input-2224969571.py\"\u001b[0;36m, line \u001b[0;32m1\u001b[0m\n\u001b[0;31m    pizza^ = 100\u001b[0m\n\u001b[0m           ^\u001b[0m\n\u001b[0;31mSyntaxError\u001b[0m\u001b[0;31m:\u001b[0m invalid syntax\n"
          ]
        }
      ],
      "source": [
        "pizza^ = 100"
      ]
    },
    {
      "cell_type": "markdown",
      "id": "aca506fc",
      "metadata": {
        "id": "aca506fc"
      },
      "source": [
        "#### 3. Variable names must begin with letter or _"
      ]
    },
    {
      "cell_type": "code",
      "execution_count": 23,
      "id": "fe169797",
      "metadata": {
        "colab": {
          "base_uri": "https://localhost:8080/",
          "height": 106
        },
        "id": "fe169797",
        "outputId": "8a219f46-c174-4f17-ff3a-f7145378d364"
      },
      "outputs": [
        {
          "output_type": "error",
          "ename": "SyntaxError",
          "evalue": "invalid decimal literal (ipython-input-1975557746.py, line 1)",
          "traceback": [
            "\u001b[0;36m  File \u001b[0;32m\"/tmp/ipython-input-1975557746.py\"\u001b[0;36m, line \u001b[0;32m1\u001b[0m\n\u001b[0;31m    4you=\"me\"\u001b[0m\n\u001b[0m    ^\u001b[0m\n\u001b[0;31mSyntaxError\u001b[0m\u001b[0;31m:\u001b[0m invalid decimal literal\n"
          ]
        }
      ],
      "source": [
        "4you=\"me\""
      ]
    },
    {
      "cell_type": "code",
      "execution_count": 24,
      "id": "29c817e8",
      "metadata": {
        "colab": {
          "base_uri": "https://localhost:8080/",
          "height": 106
        },
        "id": "29c817e8",
        "outputId": "bc93f4b9-96e0-4385-f7f2-8e5e63d9d747"
      },
      "outputs": [
        {
          "output_type": "error",
          "ename": "SyntaxError",
          "evalue": "invalid syntax (ipython-input-2488452656.py, line 1)",
          "traceback": [
            "\u001b[0;36m  File \u001b[0;32m\"/tmp/ipython-input-2488452656.py\"\u001b[0;36m, line \u001b[0;32m1\u001b[0m\n\u001b[0;31m    $address=\"blah\"\u001b[0m\n\u001b[0m    ^\u001b[0m\n\u001b[0;31mSyntaxError\u001b[0m\u001b[0;31m:\u001b[0m invalid syntax\n"
          ]
        }
      ],
      "source": [
        "$address=\"blah\""
      ]
    },
    {
      "cell_type": "markdown",
      "id": "4544810f",
      "metadata": {
        "id": "4544810f"
      },
      "source": [
        "#### 4. Remaining characters should be a to z OR A to Z OR 0 to 9 OR _"
      ]
    },
    {
      "cell_type": "code",
      "execution_count": 25,
      "id": "130ddf3f",
      "metadata": {
        "colab": {
          "base_uri": "https://localhost:8080/",
          "height": 106
        },
        "id": "130ddf3f",
        "outputId": "6112cc2d-c5ab-4526-fe16-40261b6d5aa8"
      },
      "outputs": [
        {
          "output_type": "error",
          "ename": "SyntaxError",
          "evalue": "invalid syntax (ipython-input-3943422283.py, line 1)",
          "traceback": [
            "\u001b[0;36m  File \u001b[0;32m\"/tmp/ipython-input-3943422283.py\"\u001b[0;36m, line \u001b[0;32m1\u001b[0m\n\u001b[0;31m    abc$xyz=6\u001b[0m\n\u001b[0m       ^\u001b[0m\n\u001b[0;31mSyntaxError\u001b[0m\u001b[0;31m:\u001b[0m invalid syntax\n"
          ]
        }
      ],
      "source": [
        "abc$xyz=6"
      ]
    },
    {
      "cell_type": "markdown",
      "id": "c7f509dc",
      "metadata": {
        "id": "c7f509dc"
      },
      "source": [
        "💡 **Tip: Use Mr. C (i.e. ChatGPT) for help**"
      ]
    }
  ],
  "metadata": {
    "kernelspec": {
      "display_name": "Python 3 (ipykernel)",
      "language": "python",
      "name": "python3"
    },
    "language_info": {
      "codemirror_mode": {
        "name": "ipython",
        "version": 3
      },
      "file_extension": ".py",
      "mimetype": "text/x-python",
      "name": "python",
      "nbconvert_exporter": "python",
      "pygments_lexer": "ipython3",
      "version": "3.10.11"
    },
    "colab": {
      "provenance": [],
      "include_colab_link": true
    }
  },
  "nbformat": 4,
  "nbformat_minor": 5
}