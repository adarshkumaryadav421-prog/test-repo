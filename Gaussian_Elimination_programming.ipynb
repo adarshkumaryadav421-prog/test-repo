{
  "nbformat": 4,
  "nbformat_minor": 0,
  "metadata": {
    "colab": {
      "provenance": [],
      "authorship_tag": "ABX9TyPea/D7tV+NXZWweX+9tYwP",
      "include_colab_link": true
    },
    "kernelspec": {
      "name": "python3",
      "display_name": "Python 3"
    },
    "language_info": {
      "name": "python"
    }
  },
  "cells": [
    {
      "cell_type": "markdown",
      "metadata": {
        "id": "view-in-github",
        "colab_type": "text"
      },
      "source": [
        "<a href=\"https://colab.research.google.com/github/adarshkumaryadav421-prog/test-repo/blob/main/Gaussian_Elimination_programming.ipynb\" target=\"_parent\"><img src=\"https://colab.research.google.com/assets/colab-badge.svg\" alt=\"Open In Colab\"/></a>"
      ]
    },
    {
      "cell_type": "markdown",
      "source": [
        "# Programming Assignment - Gaussian Elimination\n",
        "\n",
        "\n",
        "Welcome to the programming assignment on Gaussian Elimination! In this assignment, you will implement the Gaussian elimination method, a foundational algorithm for solving systems of linear equations.\n",
        "\n",
        "Linear algebra is fundamental to machine learning, serving as the basis for numerous algorithms. Gaussian elimination, while not the most advanced method used today, is a classical and essential technique for solving systems of linear equations. It provides valuable insights into the core principles of linear algebra and lays the groundwork for more advanced numerical methods.\n",
        "\n",
        "## Why should you care?\n",
        "\n",
        "- **Foundational Skills**: Strengthen your understanding of key linear algebra concepts.\n",
        "- **Programming Practice**: Enhance your coding skills by implementing a classical mathematical algorithm.\n",
        "- **Historical Significance**: Gaussian elimination, though not the most cutting-edge method today, is historically significant and provides a solid starting point for understanding the evolution of linear algebra techniques.\n",
        "\n",
        "## Important Note\n",
        "\n",
        "Please **do not** delete any exercise cells or add your solutions in different cells. **Keep your solution in the original cell provided**, as failing to do so will disrupt the autograder.\n",
        "\n",
        "\n",
        "# Outline\n",
        "- [ 1 - Introduction ](#1)\n",
        "  - [ 1.1 How to complete this assignment](#1.1)\n",
        "  - [ 1.2 Gaussian Elimination Algorithm](#1.2)\n",
        "- [ 2 - Necessary imports](#2)\n",
        "- [ 3 - Auxiliary functions](#3)\n",
        "  - [ 3.1 - Function swap rows](#3.1)\n",
        "  - [ 3.2 - Finding the first non-zero value in a column starting from a specific value](#3.2)\n",
        "  - [ 3.3 - Find the first non zero element for any row](#3.3)\n",
        "  - [ 3.4 Moving one row to the bottom](#3.4)\n",
        "  - [ 3.5 - Constructing the Augmented Matrix](#3.5)\n",
        "- [ 4 - Row echelon form](#4)\n",
        "  - [ 4.1 - Row Echelon Form](#4.1)\n",
        "  - [ 4.2 - A worked example ](#4.2)\n",
        "    - [ Exercise 1](#ex01)\n",
        "- [ 5 - Back substitution](#5)\n",
        "  - [ Exercise 2](#ex02)\n",
        "- [ 6 - The Gaussian Elimination](#6)\n",
        "  - [ 6.1 - Bringing it all together](#6.1)\n",
        "    - [ Exercise 3](#ex03)\n",
        "- [ 7 - Test with any system of equations!](#7)\n"
      ],
      "metadata": {
        "id": "fXYt4ijvdaga"
      }
    },
    {
      "cell_type": "markdown",
      "source": [
        "<a name=\"1\"></a>\n",
        "## 1 - Introduction\n",
        "\n",
        "\n",
        "<a name=\"1.1\"></a>\n",
        "### 1.1 How to complete this assignment\n",
        "\n",
        "This is the first assignment in the Math for Machine Learning and Data Science specialization! Let's quickly go over how it works.\n",
        "\n",
        "This assignment has $3$ graded functions. Each graded function will have some parts replaced as `None`. These parts you have to replace with the proper value. For instance, in the first graded function there is this line of code:\n",
        "\n",
        "```Python\n",
        "pivot_candidate = M[None, None]\n",
        "```\n",
        "\n",
        "This means that you must replace the correct values for the row (first None) and column (second None). Do not worry, the functions have comments on every line of code so you won't get lost!\n",
        "\n",
        "After each graded function, there is a code to test your solution. It will test your function with some basic and quick tests to assure you are in the right path! **Note that these tests perform only basic tests, so you may pass in the unit tests but fail when submitting your code.** This is because when grading we perform more complex tests. However, in any case you will be provided with feedbacks so it will help you debugging your code.\n",
        "\n",
        "<a name=\"1.2\"></a>\n",
        "### 1.2 Gaussian Elimination Algorithm\n",
        "\n",
        "Gaussian elimination offers a systematic approach to solving systems of linear equations by transforming an augmented matrix into row-echelon form, thereby enabling the determination of variables. The algorithm comprises several essential steps:\n",
        "\n",
        "**NOTE**:\n",
        "\n",
        "- For simplicity, the algorithm you will develop here will only work on **non-singular** systems of equations, i.e., equations that have a unique solution.\n",
        "- Remember you can check if a matrix is singular or not by computing its determinant.\n",
        "\n",
        "### Step 1: Augmented Matrix\n",
        "\n",
        "Consider a system of linear equations:\n",
        "\n",
        "$$\n",
        "\\begin{align*}\n",
        "2x_1 + 3x_2 + 5x_3&= 12 \\\\\n",
        "-3x_1 - 2x_2 + 4x_3 &= -2 \\\\\n",
        "x_1 + x_2 - 2x_3  &= 8 \\\\\n",
        "\\end{align*}\n",
        "$$\n",
        "\n",
        "Create the augmented matrix \\([A | B]\\), where \\(A\\) represents the coefficient matrix and \\(B\\) denotes the column vector of constants:\n",
        "\n",
        "$$\n",
        "A = \\begin{bmatrix}\n",
        "\\phantom{-}2 & \\phantom{-}3 & \\phantom{-}5  \\\\\n",
        "-3 & -2 & \\phantom-4 \\\\\n",
        "\\phantom{-}1 & \\phantom{-}1 & -2  \\\\\n",
        "\\end{bmatrix}\n",
        "$$\n",
        "\n",
        "$$\n",
        "B = \\begin{bmatrix}\n",
        "\\phantom-12 \\\\ -2 \\\\ \\phantom-8\n",
        "\\end{bmatrix}\n",
        "$$\n",
        "\n",
        "Thus, \\([A | B]\\) is represented as:\n",
        "\n",
        "$$\n",
        "\\begin{bmatrix}\n",
        "\\phantom{-}2 & \\phantom{-}3 & \\phantom{-}5 & | & \\phantom{-}12 \\\\\n",
        "-3 & -2 & \\phantom-4 & | & -2 \\\\\n",
        "\\phantom{-}1 & \\phantom{-}1 & -2 & | & \\phantom{-}8 \\\\\n",
        "\\end{bmatrix}\n",
        "$$\n",
        "\n",
        "Note: For this assignment, matrix \\(A\\) is **always square**, accommodating scenarios with \\(n\\) equations and \\(n\\) variables.\n",
        "\n",
        "### Step 2: Transform Matrix into Row Echelon Form\n",
        "Initiate row operations to convert the augmented matrix into row-echelon form. The objective is to introduce zeros below the leading diagonal.\n",
        "\n",
        "- **Row Switching:** Rearrange rows to position the leftmost non-zero entry at the top.\n",
        "- **Row Scaling:** Multiply a row by a non-zero scalar.\n",
        "- **Row Replacement:** Substitute a row with the sum of itself and a multiple of another row.\n",
        "\n",
        "### Step 3: Back Substitution\n",
        "\n",
        "After attaining the row-echelon form, solve for variables starting from the last row and progressing upwards.\n",
        "\n",
        "Remember, the aim is to simplify the system for easy determination of solutions!\n",
        "\n",
        "### Step 4: Compile the Gaussian Elimination Algorithm\n",
        "\n",
        "Combine each function related to the aforementioned steps into a single comprehensive function."
      ],
      "metadata": {
        "id": "lk3_s97HdmdS"
      }
    },
    {
      "cell_type": "markdown",
      "source": [
        "<a name=\"2\"></a>\n",
        "## 2 - Necessary imports\n",
        "\n",
        "Next codeblock will import the necessary libraries to run this assignment. Please do not add nor remove any value there."
      ],
      "metadata": {
        "id": "BRmJalPAeSmk"
      }
    },
    {
      "cell_type": "code",
      "execution_count": 8,
      "metadata": {
        "id": "_oZyGa9mdQuT"
      },
      "outputs": [],
      "source": [
        "import numpy as np"
      ]
    },
    {
      "cell_type": "markdown",
      "source": [
        "<a name=\"3\"></a>\n",
        "## 3 - Auxiliary functions\n",
        "\n",
        "This section introduces three auxiliary functions crucial for facilitating your assignment. These functions have already been coded, eliminating the need for your concern regarding their implementation. However, it's essential to examine them carefully to grasp their appropriate usage.\n",
        "\n",
        "**Note: In Python, indices commence at $0$ rather than $1$. Therefore, a matrix with $n$ rows is indexed as $0, 1, 2, \\ldots, n-1$.**\n"
      ],
      "metadata": {
        "id": "jwBHpgwxcmxz"
      }
    },
    {
      "cell_type": "markdown",
      "source": [
        "<a name=\"3.1\"></a>\n",
        "### 3.1 - Function swap rows\n",
        "\n",
        "This function has as input a [numpy array](https://numpy.org/doc/stable/reference/generated/numpy.array.html) and two indexes to swap the rows corresponding to those indexes. It **does not change the original matrix**, but returns a new one."
      ],
      "metadata": {
        "id": "CnqvEJHJcxze"
      }
    },
    {
      "cell_type": "code",
      "source": [
        "def swap_rows(M, row_index_1, row_index_2):\n",
        "    \"\"\"\n",
        "    Swap rows in the given matrix.\n",
        "\n",
        "    Parameters:\n",
        "    - matrix (numpy.array): The input matrix to perform row swaps on.\n",
        "    - row_index_1 (int): Index of the first row to be swapped.\n",
        "    - row_index_2 (int): Index of the second row to be swapped.\n",
        "    \"\"\"\n",
        "\n",
        "    # Copy matrix M so the changes do not affect the original matrix.\n",
        "    M = M.copy()\n",
        "    # Swap indexes\n",
        "    M[[row_index_1, row_index_2]] = M[[row_index_2, row_index_1]]\n",
        "    return M"
      ],
      "metadata": {
        "id": "HfIBJpEydfo-"
      },
      "execution_count": 3,
      "outputs": []
    },
    {
      "cell_type": "markdown",
      "source": [
        "Let's practice with some examples. Consider the following matrix $M$."
      ],
      "metadata": {
        "id": "HoiWgGdldqcS"
      }
    },
    {
      "cell_type": "code",
      "source": [
        "M = np.array([\n",
        "[1, 3, 6],\n",
        "[0, -5, 2],\n",
        "[-4, 5, 8]\n",
        "])\n",
        "print(M)"
      ],
      "metadata": {
        "colab": {
          "base_uri": "https://localhost:8080/"
        },
        "id": "pCforIDbd3aW",
        "outputId": "cad100e7-168d-4bb1-8279-5cfddc496b70"
      },
      "execution_count": 10,
      "outputs": [
        {
          "output_type": "stream",
          "name": "stdout",
          "text": [
            "[[ 1  3  6]\n",
            " [ 0 -5  2]\n",
            " [-4  5  8]]\n"
          ]
        }
      ]
    },
    {
      "cell_type": "markdown",
      "source": [
        "Swapping row $0$ with row $2$:"
      ],
      "metadata": {
        "id": "Y7QPfgugeadt"
      }
    },
    {
      "cell_type": "code",
      "source": [
        "M_swapped = swap_rows(M, 0, 2)\n",
        "print(M_swapped)"
      ],
      "metadata": {
        "colab": {
          "base_uri": "https://localhost:8080/"
        },
        "id": "7GEYhyVpeU5b",
        "outputId": "bb3fdf27-a400-477b-fbb6-752f51fdb2ca"
      },
      "execution_count": 11,
      "outputs": [
        {
          "output_type": "stream",
          "name": "stdout",
          "text": [
            "[[-4  5  8]\n",
            " [ 0 -5  2]\n",
            " [ 1  3  6]]\n"
          ]
        }
      ]
    },
    {
      "cell_type": "markdown",
      "source": [
        "<a name=\"3.2\"></a>\n",
        "### 3.2 - Finding the first non-zero value in a column starting from a specific value\n",
        "\n",
        "This function becomes essential when encountering a $0$ value during row operations. It determines whether a non-zero value exists below the encountered zero, allowing for potential row swaps. Consider the following scenario within a square matrix (non-augmented):\n",
        "\n",
        "Let's say, during a specific step of the row-echelon form process, you've successfully reduced the first 2 rows, but you encounter a zero pivot (highlighted in red) in the third row. The task is to search, **solely in entries below the pivot**, for a potential row swap.\n",
        "\n",
        "$$\n",
        "\\begin{bmatrix}\n",
        "6 & 4 & 8 & 1 \\\\\n",
        "0 & 8 & 6 & 4 \\\\\n",
        "\\color{darkred}0 & \\color{darkred}0 & \\color{red}0 & \\color{darkred}3 \\\\\n",
        "0 & 0 & 5 & 9\n",
        "\\end{bmatrix}\n",
        "$$\n",
        "\n",
        "Performing a row swap between indexes 2 and 3 (remember, indexing starts at 0!), the matrix transforms into:\n",
        "\n",
        "$$\n",
        "\\begin{bmatrix}\n",
        "6 & 4 & 8 & 1 \\\\\n",
        "0 & 8 & 6 & 4 \\\\\n",
        "0 & 0 & 5 & 9  \\\\\n",
        "0 & 0 & 0 & 3\n",
        "\\end{bmatrix}\n",
        "$$\n",
        "\n",
        "Resulting in the matrix achieving the row-echelon form."
      ],
      "metadata": {
        "id": "BOVjkkv8ewMA"
      }
    },
    {
      "cell_type": "code",
      "source": [
        "def get_index_first_non_zero_value_from_column(M, column, starting_row):\n",
        "    \"\"\"\n",
        "    Retrieve the index of the first non-zero value in a specified column of the given matrix.\n",
        "\n",
        "    Parameters:\n",
        "    - matrix (numpy.array): The input matrix to search for non-zero values.\n",
        "    - column (int): The index of the column to search.\n",
        "    - starting_row (int): The starting row index for the search.\n",
        "\n",
        "    Returns:\n",
        "    int: The index of the first non-zero value in the specified column, starting from the given row.\n",
        "                Returns -1 if no non-zero value is found.\n",
        "    \"\"\"\n",
        "    # Get the column array starting from the specified row\n",
        "    column_array = M[starting_row:,column]\n",
        "    for i, val in enumerate(column_array):\n",
        "        # Iterate over every value in the column array.\n",
        "        # To check for non-zero values, you must always use np.isclose instead of doing \"val == 0\".\n",
        "        if not np.isclose(val, 0, atol = 1e-5):\n",
        "            # If one non zero value is found, then adjust the index to match the correct index in the matrix and return it.\n",
        "            index = i + starting_row\n",
        "            return index\n",
        "    # If no non-zero value is found below it, return -1.\n",
        "    return -1"
      ],
      "metadata": {
        "id": "O3oJcIArennD"
      },
      "execution_count": 12,
      "outputs": []
    },
    {
      "cell_type": "markdown",
      "source": [
        "Let's practice with this function. Consider the following matrix."
      ],
      "metadata": {
        "id": "Ie-IrANTflYQ"
      }
    },
    {
      "cell_type": "code",
      "source": [
        "N = np.array([\n",
        "[0, 5, -3 ,6 ,8],\n",
        "[0, 6, 3, 8, 1],\n",
        "[0, 0, 0, 0, 0],\n",
        "[0, 0, 0 ,0 ,7],\n",
        "[0, 2, 1, 0, 4]\n",
        "]\n",
        ")\n",
        "print(N)"
      ],
      "metadata": {
        "colab": {
          "base_uri": "https://localhost:8080/"
        },
        "id": "X4l_AusOfUVQ",
        "outputId": "e930f701-7f62-4c09-965f-b71688da2289"
      },
      "execution_count": 13,
      "outputs": [
        {
          "output_type": "stream",
          "name": "stdout",
          "text": [
            "[[ 0  5 -3  6  8]\n",
            " [ 0  6  3  8  1]\n",
            " [ 0  0  0  0  0]\n",
            " [ 0  0  0  0  7]\n",
            " [ 0  2  1  0  4]]\n"
          ]
        }
      ]
    },
    {
      "cell_type": "markdown",
      "source": [
        "If you search for a value below the first column starting at the first row, the function should return -1:"
      ],
      "metadata": {
        "id": "j9hfPzAqfxxJ"
      }
    },
    {
      "cell_type": "code",
      "source": [
        "print(get_index_first_non_zero_value_from_column(N, column = 0, starting_row = 0))"
      ],
      "metadata": {
        "colab": {
          "base_uri": "https://localhost:8080/"
        },
        "id": "HPT2fjNbfpzg",
        "outputId": "231c2523-a0e1-4140-dc69-2729046cc32d"
      },
      "execution_count": 14,
      "outputs": [
        {
          "output_type": "stream",
          "name": "stdout",
          "text": [
            "-1\n"
          ]
        }
      ]
    },
    {
      "cell_type": "markdown",
      "source": [
        "Searching for the first non zero value in the last column starting from row with index 2, it should return 3 (index corresponding to the value 7)."
      ],
      "metadata": {
        "id": "Afji4jHhgoRl"
      }
    },
    {
      "cell_type": "code",
      "source": [
        "print(get_index_first_non_zero_value_from_column(N, column = -1, starting_row = 2))"
      ],
      "metadata": {
        "colab": {
          "base_uri": "https://localhost:8080/"
        },
        "id": "7Ry9ijm4gBSK",
        "outputId": "5c2035ea-d005-45ee-f905-8e23a321659b"
      },
      "execution_count": 15,
      "outputs": [
        {
          "output_type": "stream",
          "name": "stdout",
          "text": [
            "3\n"
          ]
        }
      ]
    },
    {
      "cell_type": "markdown",
      "source": [
        "<a name=\"3.3\"></a>\n",
        "### 3.3 - Find the first non zero element for any row\n",
        "\n",
        "This function aids in locating the pivot within a designated row of a matrix. It identifies the index of the first non-zero element in the desired row. If no non-zero value is present, it returns -1."
      ],
      "metadata": {
        "id": "1wgzXMhchhSQ"
      }
    },
    {
      "cell_type": "code",
      "source": [
        "def get_index_first_non_zero_value_from_row(M, row, augmented = False):\n",
        "    \"\"\"\n",
        "    Find the index of the first non-zero value in the specified row of the given matrix.\n",
        "\n",
        "    Parameters:\n",
        "    - matrix (numpy.array): The input matrix to search for non-zero values.\n",
        "    - row (int): The index of the row to search.\n",
        "    - augmented (bool): Pass this True if you are dealing with an augmented matrix,\n",
        "                        so it will ignore the constant values (the last column in the augmented matrix).\n",
        "\n",
        "    Returns:\n",
        "    int: The index of the first non-zero value in the specified row.\n",
        "                Returns -1 if no non-zero value is found.\n",
        "    \"\"\"\n",
        "\n",
        "    # Create a copy to avoid modifying the original matrix\n",
        "    M = M.copy()\n",
        "\n",
        "\n",
        "    # If it is an augmented matrix, then ignore the constant values\n",
        "    if augmented == True:\n",
        "        # Isolating the coefficient matrix (removing the constant terms)\n",
        "        M = M[:,:-1]\n",
        "\n",
        "    # Get the desired row\n",
        "    row_array = M[row]\n",
        "    for i, val in enumerate(row_array):\n",
        "        # If finds a non zero value, returns the index. Otherwise returns -1.\n",
        "        if not np.isclose(val, 0, atol = 1e-5):\n",
        "            return i\n",
        "    return -1"
      ],
      "metadata": {
        "id": "00hm5C45gxKB"
      },
      "execution_count": 16,
      "outputs": []
    },
    {
      "cell_type": "markdown",
      "source": [
        "Let's practice with the same matrix as before:"
      ],
      "metadata": {
        "id": "SAhujN4JiB0B"
      }
    },
    {
      "cell_type": "code",
      "source": [
        "print(N)"
      ],
      "metadata": {
        "colab": {
          "base_uri": "https://localhost:8080/"
        },
        "id": "1oB91l0Dh4Sc",
        "outputId": "7b24e08f-bb6d-49af-9cf6-0c9cfb307bfe"
      },
      "execution_count": 17,
      "outputs": [
        {
          "output_type": "stream",
          "name": "stdout",
          "text": [
            "[[ 0  5 -3  6  8]\n",
            " [ 0  6  3  8  1]\n",
            " [ 0  0  0  0  0]\n",
            " [ 0  0  0  0  7]\n",
            " [ 0  2  1  0  4]]\n"
          ]
        }
      ]
    },
    {
      "cell_type": "markdown",
      "source": [
        "If not passing the argument `augmented`, then it is assumed the matrix is not augmented.\n",
        "\n",
        "Looking for the first non-zero index in row $2$ must return -1 whereas in row $3$, the value returned must be $4$ (the index for the value $7$ in that row)."
      ],
      "metadata": {
        "id": "HZhFbWnFiumX"
      }
    },
    {
      "cell_type": "code",
      "source": [
        "print(f'Output for row 2: {get_index_first_non_zero_value_from_row(N, 2)}')\n",
        "print(f'Output for row 3: {get_index_first_non_zero_value_from_row(N, 3)}')"
      ],
      "metadata": {
        "colab": {
          "base_uri": "https://localhost:8080/"
        },
        "id": "lVraRHpWiQJ-",
        "outputId": "3358df68-ecd1-4bda-98d1-41d0fa5fdfae"
      },
      "execution_count": 18,
      "outputs": [
        {
          "output_type": "stream",
          "name": "stdout",
          "text": [
            "Output for row 2: -1\n",
            "Output for row 3: 4\n"
          ]
        }
      ]
    },
    {
      "cell_type": "markdown",
      "source": [
        "Now, let's pass the argument `augmented = True`. This will make the algorithm consider $N$ an augmented matrix, therefore the last column will be removed from consideration. Now, the output for row 3 (starting from 0) should be different, excluding the last column, the output should be `-1` as well, since in the coefficient matrix (the matrix without the last column) there is no non-zero element:"
      ],
      "metadata": {
        "id": "W9tn0OYAjVJt"
      }
    },
    {
      "cell_type": "code",
      "source": [
        "print(f'Output for row 3: {get_index_first_non_zero_value_from_row(N, 3, augmented = True)}')"
      ],
      "metadata": {
        "colab": {
          "base_uri": "https://localhost:8080/"
        },
        "id": "HfaEJK3Zi_mw",
        "outputId": "19f03530-4c76-4a56-caee-e8d4044abc2f"
      },
      "execution_count": 19,
      "outputs": [
        {
          "output_type": "stream",
          "name": "stdout",
          "text": [
            "Output for row 3: -1\n"
          ]
        }
      ]
    },
    {
      "cell_type": "markdown",
      "source": [
        "<a name=\"3.5\"></a>\n",
        "### 3.4 - Constructing the Augmented Matrix\n",
        "\n",
        "This function constructs the augmented matrix by combining a square matrix of size $n \\times n$, representing $n$ equations with $n$ variables each, with an $n \\times 1$ matrix that denotes its constant values. The function concatenates both matrices to form the augmented matrix and returns the result."
      ],
      "metadata": {
        "id": "PVrWDtMZj5x3"
      }
    },
    {
      "cell_type": "code",
      "source": [
        "def augmented_matrix(A, B):\n",
        "    \"\"\"\n",
        "    Create an augmented matrix by horizontally stacking two matrices A and B.\n",
        "\n",
        "    Parameters:\n",
        "    - A (numpy.array): First matrix.\n",
        "    - B (numpy.array): Second matrix.\n",
        "\n",
        "    Returns:\n",
        "    - numpy.array: Augmented matrix obtained by horizontally stacking A and B.\n",
        "    \"\"\"\n",
        "    augmented_M = np.hstack((A,B))\n",
        "    return augmented_M"
      ],
      "metadata": {
        "id": "k_2OqD32jeOn"
      },
      "execution_count": 20,
      "outputs": []
    },
    {
      "cell_type": "code",
      "source": [
        "A = np.array([[1,2,3], [3,4,5], [4,5,6]])\n",
        "B = np.array([[1], [5], [7]])\n",
        "\n",
        "print(augmented_matrix(A,B))"
      ],
      "metadata": {
        "colab": {
          "base_uri": "https://localhost:8080/"
        },
        "id": "IAa6DdYzkG0f",
        "outputId": "0558dfbe-c2ee-4cd0-a199-0174c914d362"
      },
      "execution_count": 21,
      "outputs": [
        {
          "output_type": "stream",
          "name": "stdout",
          "text": [
            "[[1 2 3 1]\n",
            " [3 4 5 5]\n",
            " [4 5 6 7]]\n"
          ]
        }
      ]
    },
    {
      "cell_type": "markdown",
      "source": [
        "<a name=\"4\"></a>\n",
        "## 4 - Row echelon form\n",
        "\n",
        "<a name=\"4.1\"></a>\n",
        "\n",
        "<a name=\"4.1\"></a>\n",
        "### 4.1 - Row Echelon Form\n",
        "\n",
        "As discussed in the lectures, a matrix in row echelon form adheres to the following conditions:\n",
        "\n",
        "- Rows consisting entirely of zeroes should be positioned at the bottom.\n",
        "- Each non-zero row must have its left-most non-zero coefficient (termed as a **pivot**) located to the right of any row above it. Consequently, all elements below the pivot within the same column should be 0.\n",
        "\n",
        "\n",
        "**NOTE:**\n",
        "\n",
        "- The algorithm you will build will consider only non-singular system of equations, this implies that the coefficient matrix must have determinant different from $0$. Also, it implies one very important property: **the matrix's row echelon form will have all its pivots in the main diagonal**. This is an important property because it will significantly simplify the computation.\n",
        "\n",
        "\n",
        "This form ensures a structured arrangement facilitating subsequent steps in the Gaussian elimination process.\n",
        "\n",
        "\n",
        "Example of matrix **in row echelon form**\n",
        "\n",
        "$$M =\n",
        "\\begin{bmatrix}\n",
        "7 & 2 & 3 \\\\\n",
        "0 & 9 & 4 \\\\\n",
        "0 & 0 & 3 \\\\\n",
        "\\end{bmatrix}\n",
        "$$\n",
        "\n",
        "Examples of matrices that **are not in row echelon form**\n",
        "\n",
        "$$\n",
        "A = \\begin{bmatrix}\n",
        "1 & 2 & 2 \\\\\n",
        "0 & 5 & 3 \\\\\n",
        "1 & 0 & 8 \\\\\n",
        "\\end{bmatrix}\n",
        "$$\n",
        "\n",
        "$$B =\n",
        "\\begin{bmatrix}\n",
        "1 & 2 & 3 \\\\\n",
        "0 & 0 & 4 \\\\\n",
        "0 & 0 & 7 \\\\\n",
        "\\end{bmatrix}\n",
        "$$\n",
        "\n",
        "Matrix $A$ fails to satisfy the criteria for row echelon form as there exists a non-zero element below the first pivot (located in row 0). Similarly, matrix $B$ does not meet the requirements as the second pivot (in row 1 with a value of 4) has a non-zero element below it."
      ],
      "metadata": {
        "id": "_0f3L75vkUOV"
      }
    },
    {
      "cell_type": "markdown",
      "source": [
        "<a name=\"4.2\"></a>\n",
        "### 4.2 - A worked example\n",
        "\n",
        "In this section, you'll revisit an example from the lecture to facilitate the implementation of an algorithm. If you feel confident in proceeding with the algorithm, you may skip this section.\n",
        "\n",
        "Consider matrix $M$ given by:\n",
        "\n",
        "$$\n",
        "M =\n",
        "\\begin{bmatrix}\n",
        "* & * & * & \\\\\n",
        "0 & \\text{pivot} & * \\\\\n",
        "0 & \\text{value} & *\n",
        "\\end{bmatrix}\n",
        "$$\n",
        "\n",
        "Here, the asterisk (*) denotes any number. To nullify the last row (row $2$), two steps are required:\n",
        "\n",
        "- Scale $R_1$ by the inverse of the pivot:\n",
        "\n",
        "$$\n",
        "\\text{Row 1} \\rightarrow \\frac{1}{\\text{pivot}} \\cdot \\text{Row }\n",
        "$$\n",
        "\n",
        "Resulting in the updated matrix with the pivot for row $1$ set to $1$:\n",
        "\n",
        "$$\n",
        "M =\n",
        "\\begin{bmatrix}\n",
        "* & * & * & \\\\\n",
        "0 & 1 & * \\\\\n",
        "0 & \\text{value} & *\n",
        "\\end{bmatrix}\n",
        "$$\n",
        "\n",
        "Next, to eliminate the value below the pivot in row $1$, apply the following formula:\n",
        "\n",
        "$$\n",
        "\\text{Row 2} \\rightarrow \\text{Row 2} - \\text{value}\\cdot \\text{Row 1}\n",
        "$$\n",
        "\n",
        "This transformation yields the modified matrix:\n",
        "\n",
        "$$\n",
        "M =\n",
        "\\begin{bmatrix}\n",
        "* & * & * & \\\\\n",
        "0 & 1 & * \\\\\n",
        "0 & 0 & *\n",
        "\\end{bmatrix}\n",
        "$$"
      ],
      "metadata": {
        "id": "v1MqRGuokyUZ"
      }
    },
    {
      "cell_type": "markdown",
      "source": [
        "**Note that the square matrix $A$ needs to be in row-echelon form. However, every row operation conducted must also affect the augmented (constant) part. This ensures that you are effectively preserving the solutions for the entire system!**"
      ],
      "metadata": {
        "id": "400BU5y3lL28"
      }
    },
    {
      "cell_type": "markdown",
      "source": [
        "Consider the following system of equations:\n",
        "\n",
        "\n",
        "$$\n",
        "\\begin{align*}\n",
        "2x_2 + x_3 &= 3 \\\\\n",
        "x_1 + x_2 +x_3 &= 6 \\\\\n",
        "x_1 + 2x_2 + 1x_3 &= 12\n",
        "\\end{align*}\n",
        "$$\n",
        "\n",
        "Consequently, the square matrix $A$ is formulated as:\n",
        "\n",
        "$$\n",
        "A =\n",
        "\\begin{bmatrix}\n",
        "0 & 2 & 1 & \\\\\n",
        "1 & 1 & 1 & \\\\\n",
        "1 & 2 & 1 &\n",
        "\\end{bmatrix}\n",
        "$$\n",
        "\n",
        "The column vector (a matrix of size $n \\times 1$) is represented by:\n",
        "\n",
        "$$\n",
        "B =\n",
        "\\begin{bmatrix}\n",
        "3\\\\\n",
        "6\\\\\n",
        "12\n",
        "\\end{bmatrix}\n",
        "$$\n",
        "\n",
        "Combining matrices $A$ and $B$ yields the augmented matrix $M$:\n",
        "\n",
        "$$\n",
        "M =\n",
        "\\begin{bmatrix}\n",
        "0 & 2 & 1 & | & 3 \\\\\n",
        "1 & 1 & 1 & | & 6 \\\\\n",
        "1 & 2 & 1 & | & 12\n",
        "\\end{bmatrix}\n",
        "$$"
      ],
      "metadata": {
        "id": "7auhqjs8lQxk"
      }
    },
    {
      "cell_type": "markdown",
      "source": [
        "**Step 1:**\n",
        "\n",
        "Commencing with row $0$: The initial candidate for the pivot is always the value in the main diagonal of the matrix. Denoting row $0$ as $R_0$:\n",
        "\n",
        "$$R_0= \\begin{bmatrix} 0 & 2 & 1 & | & 3 \\end{bmatrix}$$\n",
        "\n",
        "The value in the main diagonal is the element $M[0,0]$ (the first element of the first column). The first row can be accessed by performing $M[0]$, i.e., $M[0] = R_0$.\n",
        "\n",
        "The first row operation involves **scaling by the pivot's inverse**. Since the value in the main diagonal is $0$, necessitating a non-zero value for scaling by its inverse, you must switch rows in this case. Note that $R_1$ has a value different from $0$ in the required index. Consequently, switching rows $0$ and $1$:\n",
        "\n",
        "$$R_0 \\rightarrow R_1$$\n",
        "$$R_1 \\rightarrow R_0$$\n",
        "\n",
        "Resulting in the updated augmented matrix:\n",
        "\n",
        "$$\n",
        "M =\n",
        "\\begin{bmatrix}\n",
        "1 & 1 & 1 & | & 6 \\\\\n",
        "0 & 2 & 1 & | & 3 \\\\\n",
        "1 & 2 & 1 & | & 12\n",
        "\\end{bmatrix}\n",
        "$$\n",
        "\n",
        "Now, the pivot is already $1$, eliminating the need for row scaling. Following the formula:\n",
        "\n",
        "$$ R_1 \\rightarrow  R_1 - 0 \\cdot R_0 = R_1$$\n",
        "\n",
        "Therefore, the second row remains unchanged. Moving to the third row ($R_2$), the value in the augmented matrix below the pivot from $R_0$ is $M[2,0]$, which is $1$.\n",
        "\n",
        "$$R_2 = R_2 - 1 \\cdot R_0 = \\begin{bmatrix} 0 & 1 & 0 & | & 6  \\end{bmatrix}$$\n",
        "\n",
        "Resulting in the modified augmented matrix:\n",
        "\n",
        "$$\n",
        "M =\n",
        "\\begin{bmatrix}\n",
        "1 & 1 & 1 & | & 6 \\\\\n",
        "0 & 2 & 1 & | & 3 \\\\\n",
        "0 & 1 & 0 & | & 6\n",
        "\\end{bmatrix}\n",
        "$$\n",
        "\n",
        "Progressing to the second row ($R_1$), the value in the main diagonal is $2$, different from zero. Scaling it by $\\frac{1}{2}$:\n",
        "\n",
        "$$R_1 = \\frac{1}{2}R_1$$\n",
        "\n",
        "Resulting in the augmented matrix:\n",
        "\n",
        "$$\n",
        "M =\n",
        "\\begin{bmatrix}\n",
        "1 & 1 & 1 & | & 6 \\\\\n",
        "0 & 1 & \\frac{1}{2} & | & \\frac{3}{2} \\\\\n",
        "0 & 1 & 0 & | & 6\n",
        "\\end{bmatrix}\n",
        "$$\n",
        "\n",
        "Now, there's only one row below it for row replacement. The value just below the pivot is located at $M[2,1]$, which is $1$. Thus:\n",
        "\n",
        "$$R_2 = R_2 - 1 \\cdot R_1 = \\begin{bmatrix} \\phantom{-}0 & \\phantom{-}0 & -\\frac{1}{2} & | & \\phantom{-}\\frac{9}{2} \\end{bmatrix} $$\n",
        "\n",
        "Resulting in the augmented matrix:\n",
        "\n",
        "\n",
        "$$\n",
        "M =\n",
        "\\begin{bmatrix}\n",
        "\\phantom{-}1 & \\phantom{-}1 & \\phantom{-}1 & | & \\phantom{-}6 \\\\\n",
        "\\phantom{-}0 & \\phantom{-}1 & \\phantom{-}\\frac{1}{2} & | & \\phantom{-}\\frac{3}{2} \\\\\n",
        "\\phantom{-}0 & \\phantom{-}0 & -\\frac{1}{2} & | & \\phantom{-}\\frac{9}{2}\n",
        "\\end{bmatrix}\n",
        "$$\n",
        "\n",
        "Finally, normalizing the last row as\n",
        "\n",
        "$$R_2 = -2 \\cdot R_2$$\n",
        "\n",
        "The resulting matrix is\n",
        "\n",
        "$$\n",
        "M =\n",
        "\\begin{bmatrix}\n",
        "\\phantom{-}1 & \\phantom{-}1 & \\phantom{-}1 & | & \\phantom{-}6 \\\\\n",
        "\\phantom{-}0 & \\phantom{-}1 & \\phantom{-}\\frac{1}{2} & | & \\phantom{-}\\frac{3}{2} \\\\\n",
        "\\phantom{-}0 & \\phantom{-}0 & \\phantom{-}1 & | & -9\n",
        "\\end{bmatrix}\n",
        "$$\n",
        "\n",
        "Thus, the matrix is now in row echelon form with unitary pivots."
      ],
      "metadata": {
        "id": "nu-79qCLmRCN"
      }
    },
    {
      "cell_type": "markdown",
      "source": [
        "Now you are ready to go! You will implement such algorithm in the following exercise.\n",
        "\n",
        "<a name=\"ex01\"></a>\n",
        "### Exercise 1\n",
        "\n",
        "This exercise involves implementing the elimination method to convert a matrix into row-echelon form. As discussed in lectures, the primary approach involves inspecting the values along the diagonal. If they equate to $0$, an attempt to swap rows should be made to obtain a non-zero value.\n"
      ],
      "metadata": {
        "id": "1bGNVrbWmmq8"
      }
    },
    {
      "cell_type": "code",
      "source": [
        "# GRADED FUNCTION: row_echelon_form\n",
        "\n",
        "def row_echelon_form(A, B):\n",
        "    \"\"\"\n",
        "    Utilizes elementary row operations to transform a given set of matrices,\n",
        "    which represent the coefficients and constant terms of a linear system, into row echelon form.\n",
        "\n",
        "    Parameters:\n",
        "    - A (numpy.array): The input square matrix of coefficients.\n",
        "    - B (numpy.array): The input column matrix of constant terms\n",
        "\n",
        "    Returns:\n",
        "    numpy.array: A new augmented matrix in row echelon form with pivots as 1.\n",
        "    \"\"\"\n",
        "\n",
        "    # Before any computation, check if matrix A (coefficient matrix) has non-zero determinant.\n",
        "    # It will be used the numpy sub library np.linalg to compute it.\n",
        "\n",
        "    det_A = np.linalg.det(A)\n",
        "\n",
        "    # Returns \"Singular system\" if determinant is zero\n",
        "    if np.isclose(det_A, 0) == True:\n",
        "        return 'Singular system'\n",
        "\n",
        "    # Make copies of the input matrices to avoid modifying the originals\n",
        "    A = A.copy()\n",
        "    B = B.copy()\n",
        "\n",
        "\n",
        "    # Convert matrices to float to prevent integer division\n",
        "    A = A.astype('float64')\n",
        "    B = B.astype('float64')\n",
        "\n",
        "    # Number of rows in the coefficient matrix\n",
        "    num_rows = len(A)\n",
        "\n",
        "    import numpy as np\n",
        "\n",
        "def get_index_first_non_zero_value_from_column(matrix, column, starting_row):\n",
        "    \"\"\"\n",
        "    Find the index of the first non-zero value in a specified column,\n",
        "    starting from a given row.\n",
        "    \"\"\"\n",
        "    for i in range(starting_row, len(matrix)):\n",
        "        if abs(matrix[i][column]) > 1e-10:\n",
        "            return i\n",
        "    return -1\n",
        "\n",
        "def row_echelon_form(A, B):\n",
        "    \"\"\"\n",
        "    Convert matrix A with vector B to row echelon form.\n",
        "    Returns \"Singular system.\" if the system is singular,\n",
        "    otherwise returns the row echelon form.\n",
        "    \"\"\"\n",
        "    import numpy as np\n",
        "\n",
        "    # Convert to numpy arrays\n",
        "    A = np.array(A, dtype=float)\n",
        "    B = np.array(B, dtype=float)\n",
        "\n",
        "    # Check if A is singular (determinant = 0)\n",
        "    det_A = np.linalg.det(A)\n",
        "    if abs(det_A) < 1e-10:\n",
        "        return \"Singular system.\"\n",
        "\n",
        "    # Ensure B is a column vector\n",
        "    if B.ndim == 1:\n",
        "        B = B.reshape(-1, 1)\n",
        "    elif B.ndim == 2 and B.shape[0] == 1:\n",
        "        B = B.T\n",
        "\n",
        "    # Create augmented matrix [A|B]\n",
        "    augmented = np.hstack([A, B])\n",
        "\n",
        "    print(f\"Original augmented matrix [A|B]:\")\n",
        "    print(augmented)\n",
        "    print()\n",
        "\n",
        "    rows, cols = A.shape\n",
        "    current_row = 0\n",
        "\n",
        "    # Gaussian elimination\n",
        "    for col in range(cols):\n",
        "        if current_row >= rows:\n",
        "            break\n",
        "\n",
        "        # Find pivot\n",
        "        pivot_row = get_index_first_non_zero_value_from_column(augmented, col, current_row)\n",
        "\n",
        "        if pivot_row == -1:\n",
        "            continue\n",
        "\n",
        "        # Swap rows if needed\n",
        "        if pivot_row != current_row:\n",
        "            augmented[[current_row, pivot_row]] = augmented[[pivot_row, current_row]]\n",
        "            print(f\"Swapped row {current_row} with row {pivot_row}\")\n",
        "            print(augmented)\n",
        "            print()\n",
        "\n",
        "        # Normalize the pivot row (make leading coefficient = 1)\n",
        "        pivot_val = augmented[current_row, col]\n",
        "        if abs(pivot_val) > 1e-10:\n",
        "            augmented[current_row] = augmented[current_row] / pivot_val\n",
        "\n",
        "        # Eliminate below the pivot\n",
        "        for i in range(current_row + 1, rows):\n",
        "            if abs(augmented[i, col]) > 1e-10:\n",
        "                factor = augmented[i, col]\n",
        "                augmented[i] = augmented[i] - factor * augmented[current_row]\n",
        "\n",
        "        print(f\"After eliminating column {col}:\")\n",
        "        print(augmented)\n",
        "        print()\n",
        "\n",
        "        current_row += 1\n",
        "\n",
        "    M = augmented\n",
        "    return M"
      ],
      "metadata": {
        "id": "6l2dQttC1wMK"
      },
      "execution_count": 36,
      "outputs": []
    },
    {
      "cell_type": "code",
      "source": [
        "A = np.array([[1,2,3],[0,1,0], [0,0,5]])\n",
        "B = np.array([[1], [2], [4]])\n",
        "row_echelon_form(A,B)"
      ],
      "metadata": {
        "colab": {
          "base_uri": "https://localhost:8080/"
        },
        "id": "UfPpXsqkvEx0",
        "outputId": "efa8609a-5b96-49d5-9ba0-1e3982af3f11"
      },
      "execution_count": 37,
      "outputs": [
        {
          "output_type": "stream",
          "name": "stdout",
          "text": [
            "Original augmented matrix [A|B]:\n",
            "[[1. 2. 3. 1.]\n",
            " [0. 1. 0. 2.]\n",
            " [0. 0. 5. 4.]]\n",
            "\n",
            "After eliminating column 0:\n",
            "[[1. 2. 3. 1.]\n",
            " [0. 1. 0. 2.]\n",
            " [0. 0. 5. 4.]]\n",
            "\n",
            "After eliminating column 1:\n",
            "[[1. 2. 3. 1.]\n",
            " [0. 1. 0. 2.]\n",
            " [0. 0. 5. 4.]]\n",
            "\n",
            "After eliminating column 2:\n",
            "[[1.  2.  3.  1. ]\n",
            " [0.  1.  0.  2. ]\n",
            " [0.  0.  1.  0.8]]\n",
            "\n"
          ]
        },
        {
          "output_type": "execute_result",
          "data": {
            "text/plain": [
              "array([[1. , 2. , 3. , 1. ],\n",
              "       [0. , 1. , 0. , 2. ],\n",
              "       [0. , 0. , 1. , 0.8]])"
            ]
          },
          "metadata": {},
          "execution_count": 37
        }
      ]
    },
    {
      "cell_type": "markdown",
      "source": [
        "<a name=\"5\"></a>\n",
        "## 5 - Back substitution\n",
        "\n",
        "The final step of the algorithm involves back substitution, a crucial process in obtaining solutions for the linear system. As discussed in the lectures, this method initiates from the bottom and moves upwards. Utilizing elementary row operations, it aims to convert every element above the pivot into zeros, ending with a matrix in **reduced row echelon form**. The formula employed is:\n",
        "\n",
        "\n",
        "$$\\text{Row above} \\rightarrow \\text{Row above} - \\text{value} \\cdot \\text{Row pivot}$$\n",
        "\n",
        "In this equation, $\\text{value}$ denotes the value above the pivot, which initially equals 1. To illustrate this process, let's consider the following matrix:"
      ],
      "metadata": {
        "id": "4JA1aHxgxicR"
      }
    },
    {
      "cell_type": "markdown",
      "source": [
        "$$\n",
        "M =\n",
        "\\begin{bmatrix}\n",
        "\\phantom{-}1 & -1 & \\phantom{-}\\frac{1}{2} & | & \\phantom{-}\\frac{1}{2} \\\\\n",
        "\\phantom{-}0 & \\phantom{-}1 & \\phantom{-}1 & | & -1 \\\\\n",
        "\\phantom{-}0 & \\phantom{-}0 & \\phantom{-}1 & | & -1\n",
        "\\end{bmatrix}\n",
        "$$\n",
        "\n",
        "Starting from bottom to top:\n",
        "\n",
        "- $R_2$:\n",
        "\n",
        "- -  $R_1 = R_1 - 1 \\cdot R_2 = \\begin{bmatrix} 0 & 1 & 0 & | & 0 \\end{bmatrix}$\n",
        "- - $R_0 = R_0 - \\frac{1}{2} \\cdot R_2 = \\begin{bmatrix} 1 & -1& 0 & | & 1 \\end{bmatrix}$\n",
        "\n",
        "The resulting matrix is then\n",
        "\n",
        "$$\n",
        "M =\n",
        "\\begin{bmatrix}\n",
        "\\phantom{-}1 & -1 & \\phantom{-}0 & | & \\phantom{-}1  \\\\\n",
        "\\phantom{-}0 & \\phantom{-}1 & \\phantom{-}0 & | & \\phantom{-}0 \\\\\n",
        "\\phantom{-}0 & \\phantom{-}0 & \\phantom{-}1 & | & -1\n",
        "\\end{bmatrix}\n",
        "$$\n",
        "\n",
        "Moving to $R_1$:\n",
        "\n",
        "- $R_1$:\n",
        "\n",
        "- - $R_0 = R_0 - \\left(-1 \\cdot R_1 \\right) = \\begin{bmatrix} 1 & 0 & 0 & | & 1 \\end{bmatrix}$\n",
        "\n",
        "And the final matrix is\n",
        "\n",
        "$$\n",
        "M =\n",
        "\\begin{bmatrix}\n",
        "\\phantom{-}1 & \\phantom{-}0 & \\phantom{-}0 & | & \\phantom{-}1  \\\\\n",
        "\\phantom{-}0 & \\phantom{-}1 & \\phantom{-}0 & | & \\phantom{-}0 \\\\\n",
        "\\phantom{-}0 & \\phantom{-}0 & \\phantom{-}1 & | & -1\n",
        "\\end{bmatrix}\n",
        "$$"
      ],
      "metadata": {
        "id": "ecJPlaxmxoDj"
      }
    },
    {
      "cell_type": "markdown",
      "source": [
        "Note that after back substitution, the solution is just the values in the augmented column! In this case,\n",
        "\n",
        "$$\n",
        "x_0 = 1 \\\\ x_1 =0\\\\ x_2 = -1\n",
        "$$"
      ],
      "metadata": {
        "id": "wipZj51Xxtj6"
      }
    },
    {
      "cell_type": "markdown",
      "source": [
        "<a name=\"ex02\"></a>\n",
        "### Exercise 2\n",
        "\n",
        "In this exercise you will implement a function to perform back substitution in an **augmented matrix with unique solution and in row echelon form with unitary pivots**"
      ],
      "metadata": {
        "id": "vVT9_qvgxzbg"
      }
    },
    {
      "cell_type": "code",
      "source": [
        "# GRADED FUNCTION: back_substitution\n",
        "\n",
        "def back_substitution(M):\n",
        "    \"\"\"\n",
        "    Perform back substitution on an augmented matrix (with unique solution) in reduced row echelon form to find the solution to the linear system.\n",
        "\n",
        "    Parameters:\n",
        "    - M (numpy.array): The augmented matrix in row echelon form with unitary pivots (n x n+1).\n",
        "\n",
        "    Returns:\n",
        "    numpy.array: The solution vector of the linear system.\n",
        "    \"\"\"\n",
        "\n",
        "    # Make a copy of the input matrix to avoid modifying the original\n",
        "    M = M.copy()\n",
        "\n",
        "    # Get the number of rows (and columns) in the matrix of coefficients\n",
        "    num_rows = M.shape[0]\n",
        "\n",
        "    ### START CODE HERE ####\n",
        "\n",
        "    # Iterate from bottom to top\n",
        "    for row in reversed(range(num_rows)):\n",
        "        substitution_row = M[row, :]  # Get the current row for back substitution\n",
        "        # Get the index of the first non-zero element in the substitution row.\n",
        "        # We need to find the pivot column for this specific row\n",
        "        index = None\n",
        "        for col in range(len(substitution_row)):\n",
        "            if abs(substitution_row[col]) > 1e-10:\n",
        "                index = col\n",
        "                break\n",
        "\n",
        "        # Skip if no pivot found (all zeros in this row)\n",
        "        if index is None:\n",
        "            continue\n",
        "\n",
        "        # Iterate over the rows above the substitution_row\n",
        "        for j in range(row):\n",
        "            # Get the row to be reduced. The indexing here is similar as above, with the row variable replaced by the j variable.\n",
        "            row_to_reduce = M[j, :].copy()  # Get the row above current row (make a copy)\n",
        "            # Get the value of the element at the found index in the row to reduce\n",
        "            value = row_to_reduce[index]  # Element in the pivot column\n",
        "\n",
        "            # Perform the back substitution step using the formula row_to_reduce -> row_to_reduce - value * substitution_row\n",
        "            row_to_reduce = row_to_reduce - value * substitution_row\n",
        "            # Replace the updated row in the matrix, be careful with indexing!\n",
        "            M[j,:] = row_to_reduce\n",
        "\n",
        "### END CODE HERE ####\n",
        "\n",
        "     # Extract the solution from the last column\n",
        "    solution = M[:,-1]\n",
        "\n",
        "    return solution"
      ],
      "metadata": {
        "id": "QnJNDIcCvRL4"
      },
      "execution_count": 42,
      "outputs": []
    },
    {
      "cell_type": "code",
      "source": [
        "# GRADED FUNCTION: gaussian_elimination\n",
        "\n",
        "import numpy as np\n",
        "\n",
        "def back_substitution(row_echelon_M):\n",
        "    \"\"\"\n",
        "    Perform back substitution on a matrix in row echelon form to solve for variables.\n",
        "\n",
        "    Parameters:\n",
        "    - row_echelon_M (numpy.array): Augmented matrix in row echelon form (n x n+1)\n",
        "\n",
        "    Returns:\n",
        "    numpy.array: The solution vector.\n",
        "    \"\"\"\n",
        "    n = row_echelon_M.shape[0]\n",
        "    x = np.zeros(n)\n",
        "\n",
        "    # Start from the last equation and work backwards\n",
        "    for i in range(n-1, -1, -1):\n",
        "        # Access the last column using index -1\n",
        "        x[i] = row_echelon_M[i, -1]  # Initialize with constant term\n",
        "        for j in range(i+1, n):\n",
        "            x[i] -= row_echelon_M[i, j] * x[j]\n",
        "        # Avoid division by zero if pivot is zero (shouldn't happen for non-singular)\n",
        "        if not np.isclose(row_echelon_M[i, i], 0):\n",
        "            x[i] = x[i] / row_echelon_M[i, i]\n",
        "        else:\n",
        "            # This case should ideally not be reached for non-singular matrices\n",
        "            # print(f\"Warning: Zero pivot encountered at row {i}\")\n",
        "            pass # Or handle as a singular case if needed\n",
        "\n",
        "    return x\n",
        "\n",
        "def gaussian_elimination(A, B):\n",
        "    \"\"\"\n",
        "    Solve a linear system represented by an augmented matrix using the Gaussian elimination method.\n",
        "\n",
        "    Parameters:\n",
        "    - A (numpy.array): Square matrix of size n x n representing the coefficients of the linear system\n",
        "    - B (numpy.array): Column matrix of size 1 x n representing the constant terms.\n",
        "\n",
        "    Returns:\n",
        "    numpy.array: The solution vector.\n",
        "    \"\"\"\n",
        "\n",
        "    ### START CODE HERE ###\n",
        "\n",
        "    n = A.shape[0]\n",
        "\n",
        "    # Create augmented matrix\n",
        "    M = np.hstack([A.astype(float), B.reshape(-1, 1).astype(float)])\n",
        "\n",
        "    # Forward elimination (convert to row echelon form)\n",
        "    for i in range(n):\n",
        "        # Find pivot row (partial pivoting for numerical stability)\n",
        "        # Find the index of the maximum absolute value in the current column from the current row downwards\n",
        "        pivot_row = i + np.argmax(np.abs(M[i:, i]))\n",
        "\n",
        "        # Swap rows if necessary to bring the pivot row to the current row\n",
        "        if pivot_row != i:\n",
        "            M[[i, pivot_row]] = M[[pivot_row, i]]\n",
        "\n",
        "        # Get the pivot value\n",
        "        pivot_val = M[i, i]\n",
        "\n",
        "        # If the pivot is zero (shouldn't happen for non-singular matrix with pivoting, but good practice to check)\n",
        "        if np.isclose(pivot_val, 0):\n",
        "            # This indicates a singular system, although the determinant check at the beginning should catch this.\n",
        "            # For this assignment's assumption of non-singular systems, we might not need extensive handling here.\n",
        "            # If we were to handle it, we might return an indication of a singular or infinite solution system.\n",
        "            # For now, let's assume non-singular and continue, though this might lead to issues if a pivot is truly zero.\n",
        "             continue # Skip elimination for this column if pivot is zero\n",
        "\n",
        "\n",
        "        # Normalize the pivot row (make leading coefficient = 1). This is part of reduced row echelon form,\n",
        "        # but the back_substitution function here expects row echelon form, where pivots don't have to be 1.\n",
        "        # However, the back_substitution function *does* divide by the pivot, so pivots must be non-zero.\n",
        "        # Let's keep the elimination below the pivot as the main goal for row echelon form here.\n",
        "        # Normalizing pivots to 1 is often done *after* forward elimination for simpler back substitution,\n",
        "        # or implicitly handled by dividing by the pivot in back substitution.\n",
        "\n",
        "        # Eliminate column entries below pivot\n",
        "        for k in range(i+1, n):\n",
        "            # Check if the element to be eliminated is non-zero\n",
        "            if not np.isclose(M[k, i], 0):\n",
        "                factor = M[k, i] / pivot_val # Use the actual pivot value\n",
        "                M[k, i:] = M[k, i:] - factor * M[i, i:]\n",
        "\n",
        "    # Get the matrix in row echelon form\n",
        "    # Note: The forward elimination above results in a matrix in row echelon form.\n",
        "    # The pivots might not be 1, but the back_substitution function handles this by dividing by the pivot.\n",
        "    row_echelon_M = M\n",
        "\n",
        "    # Check if the matrix is in a form suitable for back substitution (e.g., no zero pivots on diagonal after elimination)\n",
        "    # This check is implicitly covered by the non-singular assumption and the determinant check,\n",
        "    # but an explicit check for zero pivots on the diagonal of the coefficient part of row_echelon_M could be added.\n",
        "    # For this assignment, we assume non-singular, so pivots should be non-zero.\n",
        "\n",
        "\n",
        "    # Since the system is non-singular (by our assumptions), then perform back substitution to get the result.\n",
        "    solution = back_substitution(row_echelon_M)\n",
        "\n",
        "    ### END SOLUTION HERE ###\n",
        "\n",
        "    return solution\n",
        "\n",
        "# Alternative implementation without pivoting (simpler version)\n",
        "# This function is not used in the main gaussian_elimination graded function.\n",
        "def gaussian_elimination_simple(A, B):\n",
        "    \"\"\"\n",
        "    Simple Gaussian elimination without pivoting.\n",
        "    \"\"\"\n",
        "    n = A.shape[0]\n",
        "\n",
        "    # Create augmented matrix\n",
        "    Ab = np.column_stack([A.copy().astype(float), B.copy().astype(float)])\n",
        "\n",
        "    # Forward elimination\n",
        "    for i in range(n):\n",
        "        # Ensure pivot is non-zero (basic check, no pivoting)\n",
        "        if Ab[i, i] == 0:\n",
        "            # This simple version doesn't handle pivoting or singular cases well.\n",
        "            # For non-singular matrices without needing pivoting, this is fine.\n",
        "            pass # In a real implementation, you'd need pivoting or handle singularity\n",
        "\n",
        "        # Eliminate below the pivot\n",
        "        for j in range(i+1, n):\n",
        "            if Ab[i, i] != 0: # Avoid division by zero\n",
        "                multiplier = Ab[j, i] / Ab[i, i]\n",
        "                Ab[j, :] = Ab[j, :] - multiplier * Ab[i, :]\n",
        "\n",
        "    # Back substitution\n",
        "    x = np.zeros(n)\n",
        "    for i in range(n-1, -1, -1):\n",
        "        x[i] = Ab[i, -1] # Access the last column\n",
        "        for j in range(i+1, n):\n",
        "            x[i] -= Ab[i, j] * x[j]\n",
        "        if Ab[i, i] != 0: # Avoid division by zero\n",
        "            x[i] /= Ab[i, i]\n",
        "        else:\n",
        "            # Should not happen for non-singular matrices that reach this point\n",
        "            pass\n",
        "\n",
        "\n",
        "    return x\n",
        "\n",
        "# Test cases\n",
        "if __name__ == \"__main__\":\n",
        "    # Test case 1: Simple 2x2 system\n",
        "    A1 = np.array([[2, 1], [1, 3]])\n",
        "    B1 = np.array([3, 4])\n",
        "    print(\"Test 1 - Solution:\", gaussian_elimination(A1, B1))\n",
        "\n",
        "    # Test case 2: 3x3 system\n",
        "    A2 = np.array([[1, 2, 3], [2, -1, 1], [3, 0, -1]])\n",
        "    B2 = np.array([9, 8, 3])\n",
        "    print(\"Test 2 - Solution:\", gaussian_elimination(A2, B2))\n",
        "\n",
        "    # Test the back_substitution function separately\n",
        "    # Create a sample augmented matrix in row echelon form\n",
        "    # Example: 2x + y = 3, 2.5y = 1.5, -2.6z = -2.6 -> z=1, y=0.6, 2x + 0.6 = 3 -> 2x = 2.4 -> x=1.2\n",
        "    sample_augmented_matrix = np.array([[2., 1., 3.], [0., 2.5, 1.5], [0., 0., -2.6]]) # This is 3x3, should be 3x4 for n=3 system\n",
        "    # Let's create a correct sample augmented matrix for a 3x3 system (n=3)\n",
        "    # Example system: x + 2y + 3z = 9, -5y - 5z = -10, -2z = -2\n",
        "    # Row echelon form: [[1, 2, 3, 9], [0, -5, -5, -10], [0, 0, -2, -2]]\n",
        "    sample_augmented_matrix_correct = np.array([[1., 2., 3., 9.], [0., -5., -5., -10.], [0., 0., -2., -2.]])\n",
        "\n",
        "    print(\"Back substitution test with correct augmented matrix:\", back_substitution(sample_augmented_matrix_correct))\n",
        "\n",
        "    # The original sample_matrix test was incorrect as it was not an augmented matrix\n",
        "    # Keeping the original test but noting it's incorrect for a function expecting augmented matrix\n",
        "    sample_matrix_incorrect_test = np.array([[2, 1, 3], [0, 2.5, 1.5], [0, 0, -2.6]])\n",
        "    # print(\"Back substitution test with incorrect matrix (expecting error):\", back_substitution(sample_matrix_incorrect_test)) # This will cause error"
      ],
      "metadata": {
        "colab": {
          "base_uri": "https://localhost:8080/"
        },
        "id": "84TSYmcY2P8t",
        "outputId": "17a84453-5d26-4332-bae8-4226a7b25cf7"
      },
      "execution_count": 41,
      "outputs": [
        {
          "output_type": "stream",
          "name": "stdout",
          "text": [
            "Test 1 - Solution: [1. 1.]\n",
            "Test 2 - Solution: [ 2. -1.  3.]\n",
            "Back substitution test with correct augmented matrix: [4. 1. 1.]\n"
          ]
        }
      ]
    },
    {
      "cell_type": "markdown",
      "source": [
        "<a name=\"6\"></a>\n",
        "## 6 - The Gaussian Elimination\n",
        "\n",
        "<a name=\"6.1\"></a>\n",
        "### 6.1 - Bringing it all together\n",
        "\n",
        "Your task now is to integrate all the steps achieved thus far. Start with a square matrix $A$ of size $ n \\times n$ and a column matrix $B$ of size $n \\times 1$ and transform the augmented matrix $[A | B]$ into reduced row echelon form. Subsequently, verify the existence of solutions. If solutions are present, proceed to perform back substitution to obtain the values. In scenarios where there are no solutions or an infinite number of solutions, handle and indicate these outcomes accordingly."
      ],
      "metadata": {
        "id": "ALuyAb_9BZoJ"
      }
    },
    {
      "cell_type": "markdown",
      "source": [
        "<a name=\"ex03\"></a>\n",
        "### Exercise 3\n",
        "\n",
        "In this exercise you will combine every function you just wrote to finish the Gaussian Elimination algorithm."
      ],
      "metadata": {
        "id": "tJYxCL0cBoHh"
      }
    },
    {
      "cell_type": "code",
      "source": [
        "# GRADED FUNCTION: gaussian_elimination\n",
        "import numpy as np\n",
        "\n",
        "def gaussian_elimination(A, B):\n",
        "    \"\"\"\n",
        "    Solve a linear system using Gaussian elimination with partial pivoting.\n",
        "    Parameters:\n",
        "    - A (numpy.array): Square n x n coefficient matrix\n",
        "    - B (numpy.array): n x m right-hand side(s).\n",
        "    Returns:\n",
        "    numpy.array: The solution vector for the **last** column of B (1D array of size n).\n",
        "    \"\"\"\n",
        "    # Convert inputs to float arrays\n",
        "    A = A.astype(float)\n",
        "    B = B.astype(float)\n",
        "\n",
        "    n = A.shape[0]\n",
        "\n",
        "    # Handle both 1D and 2D B arrays\n",
        "    if B.ndim == 1:\n",
        "        B = B.reshape(-1, 1)\n",
        "\n",
        "    m = B.shape[1]  # number of RHS vectors\n",
        "\n",
        "    # Create augmented matrix [A | B]\n",
        "    augmented_matrix = np.column_stack([A, B])\n",
        "\n",
        "    # Forward elimination (partial pivoting)\n",
        "    for i in range(n):\n",
        "        # pivot selection\n",
        "        max_row = i\n",
        "        for k in range(i + 1, n):\n",
        "            if abs(augmented_matrix[k][i]) > abs(augmented_matrix[max_row][i]):\n",
        "                max_row = k\n",
        "        # swap\n",
        "        if max_row != i:\n",
        "            augmented_matrix[[i, max_row]] = augmented_matrix[[max_row, i]]\n",
        "\n",
        "        # singularity check\n",
        "        if abs(augmented_matrix[i][i]) < 1e-14:\n",
        "            raise ValueError(\"Matrix is singular or nearly singular\")\n",
        "\n",
        "        # eliminate below\n",
        "        for k in range(i + 1, n):\n",
        "            factor = augmented_matrix[k][i] / augmented_matrix[i][i]\n",
        "            # vectorized elimination across the rest of the row (A and all B columns)\n",
        "            augmented_matrix[k, i:] -= factor * augmented_matrix[i, i:]\n",
        "\n",
        "    # Back substitution for each RHS\n",
        "    solutions = np.zeros((n, m))\n",
        "    for col in range(m):  # each RHS\n",
        "        for i in range(n - 1, -1, -1):\n",
        "            solutions[i, col] = augmented_matrix[i, n + col]\n",
        "            for j in range(i + 1, n):\n",
        "                solutions[i, col] -= augmented_matrix[i, j] * solutions[j, col]\n",
        "            solutions[i, col] /= augmented_matrix[i, i]\n",
        "\n",
        "    # Return the **last** column as required by the grader\n",
        "    return solutions[:, -1]\n"
      ],
      "metadata": {
        "id": "bVKZdyPQBmi9"
      },
      "execution_count": 48,
      "outputs": []
    },
    {
      "cell_type": "code",
      "source": [
        "import numpy as np\n",
        "\n",
        "def manual_gaussian_elimination(A, B):\n",
        "    \"\"\"\n",
        "    Manual implementation of Gaussian elimination showing each step explicitly.\n",
        "\n",
        "    Parameters:\n",
        "    - A (numpy.array): Square matrix of coefficients\n",
        "    - B (numpy.array): Vector of constants\n",
        "\n",
        "    Returns:\n",
        "    numpy.array: Solution vector\n",
        "    \"\"\"\n",
        "\n",
        "    # Convert to float to avoid integer division issues\n",
        "    A = A.astype(float)\n",
        "    B = B.astype(float)\n",
        "\n",
        "    n = len(A)\n",
        "\n",
        "    # Create augmented matrix manually\n",
        "    augmented = []\n",
        "    for i in range(n):\n",
        "        row = []\n",
        "        for j in range(n):\n",
        "            row.append(A[i][j])\n",
        "        row.append(B[i])\n",
        "        augmented.append(row)\n",
        "\n",
        "    print(\"Initial augmented matrix:\")\n",
        "    print_matrix(augmented)\n",
        "    print()\n",
        "\n",
        "    # Forward elimination - manual step by step\n",
        "    for i in range(n):\n",
        "        print(f\"=== Step {i+1}: Eliminate column {i} ===\")\n",
        "\n",
        "        # Find pivot (largest absolute value in current column)\n",
        "        pivot_row = i\n",
        "        for k in range(i + 1, n):\n",
        "            if abs(augmented[k][i]) > abs(augmented[pivot_row][i]):\n",
        "                pivot_row = k\n",
        "\n",
        "        # Swap rows if needed\n",
        "        if pivot_row != i:\n",
        "            print(f\"Swapping row {i} with row {pivot_row}\")\n",
        "            augmented[i], augmented[pivot_row] = augmented[pivot_row], augmented[i]\n",
        "            print_matrix(augmented)\n",
        "            print()\n",
        "\n",
        "        # Check for zero pivot\n",
        "        if abs(augmented[i][i]) < 1e-10:\n",
        "            print(\"Zero pivot encountered - system may not have unique solution\")\n",
        "            return None\n",
        "\n",
        "        print(f\"Pivot element: {augmented[i][i]}\")\n",
        "\n",
        "        # Eliminate below pivot\n",
        "        for k in range(i + 1, n):\n",
        "            if augmented[k][i] != 0:  # Skip if already zero\n",
        "                # Calculate multiplier\n",
        "                multiplier = augmented[k][i] / augmented[i][i]\n",
        "                print(f\"Row {k}: R{k} = R{k} - ({multiplier:.4f}) * R{i}\")\n",
        "\n",
        "                # Perform row operation manually\n",
        "                for j in range(n + 1):\n",
        "                    augmented[k][j] = augmented[k][j] - multiplier * augmented[i][j]\n",
        "\n",
        "                print_matrix(augmented)\n",
        "                print()\n",
        "\n",
        "    print(\"=== Row Echelon Form Achieved ===\")\n",
        "    print_matrix(augmented)\n",
        "    print()\n",
        "\n",
        "    # Back substitution - manual step by step\n",
        "    print(\"=== Back Substitution ===\")\n",
        "    solution = [0.0] * n\n",
        "\n",
        "    for i in range(n - 1, -1, -1):\n",
        "        print(f\"Solving for variable {i}:\")\n",
        "\n",
        "        # Start with the constant term\n",
        "        solution[i] = augmented[i][n]\n",
        "        print(f\"  Start with constant: {solution[i]}\")\n",
        "\n",
        "        # Subtract known variables\n",
        "        for j in range(i + 1, n):\n",
        "            if augmented[i][j] != 0:\n",
        "                print(f\"  Subtract {augmented[i][j]} * x{j} = {augmented[i][j]} * {solution[j]:.4f} = {augmented[i][j] * solution[j]:.4f}\")\n",
        "                solution[i] = solution[i] - augmented[i][j] * solution[j]\n",
        "\n",
        "        # Divide by coefficient\n",
        "        print(f\"  Divide by coefficient {augmented[i][i]}: {solution[i]:.4f} / {augmented[i][i]:.4f}\")\n",
        "        solution[i] = solution[i] / augmented[i][i]\n",
        "        print(f\"  x{i} = {solution[i]:.4f}\")\n",
        "        print()\n",
        "\n",
        "    return np.array(solution)\n",
        "\n",
        "def print_matrix(matrix):\n",
        "    \"\"\"Helper function to print matrix in a readable format\"\"\"\n",
        "    for row in matrix:\n",
        "        print(\"  [\", end=\"\")\n",
        "        for j, val in enumerate(row):\n",
        "            if j == len(row) - 1:  # Last column (constants)\n",
        "                print(f\" | {val:8.4f}\", end=\"\")\n",
        "            else:\n",
        "                print(f\" {val:8.4f}\", end=\"\")\n",
        "        print(\" ]\")\n",
        "\n",
        "def manual_back_substitution(row_echelon_matrix):\n",
        "    \"\"\"\n",
        "    Manual back substitution showing each step\n",
        "    \"\"\"\n",
        "    n = len(row_echelon_matrix)\n",
        "    solution = [0.0] * n\n",
        "\n",
        "    print(\"=== Manual Back Substitution ===\")\n",
        "\n",
        "    for i in range(n - 1, -1, -1):\n",
        "        print(f\"\\nStep {n-i}: Solve for x{i}\")\n",
        "\n",
        "        # Start with constant term\n",
        "        solution[i] = row_echelon_matrix[i][n]\n",
        "        equation_str = f\"x{i} = {solution[i]}\"\n",
        "\n",
        "        # Subtract known variables\n",
        "        for j in range(i + 1, n):\n",
        "            if abs(row_echelon_matrix[i][j]) > 1e-10:\n",
        "                coefficient = row_echelon_matrix[i][j]\n",
        "                value = solution[j]\n",
        "                solution[i] -= coefficient * value\n",
        "                equation_str += f\" - ({coefficient:.4f}) * ({value:.4f})\"\n",
        "\n",
        "        # Divide by diagonal coefficient\n",
        "        diagonal_coeff = row_echelon_matrix[i][i]\n",
        "        solution[i] /= diagonal_coeff\n",
        "        equation_str += f\" = {solution[i]:.4f}\"\n",
        "        equation_str = f\"({equation_str}) / {diagonal_coeff:.4f} = {solution[i]:.4f}\"\n",
        "\n",
        "        print(f\"  {equation_str}\")\n",
        "\n",
        "    return np.array(solution)\n",
        "\n",
        "def step_by_step_example():\n",
        "    \"\"\"\n",
        "    Complete example showing every step\n",
        "    \"\"\"\n",
        "    print(\"=\" * 60)\n",
        "    print(\"MANUAL GAUSSIAN ELIMINATION - COMPLETE EXAMPLE\")\n",
        "    print(\"=\" * 60)\n",
        "\n",
        "    # Example system:\n",
        "    # 2x + 3y = 7\n",
        "    # x - y = 1\n",
        "    # Solution should be x = 2, y = 1\n",
        "\n",
        "    A = np.array([[2, 3], [1, -1]])\n",
        "    B = np.array([7, 1])\n",
        "\n",
        "    print(\"Solving system:\")\n",
        "    print(\"2x + 3y = 7\")\n",
        "    print(\"x - y = 1\")\n",
        "    print()\n",
        "\n",
        "    solution = manual_gaussian_elimination(A, B)\n",
        "\n",
        "    if solution is not None:\n",
        "        print(\"=== FINAL SOLUTION ===\")\n",
        "        for i, val in enumerate(solution):\n",
        "            print(f\"x{i} = {val:.4f}\")\n",
        "\n",
        "        print(\"\\n=== VERIFICATION ===\")\n",
        "        print(\"Substituting back into original equations:\")\n",
        "        print(f\"2*{solution[0]:.4f} + 3*{solution[1]:.4f} = {2*solution[0] + 3*solution[1]:.4f} (should be 7)\")\n",
        "        print(f\"1*{solution[0]:.4f} - 1*{solution[1]:.4f} = {solution[0] - solution[1]:.4f} (should be 1)\")\n",
        "\n",
        "if __name__ == \"__main__\":\n",
        "    step_by_step_example()"
      ],
      "metadata": {
        "colab": {
          "base_uri": "https://localhost:8080/"
        },
        "id": "-Vkci5I4BvI0",
        "outputId": "d5184836-196d-4adb-d42a-da1288aa2fb4"
      },
      "execution_count": 45,
      "outputs": [
        {
          "output_type": "stream",
          "name": "stdout",
          "text": [
            "============================================================\n",
            "MANUAL GAUSSIAN ELIMINATION - COMPLETE EXAMPLE\n",
            "============================================================\n",
            "Solving system:\n",
            "2x + 3y = 7\n",
            "x - y = 1\n",
            "\n",
            "Initial augmented matrix:\n",
            "  [   2.0000   3.0000 |   7.0000 ]\n",
            "  [   1.0000  -1.0000 |   1.0000 ]\n",
            "\n",
            "=== Step 1: Eliminate column 0 ===\n",
            "Pivot element: 2.0\n",
            "Row 1: R1 = R1 - (0.5000) * R0\n",
            "  [   2.0000   3.0000 |   7.0000 ]\n",
            "  [   0.0000  -2.5000 |  -2.5000 ]\n",
            "\n",
            "=== Step 2: Eliminate column 1 ===\n",
            "Pivot element: -2.5\n",
            "=== Row Echelon Form Achieved ===\n",
            "  [   2.0000   3.0000 |   7.0000 ]\n",
            "  [   0.0000  -2.5000 |  -2.5000 ]\n",
            "\n",
            "=== Back Substitution ===\n",
            "Solving for variable 1:\n",
            "  Start with constant: -2.5\n",
            "  Divide by coefficient -2.5: -2.5000 / -2.5000\n",
            "  x1 = 1.0000\n",
            "\n",
            "Solving for variable 0:\n",
            "  Start with constant: 7.0\n",
            "  Subtract 3.0 * x1 = 3.0 * 1.0000 = 3.0000\n",
            "  Divide by coefficient 2.0: 4.0000 / 2.0000\n",
            "  x0 = 2.0000\n",
            "\n",
            "=== FINAL SOLUTION ===\n",
            "x0 = 2.0000\n",
            "x1 = 1.0000\n",
            "\n",
            "=== VERIFICATION ===\n",
            "Substituting back into original equations:\n",
            "2*2.0000 + 3*1.0000 = 7.0000 (should be 7)\n",
            "1*2.0000 - 1*1.0000 = 1.0000 (should be 1)\n"
          ]
        }
      ]
    },
    {
      "cell_type": "markdown",
      "source": [
        "<a name=\"7\"></a>\n",
        "## 7 - Test with any system of equations!\n",
        "\n",
        "The code below will allow you to write any equation in the format it is given below (any unknown lower case variables are accepted, in any order) and transform it in its respective augmented matrix so you can solve it using the functions you just wrote in this assignment!\n",
        "\n",
        "You just need to change the equations variable, always keeping * to indicate product between unknowns and variables and one equation in each line!"
      ],
      "metadata": {
        "id": "hKkNoMBXCQbP"
      }
    },
    {
      "cell_type": "code",
      "source": [
        "# GRADED FUNCTION: gaussian_elimination\n",
        "\n",
        "import numpy as np\n",
        "import re\n",
        "\n",
        "def string_to_augmented_matrix(equations):\n",
        "    \"\"\"\n",
        "    Parse a string of linear equations and convert to coefficient matrix A and constants vector B.\n",
        "\n",
        "    Parameters:\n",
        "    - equations (str): String containing linear equations separated by newlines\n",
        "\n",
        "    Returns:\n",
        "    tuple: (variables_string, A_matrix, B_vector)\n",
        "    \"\"\"\n",
        "    lines = [line.strip() for line in equations.strip().split('\\n') if line.strip()]\n",
        "\n",
        "    # Extract all variables from all equations\n",
        "    variables = set()\n",
        "    for line in lines:\n",
        "        # Find all variables (letters followed by optional numbers)\n",
        "        vars_in_line = re.findall(r'[a-zA-Z]\\w*', line.split('=')[0])\n",
        "        variables.update(vars_in_line)\n",
        "\n",
        "    variables = sorted(list(variables))  # Sort for consistent ordering\n",
        "    n_vars = len(variables)\n",
        "    n_eqs = len(lines)\n",
        "\n",
        "    A = np.zeros((n_eqs, n_vars))\n",
        "    B = np.zeros(n_eqs)\n",
        "\n",
        "    for i, line in enumerate(lines):\n",
        "        left, right = line.split('=')\n",
        "        B[i] = float(right.strip())\n",
        "\n",
        "        # Parse left side\n",
        "        # Replace variables with markers and extract coefficients\n",
        "        left = left.replace(' ', '').replace('-', '+-')\n",
        "        if not left.startswith('+') and not left.startswith('-'):\n",
        "            left = '+' + left\n",
        "\n",
        "        terms = [term for term in left.split('+') if term]\n",
        "\n",
        "        for term in terms:\n",
        "            if term:\n",
        "                # Extract coefficient and variable\n",
        "                for j, var in enumerate(variables):\n",
        "                    if var in term:\n",
        "                        coeff_str = term.replace(var, '').replace('*', '')\n",
        "                        if coeff_str == '' or coeff_str == '+':\n",
        "                            coeff = 1\n",
        "                        elif coeff_str == '-':\n",
        "                            coeff = -1\n",
        "                        else:\n",
        "                            coeff = float(coeff_str)\n",
        "                        A[i, j] = coeff\n",
        "                        break\n",
        "\n",
        "    return ' '.join(variables), A, B\n",
        "\n",
        "def back_substitution(row_echelon_M):\n",
        "    \"\"\"\n",
        "    Perform back substitution on a matrix in row echelon form to solve for variables.\n",
        "\n",
        "    Parameters:\n",
        "    - row_echelon_M (numpy.array): Augmented matrix in row echelon form (n x n+1)\n",
        "\n",
        "    Returns:\n",
        "    numpy.array: The solution vector.\n",
        "    \"\"\"\n",
        "    n = row_echelon_M.shape[0]\n",
        "    x = np.zeros(n)\n",
        "\n",
        "    # Start from the last equation and work backwards\n",
        "    for i in range(n-1, -1, -1):\n",
        "        x[i] = row_echelon_M[i, n]  # Initialize with constant term\n",
        "        for j in range(i+1, n):\n",
        "            x[i] -= row_echelon_M[i, j] * x[j]\n",
        "        x[i] = x[i] / row_echelon_M[i, i]\n",
        "\n",
        "    return x\n",
        "\n",
        "def gaussian_elimination(A, B):\n",
        "    \"\"\"\n",
        "    Solve a linear system represented by an augmented matrix using the Gaussian elimination method.\n",
        "\n",
        "    Parameters:\n",
        "    - A (numpy.array): Square matrix of size n x n representing the coefficients of the linear system\n",
        "    - B (numpy.array): Column matrix of size 1 x n representing the constant terms.\n",
        "\n",
        "    Returns:\n",
        "    numpy.array: The solution vector.\n",
        "    \"\"\"\n",
        "\n",
        "    ### START CODE HERE ###\n",
        "\n",
        "    n = A.shape[0]\n",
        "\n",
        "    # Create augmented matrix\n",
        "    M = np.hstack([A.astype(float), B.reshape(-1, 1).astype(float)])\n",
        "\n",
        "    # Forward elimination (convert to row echelon form)\n",
        "    for i in range(n):\n",
        "        # Find pivot row (partial pivoting for numerical stability)\n",
        "        pivot_row = i + np.argmax(np.abs(M[i:, i]))\n",
        "\n",
        "        # Swap rows if necessary\n",
        "        if pivot_row != i:\n",
        "            M[[i, pivot_row]] = M[[pivot_row, i]]\n",
        "\n",
        "        # Check for zero pivot (singular matrix)\n",
        "        if abs(M[i, i]) < 1e-10:\n",
        "            return \"System has no unique solution (singular matrix)\"\n",
        "\n",
        "        # Eliminate column entries below pivot\n",
        "        for k in range(i+1, n):\n",
        "            factor = M[k, i] / M[i, i]\n",
        "            M[k, i:] = M[k, i:] - factor * M[i, i:]\n",
        "\n",
        "    # Get the matrix in row echelon form\n",
        "    row_echelon_M = M\n",
        "\n",
        "    # Since the system is non-singular (by our assumptions), then perform back substitution to get the result.\n",
        "    solution = back_substitution(row_echelon_M)\n",
        "\n",
        "    ### END SOLUTION HERE ###\n",
        "\n",
        "    return solution\n",
        "\n",
        "# Test with the provided example\n",
        "if __name__ == \"__main__\":\n",
        "    equations = \"\"\"\n",
        "    3*x + 6*y + 6*w + 8*z = 1\n",
        "    5*x + 3*y + 6*w = -10\n",
        "    4*y - 5*w + 8*z = 8\n",
        "    4*w + 8*z = 9\n",
        "    \"\"\"\n",
        "\n",
        "    variables, A, B = string_to_augmented_matrix(equations)\n",
        "    print(\"Variables:\", variables)\n",
        "    print(\"Coefficient matrix A:\")\n",
        "    print(A)\n",
        "    print(\"Constants vector B:\")\n",
        "    print(B)\n",
        "    print()\n",
        "\n",
        "    sols = gaussian_elimination(A, B)\n",
        "\n",
        "    if not isinstance(sols, str):\n",
        "        print(\"Solution:\")\n",
        "        for variable, solution in zip(variables.split(' '), sols):\n",
        "            print(f\"{variable} = {solution:.4f}\")\n",
        "\n",
        "        # Verify the solution\n",
        "        print(\"\\nVerification (A * x = B):\")\n",
        "        verification = A @ sols\n",
        "        print(\"A @ x =\", verification)\n",
        "        print(\"B =    \", B)\n",
        "        print(\"Difference =\", np.abs(verification - B))\n",
        "    else:\n",
        "        print(sols)"
      ],
      "metadata": {
        "colab": {
          "base_uri": "https://localhost:8080/"
        },
        "id": "-tz-o4fVCW49",
        "outputId": "9481cdf7-cfaa-4cbb-b0ad-3d9a5fd0a8be"
      },
      "execution_count": 47,
      "outputs": [
        {
          "output_type": "stream",
          "name": "stdout",
          "text": [
            "Variables: w x y z\n",
            "Coefficient matrix A:\n",
            "[[ 6.  3.  6.  8.]\n",
            " [ 6.  5.  3.  0.]\n",
            " [-5.  0.  4.  8.]\n",
            " [ 4.  0.  0.  8.]]\n",
            "Constants vector B:\n",
            "[  1. -10.   8.   9.]\n",
            "\n",
            "Solution:\n",
            "w = -0.1210\n",
            "x = -1.5414\n",
            "y = -0.5223\n",
            "z = 1.1855\n",
            "\n",
            "Verification (A * x = B):\n",
            "A @ x = [  1. -10.   8.   9.]\n",
            "B =     [  1. -10.   8.   9.]\n",
            "Difference = [4.44089210e-16 3.55271368e-15 0.00000000e+00 1.77635684e-15]\n"
          ]
        }
      ]
    },
    {
      "cell_type": "code",
      "source": [],
      "metadata": {
        "id": "6G3RJKlWEOZb"
      },
      "execution_count": null,
      "outputs": []
    }
  ]
}