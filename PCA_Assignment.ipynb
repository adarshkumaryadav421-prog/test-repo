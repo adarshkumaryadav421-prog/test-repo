{
  "nbformat": 4,
  "nbformat_minor": 0,
  "metadata": {
    "colab": {
      "provenance": [],
      "authorship_tag": "ABX9TyOBzoDtYacMvvb6LnMzcjNl",
      "include_colab_link": true
    },
    "kernelspec": {
      "name": "python3",
      "display_name": "Python 3"
    },
    "language_info": {
      "name": "python"
    }
  },
  "cells": [
    {
      "cell_type": "markdown",
      "metadata": {
        "id": "view-in-github",
        "colab_type": "text"
      },
      "source": [
        "<a href=\"https://colab.research.google.com/github/adarshkumaryadav421-prog/test-repo/blob/main/PCA_Assignment.ipynb\" target=\"_parent\"><img src=\"https://colab.research.google.com/assets/colab-badge.svg\" alt=\"Open In Colab\"/></a>"
      ]
    },
    {
      "cell_type": "markdown",
      "source": [
        "#  Eigenvalues and Eigenvectors"
      ],
      "metadata": {
        "id": "xzk-9wOa3D_Z"
      }
    },
    {
      "cell_type": "markdown",
      "source": [
        "Welcome to the last assignment of this course and congratulations for making it this far. In this final assignment you will use your knowledge of linear algebra and your skills using Python and NumPy to address some real-world scenarios where linear algebra is actually used to solve and simplify problems.\n",
        "\n",
        "**After this assignment you will be able to:**\n",
        "- apply linear transformations, eigenvalues and eigenvectors in a webpage navigation model\n",
        "- apply PCA on a dataset to reduce its dimensions\n",
        "\n",
        "## Important Note\n",
        "\n",
        "Please **do not** delete any exercise cells or add your solutions in different cells. **Keep your solution in the original cell provided**; failing to do so will disrupt the autograder.\n",
        "\n",
        "Additionally, **do not import any new libraries**, and **avoid importing libraries within any cell designated for grading**, as this will also interfere with the autograder's functionality."
      ],
      "metadata": {
        "id": "mebphQj83I9O"
      }
    },
    {
      "cell_type": "markdown",
      "source": [
        "# Table of Contents\n",
        "- [ 1 - Application of Eigenvalues and Eigenvectors: Navigating Webpages](#1)\n",
        "  - [ Exercise 1](#ex01)\n",
        "  - [ Exercise 2](#ex02)\n",
        "- [ 2 - Application of Eigenvalues and Eigenvectors: Principal Component Analysis](#2)\n",
        "  - [2.1 Load the data](#2.1)\n",
        "  - [2.2 Get the covariance matrix](#2.2)\n",
        "    - [ Exercise 3](#ex03)\n",
        "    - [ Exercise 4](#ex04)\n",
        "  - [ 2.3 - Compute the eigenvalues and eigenvectors](#2.3)\n",
        "  - [ 2.4 Transform the centered data with PCA](#2.4)\n",
        "    - [ Exercise 5](#ex05)\n",
        "  - [ 2.5 Analyzing the dimensionality reduction in 2 dimensions](#2.5)\n",
        "  - [ 2.6 Reconstructing the images from the eigenvectors](#2.6)\n",
        "  - [ 2.7 Explained variance](#2.7)"
      ],
      "metadata": {
        "id": "HNNAKkRG3QcD"
      }
    },
    {
      "cell_type": "markdown",
      "source": [
        "## Packages\n",
        "\n",
        "Run the following cell to load the packages you'll need."
      ],
      "metadata": {
        "id": "U5y1GuSF3YEh"
      }
    },
    {
      "cell_type": "markdown",
      "source": [
        "Load the utils module and the unit tests defined for this notebook."
      ],
      "metadata": {
        "id": "G4nHMXuj3lAX"
      }
    },
    {
      "cell_type": "code",
      "source": [
        "# Basic utilities installation for Google Colab\n",
        "\n",
        "# Update pip first\n",
        "!pip install --upgrade pip\n",
        "\n",
        "# Data science and machine learning utilities\n",
        "!pip install pandas numpy matplotlib seaborn plotly\n",
        "!pip install scikit-learn scipy statsmodels\n",
        "!pip install jupyter-widgets ipywidgets\n",
        "\n",
        "# Deep learning frameworks\n",
        "!pip install torch torchvision torchaudio --index-url https://download.pytorch.org/whl/cu118\n",
        "!pip install tensorflow keras\n",
        "\n",
        "# Computer vision utilities\n",
        "!pip install opencv-python pillow imageio\n",
        "\n",
        "# Natural language processing\n",
        "!pip install nltk spacy transformers\n",
        "\n",
        "# Web scraping and APIs\n",
        "!pip install requests beautifulsoup4 selenium\n",
        "\n",
        "# File handling utilities\n",
        "!pip install openpyxl xlrd h5py\n",
        "\n",
        "# Visualization enhancements\n",
        "!pip install wordcloud bokeh altair\n",
        "\n",
        "# Development utilities\n",
        "!pip install tqdm joblib pickle5\n",
        "\n",
        "# Google-specific utilities\n",
        "!pip install google-colab-utils\n",
        "!pip install pydrive\n",
        "\n",
        "# Enable widgets for Jupyter\n",
        "from google.colab import output\n",
        "output.enable_custom_widget_manager()\n",
        "\n",
        "# Import commonly used libraries to verify installation\n",
        "import pandas as pd\n",
        "import numpy as np\n",
        "import matplotlib.pyplot as plt\n",
        "import seaborn as sns\n",
        "\n",
        "print(\"✅ All utilities installed successfully!\")\n",
        "print(\"📊 Ready for data science and machine learning tasks!\")\n",
        "\n",
        "# Optional: Download spacy language model\n",
        "!python -m spacy download en_core_web_sm"
      ],
      "metadata": {
        "colab": {
          "base_uri": "https://localhost:8080/"
        },
        "id": "DCfIiKIa3ooF",
        "outputId": "efddd5d9-a575-45a1-e56a-56805a54a473"
      },
      "execution_count": null,
      "outputs": [
        {
          "output_type": "stream",
          "name": "stdout",
          "text": [
            "Requirement already satisfied: pip in /usr/local/lib/python3.12/dist-packages (25.2)\n",
            "Requirement already satisfied: pandas in /usr/local/lib/python3.12/dist-packages (2.2.2)\n",
            "Requirement already satisfied: numpy in /usr/local/lib/python3.12/dist-packages (2.0.2)\n",
            "Requirement already satisfied: matplotlib in /usr/local/lib/python3.12/dist-packages (3.10.0)\n",
            "Requirement already satisfied: seaborn in /usr/local/lib/python3.12/dist-packages (0.13.2)\n",
            "Requirement already satisfied: plotly in /usr/local/lib/python3.12/dist-packages (5.24.1)\n",
            "Requirement already satisfied: python-dateutil>=2.8.2 in /usr/local/lib/python3.12/dist-packages (from pandas) (2.9.0.post0)\n",
            "Requirement already satisfied: pytz>=2020.1 in /usr/local/lib/python3.12/dist-packages (from pandas) (2025.2)\n",
            "Requirement already satisfied: tzdata>=2022.7 in /usr/local/lib/python3.12/dist-packages (from pandas) (2025.2)\n",
            "Requirement already satisfied: contourpy>=1.0.1 in /usr/local/lib/python3.12/dist-packages (from matplotlib) (1.3.3)\n",
            "Requirement already satisfied: cycler>=0.10 in /usr/local/lib/python3.12/dist-packages (from matplotlib) (0.12.1)\n",
            "Requirement already satisfied: fonttools>=4.22.0 in /usr/local/lib/python3.12/dist-packages (from matplotlib) (4.59.1)\n",
            "Requirement already satisfied: kiwisolver>=1.3.1 in /usr/local/lib/python3.12/dist-packages (from matplotlib) (1.4.9)\n",
            "Requirement already satisfied: packaging>=20.0 in /usr/local/lib/python3.12/dist-packages (from matplotlib) (25.0)\n",
            "Requirement already satisfied: pillow>=8 in /usr/local/lib/python3.12/dist-packages (from matplotlib) (11.3.0)\n",
            "Requirement already satisfied: pyparsing>=2.3.1 in /usr/local/lib/python3.12/dist-packages (from matplotlib) (3.2.3)\n",
            "Requirement already satisfied: tenacity>=6.2.0 in /usr/local/lib/python3.12/dist-packages (from plotly) (8.5.0)\n",
            "Requirement already satisfied: six>=1.5 in /usr/local/lib/python3.12/dist-packages (from python-dateutil>=2.8.2->pandas) (1.17.0)\n",
            "Requirement already satisfied: scikit-learn in /usr/local/lib/python3.12/dist-packages (1.6.1)\n",
            "Requirement already satisfied: scipy in /usr/local/lib/python3.12/dist-packages (1.16.1)\n",
            "Requirement already satisfied: statsmodels in /usr/local/lib/python3.12/dist-packages (0.14.5)\n",
            "Requirement already satisfied: numpy>=1.19.5 in /usr/local/lib/python3.12/dist-packages (from scikit-learn) (2.0.2)\n",
            "Requirement already satisfied: joblib>=1.2.0 in /usr/local/lib/python3.12/dist-packages (from scikit-learn) (1.5.1)\n",
            "Requirement already satisfied: threadpoolctl>=3.1.0 in /usr/local/lib/python3.12/dist-packages (from scikit-learn) (3.6.0)\n",
            "Requirement already satisfied: pandas!=2.1.0,>=1.4 in /usr/local/lib/python3.12/dist-packages (from statsmodels) (2.2.2)\n",
            "Requirement already satisfied: patsy>=0.5.6 in /usr/local/lib/python3.12/dist-packages (from statsmodels) (1.0.1)\n",
            "Requirement already satisfied: packaging>=21.3 in /usr/local/lib/python3.12/dist-packages (from statsmodels) (25.0)\n",
            "Requirement already satisfied: python-dateutil>=2.8.2 in /usr/local/lib/python3.12/dist-packages (from pandas!=2.1.0,>=1.4->statsmodels) (2.9.0.post0)\n",
            "Requirement already satisfied: pytz>=2020.1 in /usr/local/lib/python3.12/dist-packages (from pandas!=2.1.0,>=1.4->statsmodels) (2025.2)\n",
            "Requirement already satisfied: tzdata>=2022.7 in /usr/local/lib/python3.12/dist-packages (from pandas!=2.1.0,>=1.4->statsmodels) (2025.2)\n",
            "Requirement already satisfied: six>=1.5 in /usr/local/lib/python3.12/dist-packages (from python-dateutil>=2.8.2->pandas!=2.1.0,>=1.4->statsmodels) (1.17.0)\n",
            "\u001b[31mERROR: Could not find a version that satisfies the requirement jupyter-widgets (from versions: none)\u001b[0m\u001b[31m\n",
            "\u001b[0m\u001b[31mERROR: No matching distribution found for jupyter-widgets\u001b[0m\u001b[31m\n",
            "\u001b[0mLooking in indexes: https://download.pytorch.org/whl/cu118\n",
            "Requirement already satisfied: torch in /usr/local/lib/python3.12/dist-packages (2.8.0+cu126)\n",
            "Requirement already satisfied: torchvision in /usr/local/lib/python3.12/dist-packages (0.23.0+cu126)\n",
            "Requirement already satisfied: torchaudio in /usr/local/lib/python3.12/dist-packages (2.8.0+cu126)\n",
            "Requirement already satisfied: filelock in /usr/local/lib/python3.12/dist-packages (from torch) (3.19.1)\n",
            "Requirement already satisfied: typing-extensions>=4.10.0 in /usr/local/lib/python3.12/dist-packages (from torch) (4.14.1)\n",
            "Requirement already satisfied: setuptools in /usr/local/lib/python3.12/dist-packages (from torch) (75.2.0)\n",
            "Requirement already satisfied: sympy>=1.13.3 in /usr/local/lib/python3.12/dist-packages (from torch) (1.13.3)\n",
            "Requirement already satisfied: networkx in /usr/local/lib/python3.12/dist-packages (from torch) (3.5)\n",
            "Requirement already satisfied: jinja2 in /usr/local/lib/python3.12/dist-packages (from torch) (3.1.6)\n",
            "Requirement already satisfied: fsspec in /usr/local/lib/python3.12/dist-packages (from torch) (2025.3.0)\n",
            "Requirement already satisfied: nvidia-cuda-nvrtc-cu12==12.6.77 in /usr/local/lib/python3.12/dist-packages (from torch) (12.6.77)\n",
            "Requirement already satisfied: nvidia-cuda-runtime-cu12==12.6.77 in /usr/local/lib/python3.12/dist-packages (from torch) (12.6.77)\n",
            "Requirement already satisfied: nvidia-cuda-cupti-cu12==12.6.80 in /usr/local/lib/python3.12/dist-packages (from torch) (12.6.80)\n",
            "Requirement already satisfied: nvidia-cudnn-cu12==9.10.2.21 in /usr/local/lib/python3.12/dist-packages (from torch) (9.10.2.21)\n",
            "Requirement already satisfied: nvidia-cublas-cu12==12.6.4.1 in /usr/local/lib/python3.12/dist-packages (from torch) (12.6.4.1)\n",
            "Requirement already satisfied: nvidia-cufft-cu12==11.3.0.4 in /usr/local/lib/python3.12/dist-packages (from torch) (11.3.0.4)\n",
            "Requirement already satisfied: nvidia-curand-cu12==10.3.7.77 in /usr/local/lib/python3.12/dist-packages (from torch) (10.3.7.77)\n",
            "Requirement already satisfied: nvidia-cusolver-cu12==11.7.1.2 in /usr/local/lib/python3.12/dist-packages (from torch) (11.7.1.2)\n",
            "Requirement already satisfied: nvidia-cusparse-cu12==12.5.4.2 in /usr/local/lib/python3.12/dist-packages (from torch) (12.5.4.2)\n",
            "Requirement already satisfied: nvidia-cusparselt-cu12==0.7.1 in /usr/local/lib/python3.12/dist-packages (from torch) (0.7.1)\n",
            "Requirement already satisfied: nvidia-nccl-cu12==2.27.3 in /usr/local/lib/python3.12/dist-packages (from torch) (2.27.3)\n",
            "Requirement already satisfied: nvidia-nvtx-cu12==12.6.77 in /usr/local/lib/python3.12/dist-packages (from torch) (12.6.77)\n",
            "Requirement already satisfied: nvidia-nvjitlink-cu12==12.6.85 in /usr/local/lib/python3.12/dist-packages (from torch) (12.6.85)\n",
            "Requirement already satisfied: nvidia-cufile-cu12==1.11.1.6 in /usr/local/lib/python3.12/dist-packages (from torch) (1.11.1.6)\n",
            "Requirement already satisfied: triton==3.4.0 in /usr/local/lib/python3.12/dist-packages (from torch) (3.4.0)\n",
            "Requirement already satisfied: numpy in /usr/local/lib/python3.12/dist-packages (from torchvision) (2.0.2)\n",
            "Requirement already satisfied: pillow!=8.3.*,>=5.3.0 in /usr/local/lib/python3.12/dist-packages (from torchvision) (11.3.0)\n",
            "Requirement already satisfied: mpmath<1.4,>=1.1.0 in /usr/local/lib/python3.12/dist-packages (from sympy>=1.13.3->torch) (1.3.0)\n",
            "Requirement already satisfied: MarkupSafe>=2.0 in /usr/local/lib/python3.12/dist-packages (from jinja2->torch) (3.0.2)\n",
            "Requirement already satisfied: tensorflow in /usr/local/lib/python3.12/dist-packages (2.19.0)\n",
            "Requirement already satisfied: keras in /usr/local/lib/python3.12/dist-packages (3.10.0)\n",
            "Requirement already satisfied: absl-py>=1.0.0 in /usr/local/lib/python3.12/dist-packages (from tensorflow) (1.4.0)\n",
            "Requirement already satisfied: astunparse>=1.6.0 in /usr/local/lib/python3.12/dist-packages (from tensorflow) (1.6.3)\n",
            "Requirement already satisfied: flatbuffers>=24.3.25 in /usr/local/lib/python3.12/dist-packages (from tensorflow) (25.2.10)\n",
            "Requirement already satisfied: gast!=0.5.0,!=0.5.1,!=0.5.2,>=0.2.1 in /usr/local/lib/python3.12/dist-packages (from tensorflow) (0.6.0)\n",
            "Requirement already satisfied: google-pasta>=0.1.1 in /usr/local/lib/python3.12/dist-packages (from tensorflow) (0.2.0)\n",
            "Requirement already satisfied: libclang>=13.0.0 in /usr/local/lib/python3.12/dist-packages (from tensorflow) (18.1.1)\n",
            "Requirement already satisfied: opt-einsum>=2.3.2 in /usr/local/lib/python3.12/dist-packages (from tensorflow) (3.4.0)\n",
            "Requirement already satisfied: packaging in /usr/local/lib/python3.12/dist-packages (from tensorflow) (25.0)\n",
            "Requirement already satisfied: protobuf!=4.21.0,!=4.21.1,!=4.21.2,!=4.21.3,!=4.21.4,!=4.21.5,<6.0.0dev,>=3.20.3 in /usr/local/lib/python3.12/dist-packages (from tensorflow) (5.29.5)\n",
            "Requirement already satisfied: requests<3,>=2.21.0 in /usr/local/lib/python3.12/dist-packages (from tensorflow) (2.32.4)\n",
            "Requirement already satisfied: setuptools in /usr/local/lib/python3.12/dist-packages (from tensorflow) (75.2.0)\n",
            "Requirement already satisfied: six>=1.12.0 in /usr/local/lib/python3.12/dist-packages (from tensorflow) (1.17.0)\n",
            "Requirement already satisfied: termcolor>=1.1.0 in /usr/local/lib/python3.12/dist-packages (from tensorflow) (3.1.0)\n",
            "Requirement already satisfied: typing-extensions>=3.6.6 in /usr/local/lib/python3.12/dist-packages (from tensorflow) (4.14.1)\n",
            "Requirement already satisfied: wrapt>=1.11.0 in /usr/local/lib/python3.12/dist-packages (from tensorflow) (1.17.3)\n",
            "Requirement already satisfied: grpcio<2.0,>=1.24.3 in /usr/local/lib/python3.12/dist-packages (from tensorflow) (1.74.0)\n",
            "Requirement already satisfied: tensorboard~=2.19.0 in /usr/local/lib/python3.12/dist-packages (from tensorflow) (2.19.0)\n",
            "Requirement already satisfied: numpy<2.2.0,>=1.26.0 in /usr/local/lib/python3.12/dist-packages (from tensorflow) (2.0.2)\n",
            "Requirement already satisfied: h5py>=3.11.0 in /usr/local/lib/python3.12/dist-packages (from tensorflow) (3.14.0)\n",
            "Requirement already satisfied: ml-dtypes<1.0.0,>=0.5.1 in /usr/local/lib/python3.12/dist-packages (from tensorflow) (0.5.3)\n",
            "Requirement already satisfied: charset_normalizer<4,>=2 in /usr/local/lib/python3.12/dist-packages (from requests<3,>=2.21.0->tensorflow) (3.4.3)\n",
            "Requirement already satisfied: idna<4,>=2.5 in /usr/local/lib/python3.12/dist-packages (from requests<3,>=2.21.0->tensorflow) (3.10)\n",
            "Requirement already satisfied: urllib3<3,>=1.21.1 in /usr/local/lib/python3.12/dist-packages (from requests<3,>=2.21.0->tensorflow) (2.5.0)\n",
            "Requirement already satisfied: certifi>=2017.4.17 in /usr/local/lib/python3.12/dist-packages (from requests<3,>=2.21.0->tensorflow) (2025.8.3)\n",
            "Requirement already satisfied: markdown>=2.6.8 in /usr/local/lib/python3.12/dist-packages (from tensorboard~=2.19.0->tensorflow) (3.8.2)\n",
            "Requirement already satisfied: tensorboard-data-server<0.8.0,>=0.7.0 in /usr/local/lib/python3.12/dist-packages (from tensorboard~=2.19.0->tensorflow) (0.7.2)\n",
            "Requirement already satisfied: werkzeug>=1.0.1 in /usr/local/lib/python3.12/dist-packages (from tensorboard~=2.19.0->tensorflow) (3.1.3)\n",
            "Requirement already satisfied: rich in /usr/local/lib/python3.12/dist-packages (from keras) (13.9.4)\n",
            "Requirement already satisfied: namex in /usr/local/lib/python3.12/dist-packages (from keras) (0.1.0)\n",
            "Requirement already satisfied: optree in /usr/local/lib/python3.12/dist-packages (from keras) (0.17.0)\n",
            "Requirement already satisfied: wheel<1.0,>=0.23.0 in /usr/local/lib/python3.12/dist-packages (from astunparse>=1.6.0->tensorflow) (0.45.1)\n",
            "Requirement already satisfied: MarkupSafe>=2.1.1 in /usr/local/lib/python3.12/dist-packages (from werkzeug>=1.0.1->tensorboard~=2.19.0->tensorflow) (3.0.2)\n",
            "Requirement already satisfied: markdown-it-py>=2.2.0 in /usr/local/lib/python3.12/dist-packages (from rich->keras) (4.0.0)\n",
            "Requirement already satisfied: pygments<3.0.0,>=2.13.0 in /usr/local/lib/python3.12/dist-packages (from rich->keras) (2.19.2)\n",
            "Requirement already satisfied: mdurl~=0.1 in /usr/local/lib/python3.12/dist-packages (from markdown-it-py>=2.2.0->rich->keras) (0.1.2)\n",
            "Requirement already satisfied: opencv-python in /usr/local/lib/python3.12/dist-packages (4.12.0.88)\n",
            "Requirement already satisfied: pillow in /usr/local/lib/python3.12/dist-packages (11.3.0)\n",
            "Requirement already satisfied: imageio in /usr/local/lib/python3.12/dist-packages (2.37.0)\n",
            "Requirement already satisfied: numpy<2.3.0,>=2 in /usr/local/lib/python3.12/dist-packages (from opencv-python) (2.0.2)\n",
            "Requirement already satisfied: nltk in /usr/local/lib/python3.12/dist-packages (3.9.1)\n",
            "Requirement already satisfied: spacy in /usr/local/lib/python3.12/dist-packages (3.8.7)\n",
            "Requirement already satisfied: transformers in /usr/local/lib/python3.12/dist-packages (4.55.2)\n",
            "Requirement already satisfied: click in /usr/local/lib/python3.12/dist-packages (from nltk) (8.2.1)\n",
            "Requirement already satisfied: joblib in /usr/local/lib/python3.12/dist-packages (from nltk) (1.5.1)\n",
            "Requirement already satisfied: regex>=2021.8.3 in /usr/local/lib/python3.12/dist-packages (from nltk) (2024.11.6)\n",
            "Requirement already satisfied: tqdm in /usr/local/lib/python3.12/dist-packages (from nltk) (4.67.1)\n",
            "Requirement already satisfied: spacy-legacy<3.1.0,>=3.0.11 in /usr/local/lib/python3.12/dist-packages (from spacy) (3.0.12)\n",
            "Requirement already satisfied: spacy-loggers<2.0.0,>=1.0.0 in /usr/local/lib/python3.12/dist-packages (from spacy) (1.0.5)\n",
            "Requirement already satisfied: murmurhash<1.1.0,>=0.28.0 in /usr/local/lib/python3.12/dist-packages (from spacy) (1.0.13)\n",
            "Requirement already satisfied: cymem<2.1.0,>=2.0.2 in /usr/local/lib/python3.12/dist-packages (from spacy) (2.0.11)\n",
            "Requirement already satisfied: preshed<3.1.0,>=3.0.2 in /usr/local/lib/python3.12/dist-packages (from spacy) (3.0.10)\n",
            "Requirement already satisfied: thinc<8.4.0,>=8.3.4 in /usr/local/lib/python3.12/dist-packages (from spacy) (8.3.6)\n",
            "Requirement already satisfied: wasabi<1.2.0,>=0.9.1 in /usr/local/lib/python3.12/dist-packages (from spacy) (1.1.3)\n",
            "Requirement already satisfied: srsly<3.0.0,>=2.4.3 in /usr/local/lib/python3.12/dist-packages (from spacy) (2.5.1)\n",
            "Requirement already satisfied: catalogue<2.1.0,>=2.0.6 in /usr/local/lib/python3.12/dist-packages (from spacy) (2.0.10)\n",
            "Requirement already satisfied: weasel<0.5.0,>=0.1.0 in /usr/local/lib/python3.12/dist-packages (from spacy) (0.4.1)\n",
            "Requirement already satisfied: typer<1.0.0,>=0.3.0 in /usr/local/lib/python3.12/dist-packages (from spacy) (0.16.0)\n",
            "Requirement already satisfied: numpy>=1.19.0 in /usr/local/lib/python3.12/dist-packages (from spacy) (2.0.2)\n",
            "Requirement already satisfied: requests<3.0.0,>=2.13.0 in /usr/local/lib/python3.12/dist-packages (from spacy) (2.32.4)\n",
            "Requirement already satisfied: pydantic!=1.8,!=1.8.1,<3.0.0,>=1.7.4 in /usr/local/lib/python3.12/dist-packages (from spacy) (2.11.7)\n",
            "Requirement already satisfied: jinja2 in /usr/local/lib/python3.12/dist-packages (from spacy) (3.1.6)\n",
            "Requirement already satisfied: setuptools in /usr/local/lib/python3.12/dist-packages (from spacy) (75.2.0)\n",
            "Requirement already satisfied: packaging>=20.0 in /usr/local/lib/python3.12/dist-packages (from spacy) (25.0)\n",
            "Requirement already satisfied: langcodes<4.0.0,>=3.2.0 in /usr/local/lib/python3.12/dist-packages (from spacy) (3.5.0)\n",
            "Requirement already satisfied: language-data>=1.2 in /usr/local/lib/python3.12/dist-packages (from langcodes<4.0.0,>=3.2.0->spacy) (1.3.0)\n",
            "Requirement already satisfied: annotated-types>=0.6.0 in /usr/local/lib/python3.12/dist-packages (from pydantic!=1.8,!=1.8.1,<3.0.0,>=1.7.4->spacy) (0.7.0)\n",
            "Requirement already satisfied: pydantic-core==2.33.2 in /usr/local/lib/python3.12/dist-packages (from pydantic!=1.8,!=1.8.1,<3.0.0,>=1.7.4->spacy) (2.33.2)\n",
            "Requirement already satisfied: typing-extensions>=4.12.2 in /usr/local/lib/python3.12/dist-packages (from pydantic!=1.8,!=1.8.1,<3.0.0,>=1.7.4->spacy) (4.14.1)\n",
            "Requirement already satisfied: typing-inspection>=0.4.0 in /usr/local/lib/python3.12/dist-packages (from pydantic!=1.8,!=1.8.1,<3.0.0,>=1.7.4->spacy) (0.4.1)\n",
            "Requirement already satisfied: charset_normalizer<4,>=2 in /usr/local/lib/python3.12/dist-packages (from requests<3.0.0,>=2.13.0->spacy) (3.4.3)\n",
            "Requirement already satisfied: idna<4,>=2.5 in /usr/local/lib/python3.12/dist-packages (from requests<3.0.0,>=2.13.0->spacy) (3.10)\n",
            "Requirement already satisfied: urllib3<3,>=1.21.1 in /usr/local/lib/python3.12/dist-packages (from requests<3.0.0,>=2.13.0->spacy) (2.5.0)\n",
            "Requirement already satisfied: certifi>=2017.4.17 in /usr/local/lib/python3.12/dist-packages (from requests<3.0.0,>=2.13.0->spacy) (2025.8.3)\n",
            "Requirement already satisfied: blis<1.4.0,>=1.3.0 in /usr/local/lib/python3.12/dist-packages (from thinc<8.4.0,>=8.3.4->spacy) (1.3.0)\n",
            "Requirement already satisfied: confection<1.0.0,>=0.0.1 in /usr/local/lib/python3.12/dist-packages (from thinc<8.4.0,>=8.3.4->spacy) (0.1.5)\n",
            "Requirement already satisfied: shellingham>=1.3.0 in /usr/local/lib/python3.12/dist-packages (from typer<1.0.0,>=0.3.0->spacy) (1.5.4)\n",
            "Requirement already satisfied: rich>=10.11.0 in /usr/local/lib/python3.12/dist-packages (from typer<1.0.0,>=0.3.0->spacy) (13.9.4)\n",
            "Requirement already satisfied: cloudpathlib<1.0.0,>=0.7.0 in /usr/local/lib/python3.12/dist-packages (from weasel<0.5.0,>=0.1.0->spacy) (0.21.1)\n",
            "Requirement already satisfied: smart-open<8.0.0,>=5.2.1 in /usr/local/lib/python3.12/dist-packages (from weasel<0.5.0,>=0.1.0->spacy) (7.3.0.post1)\n",
            "Requirement already satisfied: wrapt in /usr/local/lib/python3.12/dist-packages (from smart-open<8.0.0,>=5.2.1->weasel<0.5.0,>=0.1.0->spacy) (1.17.3)\n",
            "Requirement already satisfied: filelock in /usr/local/lib/python3.12/dist-packages (from transformers) (3.19.1)\n",
            "Requirement already satisfied: huggingface-hub<1.0,>=0.34.0 in /usr/local/lib/python3.12/dist-packages (from transformers) (0.34.4)\n",
            "Requirement already satisfied: pyyaml>=5.1 in /usr/local/lib/python3.12/dist-packages (from transformers) (6.0.2)\n",
            "Requirement already satisfied: tokenizers<0.22,>=0.21 in /usr/local/lib/python3.12/dist-packages (from transformers) (0.21.4)\n",
            "Requirement already satisfied: safetensors>=0.4.3 in /usr/local/lib/python3.12/dist-packages (from transformers) (0.6.2)\n",
            "Requirement already satisfied: fsspec>=2023.5.0 in /usr/local/lib/python3.12/dist-packages (from huggingface-hub<1.0,>=0.34.0->transformers) (2025.3.0)\n",
            "Requirement already satisfied: hf-xet<2.0.0,>=1.1.3 in /usr/local/lib/python3.12/dist-packages (from huggingface-hub<1.0,>=0.34.0->transformers) (1.1.7)\n",
            "Requirement already satisfied: marisa-trie>=1.1.0 in /usr/local/lib/python3.12/dist-packages (from language-data>=1.2->langcodes<4.0.0,>=3.2.0->spacy) (1.3.0)\n",
            "Requirement already satisfied: markdown-it-py>=2.2.0 in /usr/local/lib/python3.12/dist-packages (from rich>=10.11.0->typer<1.0.0,>=0.3.0->spacy) (4.0.0)\n",
            "Requirement already satisfied: pygments<3.0.0,>=2.13.0 in /usr/local/lib/python3.12/dist-packages (from rich>=10.11.0->typer<1.0.0,>=0.3.0->spacy) (2.19.2)\n",
            "Requirement already satisfied: mdurl~=0.1 in /usr/local/lib/python3.12/dist-packages (from markdown-it-py>=2.2.0->rich>=10.11.0->typer<1.0.0,>=0.3.0->spacy) (0.1.2)\n",
            "Requirement already satisfied: MarkupSafe>=2.0 in /usr/local/lib/python3.12/dist-packages (from jinja2->spacy) (3.0.2)\n",
            "Requirement already satisfied: requests in /usr/local/lib/python3.12/dist-packages (2.32.4)\n",
            "Requirement already satisfied: beautifulsoup4 in /usr/local/lib/python3.12/dist-packages (4.13.4)\n",
            "Requirement already satisfied: selenium in /usr/local/lib/python3.12/dist-packages (4.35.0)\n",
            "Requirement already satisfied: charset_normalizer<4,>=2 in /usr/local/lib/python3.12/dist-packages (from requests) (3.4.3)\n",
            "Requirement already satisfied: idna<4,>=2.5 in /usr/local/lib/python3.12/dist-packages (from requests) (3.10)\n",
            "Requirement already satisfied: urllib3<3,>=1.21.1 in /usr/local/lib/python3.12/dist-packages (from requests) (2.5.0)\n",
            "Requirement already satisfied: certifi>=2017.4.17 in /usr/local/lib/python3.12/dist-packages (from requests) (2025.8.3)\n",
            "Requirement already satisfied: soupsieve>1.2 in /usr/local/lib/python3.12/dist-packages (from beautifulsoup4) (2.7)\n",
            "Requirement already satisfied: typing-extensions>=4.0.0 in /usr/local/lib/python3.12/dist-packages (from beautifulsoup4) (4.14.1)\n",
            "Requirement already satisfied: trio~=0.30.0 in /usr/local/lib/python3.12/dist-packages (from selenium) (0.30.0)\n",
            "Requirement already satisfied: trio-websocket~=0.12.2 in /usr/local/lib/python3.12/dist-packages (from selenium) (0.12.2)\n",
            "Requirement already satisfied: websocket-client~=1.8.0 in /usr/local/lib/python3.12/dist-packages (from selenium) (1.8.0)\n",
            "Requirement already satisfied: attrs>=23.2.0 in /usr/local/lib/python3.12/dist-packages (from trio~=0.30.0->selenium) (25.3.0)\n",
            "Requirement already satisfied: sortedcontainers in /usr/local/lib/python3.12/dist-packages (from trio~=0.30.0->selenium) (2.4.0)\n",
            "Requirement already satisfied: outcome in /usr/local/lib/python3.12/dist-packages (from trio~=0.30.0->selenium) (1.3.0.post0)\n",
            "Requirement already satisfied: sniffio>=1.3.0 in /usr/local/lib/python3.12/dist-packages (from trio~=0.30.0->selenium) (1.3.1)\n",
            "Requirement already satisfied: wsproto>=0.14 in /usr/local/lib/python3.12/dist-packages (from trio-websocket~=0.12.2->selenium) (1.2.0)\n",
            "Requirement already satisfied: pysocks!=1.5.7,<2.0,>=1.5.6 in /usr/local/lib/python3.12/dist-packages (from urllib3[socks]<3.0,>=2.5.0->selenium) (1.7.1)\n",
            "Requirement already satisfied: h11<1,>=0.9.0 in /usr/local/lib/python3.12/dist-packages (from wsproto>=0.14->trio-websocket~=0.12.2->selenium) (0.16.0)\n",
            "Requirement already satisfied: openpyxl in /usr/local/lib/python3.12/dist-packages (3.1.5)\n",
            "Requirement already satisfied: xlrd in /usr/local/lib/python3.12/dist-packages (2.0.2)\n",
            "Requirement already satisfied: h5py in /usr/local/lib/python3.12/dist-packages (3.14.0)\n",
            "Requirement already satisfied: et-xmlfile in /usr/local/lib/python3.12/dist-packages (from openpyxl) (2.0.0)\n",
            "Requirement already satisfied: numpy>=1.19.3 in /usr/local/lib/python3.12/dist-packages (from h5py) (2.0.2)\n",
            "Requirement already satisfied: wordcloud in /usr/local/lib/python3.12/dist-packages (1.9.4)\n",
            "Requirement already satisfied: bokeh in /usr/local/lib/python3.12/dist-packages (3.7.3)\n",
            "Requirement already satisfied: altair in /usr/local/lib/python3.12/dist-packages (5.5.0)\n",
            "Requirement already satisfied: numpy>=1.6.1 in /usr/local/lib/python3.12/dist-packages (from wordcloud) (2.0.2)\n",
            "Requirement already satisfied: pillow in /usr/local/lib/python3.12/dist-packages (from wordcloud) (11.3.0)\n",
            "Requirement already satisfied: matplotlib in /usr/local/lib/python3.12/dist-packages (from wordcloud) (3.10.0)\n",
            "Requirement already satisfied: Jinja2>=2.9 in /usr/local/lib/python3.12/dist-packages (from bokeh) (3.1.6)\n",
            "Requirement already satisfied: contourpy>=1.2 in /usr/local/lib/python3.12/dist-packages (from bokeh) (1.3.3)\n",
            "Requirement already satisfied: narwhals>=1.13 in /usr/local/lib/python3.12/dist-packages (from bokeh) (2.1.2)\n",
            "Requirement already satisfied: packaging>=16.8 in /usr/local/lib/python3.12/dist-packages (from bokeh) (25.0)\n",
            "Requirement already satisfied: pandas>=1.2 in /usr/local/lib/python3.12/dist-packages (from bokeh) (2.2.2)\n",
            "Requirement already satisfied: PyYAML>=3.10 in /usr/local/lib/python3.12/dist-packages (from bokeh) (6.0.2)\n",
            "Requirement already satisfied: tornado>=6.2 in /usr/local/lib/python3.12/dist-packages (from bokeh) (6.4.2)\n",
            "Requirement already satisfied: xyzservices>=2021.09.1 in /usr/local/lib/python3.12/dist-packages (from bokeh) (2025.4.0)\n",
            "Requirement already satisfied: jsonschema>=3.0 in /usr/local/lib/python3.12/dist-packages (from altair) (4.25.1)\n",
            "Requirement already satisfied: typing-extensions>=4.10.0 in /usr/local/lib/python3.12/dist-packages (from altair) (4.14.1)\n",
            "Requirement already satisfied: MarkupSafe>=2.0 in /usr/local/lib/python3.12/dist-packages (from Jinja2>=2.9->bokeh) (3.0.2)\n",
            "Requirement already satisfied: attrs>=22.2.0 in /usr/local/lib/python3.12/dist-packages (from jsonschema>=3.0->altair) (25.3.0)\n",
            "Requirement already satisfied: jsonschema-specifications>=2023.03.6 in /usr/local/lib/python3.12/dist-packages (from jsonschema>=3.0->altair) (2025.4.1)\n",
            "Requirement already satisfied: referencing>=0.28.4 in /usr/local/lib/python3.12/dist-packages (from jsonschema>=3.0->altair) (0.36.2)\n",
            "Requirement already satisfied: rpds-py>=0.7.1 in /usr/local/lib/python3.12/dist-packages (from jsonschema>=3.0->altair) (0.27.0)\n",
            "Requirement already satisfied: python-dateutil>=2.8.2 in /usr/local/lib/python3.12/dist-packages (from pandas>=1.2->bokeh) (2.9.0.post0)\n",
            "Requirement already satisfied: pytz>=2020.1 in /usr/local/lib/python3.12/dist-packages (from pandas>=1.2->bokeh) (2025.2)\n",
            "Requirement already satisfied: tzdata>=2022.7 in /usr/local/lib/python3.12/dist-packages (from pandas>=1.2->bokeh) (2025.2)\n",
            "Requirement already satisfied: six>=1.5 in /usr/local/lib/python3.12/dist-packages (from python-dateutil>=2.8.2->pandas>=1.2->bokeh) (1.17.0)\n",
            "Requirement already satisfied: cycler>=0.10 in /usr/local/lib/python3.12/dist-packages (from matplotlib->wordcloud) (0.12.1)\n",
            "Requirement already satisfied: fonttools>=4.22.0 in /usr/local/lib/python3.12/dist-packages (from matplotlib->wordcloud) (4.59.1)\n",
            "Requirement already satisfied: kiwisolver>=1.3.1 in /usr/local/lib/python3.12/dist-packages (from matplotlib->wordcloud) (1.4.9)\n",
            "Requirement already satisfied: pyparsing>=2.3.1 in /usr/local/lib/python3.12/dist-packages (from matplotlib->wordcloud) (3.2.3)\n",
            "Requirement already satisfied: tqdm in /usr/local/lib/python3.12/dist-packages (4.67.1)\n",
            "Requirement already satisfied: joblib in /usr/local/lib/python3.12/dist-packages (1.5.1)\n",
            "Collecting pickle5\n",
            "  Using cached pickle5-0.0.11.tar.gz (132 kB)\n",
            "  Preparing metadata (setup.py) ... \u001b[?25l\u001b[?25hdone\n",
            "Building wheels for collected packages: pickle5\n",
            "\u001b[33m  DEPRECATION: Building 'pickle5' using the legacy setup.py bdist_wheel mechanism, which will be removed in a future version. pip 25.3 will enforce this behaviour change. A possible replacement is to use the standardized build interface by setting the `--use-pep517` option, (possibly combined with `--no-build-isolation`), or adding a `pyproject.toml` file to the source tree of 'pickle5'. Discussion can be found at https://github.com/pypa/pip/issues/6334\u001b[0m\u001b[33m\n",
            "\u001b[0m  \u001b[1;31merror\u001b[0m: \u001b[1msubprocess-exited-with-error\u001b[0m\n",
            "  \n",
            "  \u001b[31m×\u001b[0m \u001b[32mpython setup.py bdist_wheel\u001b[0m did not run successfully.\n",
            "  \u001b[31m│\u001b[0m exit code: \u001b[1;36m1\u001b[0m\n",
            "  \u001b[31m╰─>\u001b[0m See above for output.\n",
            "  \n",
            "  \u001b[1;35mnote\u001b[0m: This error originates from a subprocess, and is likely not a problem with pip.\n",
            "  Building wheel for pickle5 (setup.py) ... \u001b[?25lerror\n",
            "\u001b[31m  ERROR: Failed building wheel for pickle5\u001b[0m\u001b[31m\n",
            "\u001b[0m\u001b[?25h  Running setup.py clean for pickle5\n",
            "Failed to build pickle5\n",
            "\u001b[1;31merror\u001b[0m: \u001b[1mfailed-wheel-build-for-install\u001b[0m\n",
            "\n",
            "\u001b[31m×\u001b[0m Failed to build installable wheels for some pyproject.toml based projects\n",
            "\u001b[31m╰─>\u001b[0m pickle5\n",
            "\u001b[31mERROR: Could not find a version that satisfies the requirement google-colab-utils (from versions: none)\u001b[0m\u001b[31m\n",
            "\u001b[0m\u001b[31mERROR: No matching distribution found for google-colab-utils\u001b[0m\u001b[31m\n",
            "\u001b[0mRequirement already satisfied: pydrive in /usr/local/lib/python3.12/dist-packages (1.3.1)\n",
            "Requirement already satisfied: google-api-python-client>=1.2 in /usr/local/lib/python3.12/dist-packages (from pydrive) (2.179.0)\n",
            "Requirement already satisfied: oauth2client>=4.0.0 in /usr/local/lib/python3.12/dist-packages (from pydrive) (4.1.3)\n",
            "Requirement already satisfied: PyYAML>=3.0 in /usr/local/lib/python3.12/dist-packages (from pydrive) (6.0.2)\n",
            "Requirement already satisfied: httplib2<1.0.0,>=0.19.0 in /usr/local/lib/python3.12/dist-packages (from google-api-python-client>=1.2->pydrive) (0.22.0)\n",
            "Requirement already satisfied: google-auth!=2.24.0,!=2.25.0,<3.0.0,>=1.32.0 in /usr/local/lib/python3.12/dist-packages (from google-api-python-client>=1.2->pydrive) (2.38.0)\n",
            "Requirement already satisfied: google-auth-httplib2<1.0.0,>=0.2.0 in /usr/local/lib/python3.12/dist-packages (from google-api-python-client>=1.2->pydrive) (0.2.0)\n",
            "Requirement already satisfied: google-api-core!=2.0.*,!=2.1.*,!=2.2.*,!=2.3.0,<3.0.0,>=1.31.5 in /usr/local/lib/python3.12/dist-packages (from google-api-python-client>=1.2->pydrive) (2.25.1)\n",
            "Requirement already satisfied: uritemplate<5,>=3.0.1 in /usr/local/lib/python3.12/dist-packages (from google-api-python-client>=1.2->pydrive) (4.2.0)\n",
            "Requirement already satisfied: googleapis-common-protos<2.0.0,>=1.56.2 in /usr/local/lib/python3.12/dist-packages (from google-api-core!=2.0.*,!=2.1.*,!=2.2.*,!=2.3.0,<3.0.0,>=1.31.5->google-api-python-client>=1.2->pydrive) (1.70.0)\n",
            "Requirement already satisfied: protobuf!=3.20.0,!=3.20.1,!=4.21.0,!=4.21.1,!=4.21.2,!=4.21.3,!=4.21.4,!=4.21.5,<7.0.0,>=3.19.5 in /usr/local/lib/python3.12/dist-packages (from google-api-core!=2.0.*,!=2.1.*,!=2.2.*,!=2.3.0,<3.0.0,>=1.31.5->google-api-python-client>=1.2->pydrive) (5.29.5)\n",
            "Requirement already satisfied: proto-plus<2.0.0,>=1.22.3 in /usr/local/lib/python3.12/dist-packages (from google-api-core!=2.0.*,!=2.1.*,!=2.2.*,!=2.3.0,<3.0.0,>=1.31.5->google-api-python-client>=1.2->pydrive) (1.26.1)\n",
            "Requirement already satisfied: requests<3.0.0,>=2.18.0 in /usr/local/lib/python3.12/dist-packages (from google-api-core!=2.0.*,!=2.1.*,!=2.2.*,!=2.3.0,<3.0.0,>=1.31.5->google-api-python-client>=1.2->pydrive) (2.32.4)\n",
            "Requirement already satisfied: cachetools<6.0,>=2.0.0 in /usr/local/lib/python3.12/dist-packages (from google-auth!=2.24.0,!=2.25.0,<3.0.0,>=1.32.0->google-api-python-client>=1.2->pydrive) (5.5.2)\n",
            "Requirement already satisfied: pyasn1-modules>=0.2.1 in /usr/local/lib/python3.12/dist-packages (from google-auth!=2.24.0,!=2.25.0,<3.0.0,>=1.32.0->google-api-python-client>=1.2->pydrive) (0.4.2)\n",
            "Requirement already satisfied: rsa<5,>=3.1.4 in /usr/local/lib/python3.12/dist-packages (from google-auth!=2.24.0,!=2.25.0,<3.0.0,>=1.32.0->google-api-python-client>=1.2->pydrive) (4.9.1)\n",
            "Requirement already satisfied: pyparsing!=3.0.0,!=3.0.1,!=3.0.2,!=3.0.3,<4,>=2.4.2 in /usr/local/lib/python3.12/dist-packages (from httplib2<1.0.0,>=0.19.0->google-api-python-client>=1.2->pydrive) (3.2.3)\n",
            "Requirement already satisfied: charset_normalizer<4,>=2 in /usr/local/lib/python3.12/dist-packages (from requests<3.0.0,>=2.18.0->google-api-core!=2.0.*,!=2.1.*,!=2.2.*,!=2.3.0,<3.0.0,>=1.31.5->google-api-python-client>=1.2->pydrive) (3.4.3)\n",
            "Requirement already satisfied: idna<4,>=2.5 in /usr/local/lib/python3.12/dist-packages (from requests<3.0.0,>=2.18.0->google-api-core!=2.0.*,!=2.1.*,!=2.2.*,!=2.3.0,<3.0.0,>=1.31.5->google-api-python-client>=1.2->pydrive) (3.10)\n",
            "Requirement already satisfied: urllib3<3,>=1.21.1 in /usr/local/lib/python3.12/dist-packages (from requests<3.0.0,>=2.18.0->google-api-core!=2.0.*,!=2.1.*,!=2.2.*,!=2.3.0,<3.0.0,>=1.31.5->google-api-python-client>=1.2->pydrive) (2.5.0)\n",
            "Requirement already satisfied: certifi>=2017.4.17 in /usr/local/lib/python3.12/dist-packages (from requests<3.0.0,>=2.18.0->google-api-core!=2.0.*,!=2.1.*,!=2.2.*,!=2.3.0,<3.0.0,>=1.31.5->google-api-python-client>=1.2->pydrive) (2025.8.3)\n",
            "Requirement already satisfied: pyasn1>=0.1.3 in /usr/local/lib/python3.12/dist-packages (from rsa<5,>=3.1.4->google-auth!=2.24.0,!=2.25.0,<3.0.0,>=1.32.0->google-api-python-client>=1.2->pydrive) (0.6.1)\n",
            "Requirement already satisfied: six>=1.6.1 in /usr/local/lib/python3.12/dist-packages (from oauth2client>=4.0.0->pydrive) (1.17.0)\n",
            "✅ All utilities installed successfully!\n",
            "📊 Ready for data science and machine learning tasks!\n",
            "Collecting en-core-web-sm==3.8.0\n",
            "  Downloading https://github.com/explosion/spacy-models/releases/download/en_core_web_sm-3.8.0/en_core_web_sm-3.8.0-py3-none-any.whl (12.8 MB)\n",
            "\u001b[2K     \u001b[90m━━━━━━━━━━━━━━━━━━━━━━━━━━━━━━━━━━━━━━━━\u001b[0m \u001b[32m12.8/12.8 MB\u001b[0m \u001b[31m54.2 MB/s\u001b[0m  \u001b[33m0:00:00\u001b[0m\n",
            "\u001b[?25h\u001b[38;5;2m✔ Download and installation successful\u001b[0m\n",
            "You can now load the package via spacy.load('en_core_web_sm')\n",
            "\u001b[38;5;3m⚠ Restart to reload dependencies\u001b[0m\n",
            "If you are in a Jupyter or Colab notebook, you may need to restart Python in\n",
            "order to load all the package's dependencies. You can do this by selecting the\n",
            "'Restart kernel' or 'Restart runtime' option.\n"
          ]
        }
      ]
    },
    {
      "cell_type": "code",
      "source": [
        "import numpy as np\n",
        "import matplotlib.pyplot as plt\n",
        "import scipy.sparse.linalg"
      ],
      "metadata": {
        "id": "nS0U_XCo6OnP"
      },
      "execution_count": null,
      "outputs": []
    },
    {
      "cell_type": "markdown",
      "source": [
        "Load the utils module and the unit tests defined for this notebook."
      ],
      "metadata": {
        "id": "3MQLoTqb6Tnc"
      }
    },
    {
      "cell_type": "markdown",
      "source": [
        "<a name='1'></a>\n",
        "## 1 - Application of Eigenvalues and Eigenvectors: Navigating Webpages\n",
        "\n",
        "As you learned in the lectures, eigenvalues and eigenvectors play a very important role in what's called (discrete) dynamical systems. As you might recall, a **discrete dynamical system** describes a system where, as time goes by, the state changes according to some process. When defining this dynamical systems you could represent all the possible states, such as sunny, rainy or cloudy, in a vector called the **state vector**.\n",
        "\n",
        "Each discrete dynamical system can be represented by a transition matrix $P$, which indicates, given a particular state, what are the chances or probabilities of moving to each of the other states. This means the element $(2,1)$ of the matrix represents the probability of transitioning from state $1$ to state $2$.\n",
        "\n",
        "Starting with an initial state $X_0$, the transition to the next state $X_1$ is a linear transformation defined by the transition matrix $P$: $X_1=PX_0$. That leads to $X_2=PX_1=P^2X_0$, $X_3=P^3X_0$, and so on. This implies that $X_t=PX_{t-1}$ for $t=0,1,2,3,\\ldots$. In other words, we can keep multiplying by `P` to move from one state to the next.\n",
        "\n",
        "One application of discrete dynamical systems is to model browsing web pages. Web pages often contain links to other pages, so the dynamical system would model how a user goes from one page to another by hopping from link to link. For simplicity, assume that the browser is only following links to a new page rather than navigating to an unlinked one.\n",
        "\n",
        "In this case, the state vector $X_t$ will be the probabilities that the browser is on a particular page at time $t$. Navigation from one page to another advances the model from one state vector $X_{t-1}$ to another state vector $X_t$. A linear transformation, defined by a matrix $P$, will have entries $p_{ij}$ with the probabilities that the browser navigates to page $j$ from page $i$. For fixed column $j$, the entries represent a probability distribution describing location of the browser at the next step, given that you are at state $j$. Thus, the entries in each column must add to 1."
      ],
      "metadata": {
        "id": "yCS0djHW7-V_"
      }
    },
    {
      "cell_type": "markdown",
      "source": [
        "<a name='ex01'></a>\n",
        "### Exercise 1\n",
        "\n",
        "For the sake of the example, consider there are only a small number of pages $n=5$. This means that the transition matrix $P$ will be a $5 \\times 5$ matrix. In this particular case, all elements on the main diagonal should be equal to $0$, since we are making the reasonable assumption that there is no existing link to the current page. Also, as metioned before, all the entries in each column must add to one. Here is an example of such a matrix for $n=5$:\n",
        "\n",
        "$$P=\n",
        "\\begin{bmatrix}\n",
        "0    & 0.75 & 0.35 & 0.25 & 0.85 \\\\\n",
        "0.15 & 0    & 0.35 & 0.25 & 0.05 \\\\\n",
        "0.15 & 0.15 & 0    & 0.25 & 0.05 \\\\\n",
        "0.15 & 0.05 & 0.05 & 0    & 0.05 \\\\\n",
        "0.55 & 0.05 & 0.25 & 0.25 & 0\n",
        "\\end{bmatrix}\\tag{5}\n",
        "$$\n",
        "\n",
        "Define vector $X_0$, so the browser starts navigation at page $4$ ($X_0$ is a vector with a single entry equal to one, and all other entries equal to zero). Apply the transformation once: $X_1=PX_0$ to find a vector of the probabilities that the browser is at each of four pages."
      ],
      "metadata": {
        "id": "r1CX9qsC8DTH"
      }
    },
    {
      "cell_type": "code",
      "source": [
        "import numpy as np\n",
        "\n",
        "P = np.array([\n",
        "    [0, 0.75, 0.35, 0.25, 0.85],\n",
        "    [0.15, 0, 0.35, 0.25, 0.05],\n",
        "    [0.15, 0.15, 0, 0.25, 0.05],\n",
        "    [0.15, 0.05, 0.05, 0, 0.05],\n",
        "    [0.55, 0.05, 0.25, 0.25, 0]\n",
        "])\n",
        "\n",
        "X0 = np.array([[0],[0],[0],[1],[0]])\n",
        "\n",
        "### START CODE HERE ###\n",
        "\n",
        "# Multiply matrix P and X_0 (matrix multiplication).\n",
        "X1 = P @ X0\n",
        "# Alternative: X1 = np.dot(P, X0)\n",
        "\n",
        "### END CODE HERE ###\n",
        "\n",
        "print(f'Sum of columns of P: {sum(P)}')\n",
        "print(f'X1:\\n{X1}')"
      ],
      "metadata": {
        "colab": {
          "base_uri": "https://localhost:8080/"
        },
        "id": "roU-0Yjn6XCn",
        "outputId": "1e41d4d9-1748-4ac0-e6bd-e92a57172919"
      },
      "execution_count": null,
      "outputs": [
        {
          "output_type": "stream",
          "name": "stdout",
          "text": [
            "Sum of columns of P: [1. 1. 1. 1. 1.]\n",
            "X1:\n",
            "[[0.25]\n",
            " [0.25]\n",
            " [0.25]\n",
            " [0.  ]\n",
            " [0.25]]\n"
          ]
        }
      ]
    },
    {
      "cell_type": "code",
      "source": [
        "import numpy as np\n",
        "\n",
        "def test_matrix(P, X0, X1):\n",
        "    \"\"\"\n",
        "    Manual test function to replace w4_unittest.test_matrix(P, X0, X1)\n",
        "    Tests matrix multiplication and validates results\n",
        "    \"\"\"\n",
        "\n",
        "    print(\"🧪 Running manual tests for matrix operations...\")\n",
        "    print(\"=\" * 50)\n",
        "\n",
        "    # Test 1: Check if X1 is the result of P @ X0\n",
        "    expected_X1 = P @ X0\n",
        "\n",
        "    print(\"Test 1: Matrix Multiplication Correctness\")\n",
        "    print(f\"Expected X1:\\n{expected_X1}\")\n",
        "    print(f\"Your X1:\\n{X1}\")\n",
        "\n",
        "    if np.allclose(X1, expected_X1):\n",
        "        print(\"✅ PASS: X1 = P @ X0 is correct\")\n",
        "    else:\n",
        "        print(\"❌ FAIL: X1 is not equal to P @ X0\")\n",
        "        print(f\"Difference:\\n{X1 - expected_X1}\")\n",
        "\n",
        "    print(\"-\" * 30)\n",
        "\n",
        "    # Test 2: Check matrix dimensions\n",
        "    print(\"Test 2: Matrix Dimensions\")\n",
        "    print(f\"P shape: {P.shape}\")\n",
        "    print(f\"X0 shape: {X0.shape}\")\n",
        "    print(f\"X1 shape: {X1.shape}\")\n",
        "\n",
        "    if P.shape == (5, 5) and X0.shape == (5, 1) and X1.shape == (5, 1):\n",
        "        print(\"✅ PASS: All matrices have correct dimensions\")\n",
        "    else:\n",
        "        print(\"❌ FAIL: Matrix dimensions are incorrect\")\n",
        "\n",
        "    print(\"-\" * 30)\n",
        "\n",
        "    # Test 3: Check if P is a valid transition matrix (columns sum to 1)\n",
        "    print(\"Test 3: Transition Matrix Properties\")\n",
        "    col_sums = np.sum(P, axis=0)\n",
        "    print(f\"Column sums of P: {col_sums}\")\n",
        "\n",
        "    if np.allclose(col_sums, 1.0):\n",
        "        print(\"✅ PASS: P is a valid transition matrix (columns sum to 1)\")\n",
        "    else:\n",
        "        print(\"❌ FAIL: P is not a valid transition matrix\")\n",
        "\n",
        "    print(\"-\" * 30)\n",
        "\n",
        "    # Test 4: Check if X0 is a valid state vector (sums to 1)\n",
        "    print(\"Test 4: Initial State Vector Properties\")\n",
        "    x0_sum = np.sum(X0)\n",
        "    print(f\"Sum of X0: {x0_sum}\")\n",
        "\n",
        "    if np.isclose(x0_sum, 1.0):\n",
        "        print(\"✅ PASS: X0 is a valid probability vector (sums to 1)\")\n",
        "    else:\n",
        "        print(\"❌ FAIL: X0 does not sum to 1\")\n",
        "\n",
        "    print(\"-\" * 30)\n",
        "\n",
        "    # Test 5: Check if X1 is a valid state vector (sums to 1)\n",
        "    print(\"Test 5: Result State Vector Properties\")\n",
        "    x1_sum = np.sum(X1)\n",
        "    print(f\"Sum of X1: {x1_sum}\")\n",
        "\n",
        "    if np.isclose(x1_sum, 1.0):\n",
        "        print(\"✅ PASS: X1 is a valid probability vector (sums to 1)\")\n",
        "    else:\n",
        "        print(\"❌ FAIL: X1 does not sum to 1\")\n",
        "\n",
        "    print(\"-\" * 30)\n",
        "\n",
        "    # Test 6: Manual calculation verification\n",
        "    print(\"Test 6: Manual Calculation Verification\")\n",
        "    # Since X0 = [0,0,0,1,0], X1 should be the 4th column of P\n",
        "    expected_column = P[:, 3].reshape(-1, 1)\n",
        "    print(f\"4th column of P (expected result):\\n{expected_column}\")\n",
        "\n",
        "    if np.allclose(X1, expected_column):\n",
        "        print(\"✅ PASS: X1 matches the 4th column of P (correct for X0=[0,0,0,1,0])\")\n",
        "    else:\n",
        "        print(\"❌ FAIL: X1 does not match expected column\")\n",
        "\n",
        "    print(\"=\" * 50)\n",
        "\n",
        "    # Overall result\n",
        "    all_tests = [\n",
        "        np.allclose(X1, expected_X1),\n",
        "        P.shape == (5, 5) and X0.shape == (5, 1) and X1.shape == (5, 1),\n",
        "        np.allclose(col_sums, 1.0),\n",
        "        np.isclose(x0_sum, 1.0),\n",
        "        np.isclose(x1_sum, 1.0),\n",
        "        np.allclose(X1, expected_column)\n",
        "    ]\n",
        "\n",
        "    if all(all_tests):\n",
        "        print(\"🎉 \\033[92m All tests passed \\033[0m\")\n",
        "    else:\n",
        "        failed_tests = sum(1 for test in all_tests if not test)\n",
        "        print(f\"⚠️  {failed_tests} out of {len(all_tests)} tests failed\")\n",
        "\n",
        "    return all(all_tests)\n",
        "\n",
        "# Example usage:\n",
        "# Define your matrices (replace with your actual values)\n",
        "P = np.array([\n",
        "    [0, 0.75, 0.35, 0.25, 0.85],\n",
        "    [0.15, 0, 0.35, 0.25, 0.05],\n",
        "    [0.15, 0.15, 0, 0.25, 0.05],\n",
        "    [0.15, 0.05, 0.05, 0, 0.05],\n",
        "    [0.55, 0.05, 0.25, 0.25, 0]\n",
        "])\n",
        "\n",
        "X0 = np.array([[0],[0],[0],[1],[0]])\n",
        "\n",
        "# Your solution (replace None with your answer)\n",
        "X1 = P @ X0\n",
        "\n",
        "# Run the test\n",
        "test_matrix(P, X0, X1)"
      ],
      "metadata": {
        "colab": {
          "base_uri": "https://localhost:8080/"
        },
        "id": "_MYQJx1U8Ian",
        "outputId": "f09541cc-0f5e-47f6-9c11-4f6d33dba5ec"
      },
      "execution_count": null,
      "outputs": [
        {
          "output_type": "stream",
          "name": "stdout",
          "text": [
            "🧪 Running manual tests for matrix operations...\n",
            "==================================================\n",
            "Test 1: Matrix Multiplication Correctness\n",
            "Expected X1:\n",
            "[[0.25]\n",
            " [0.25]\n",
            " [0.25]\n",
            " [0.  ]\n",
            " [0.25]]\n",
            "Your X1:\n",
            "[[0.25]\n",
            " [0.25]\n",
            " [0.25]\n",
            " [0.  ]\n",
            " [0.25]]\n",
            "✅ PASS: X1 = P @ X0 is correct\n",
            "------------------------------\n",
            "Test 2: Matrix Dimensions\n",
            "P shape: (5, 5)\n",
            "X0 shape: (5, 1)\n",
            "X1 shape: (5, 1)\n",
            "✅ PASS: All matrices have correct dimensions\n",
            "------------------------------\n",
            "Test 3: Transition Matrix Properties\n",
            "Column sums of P: [1. 1. 1. 1. 1.]\n",
            "✅ PASS: P is a valid transition matrix (columns sum to 1)\n",
            "------------------------------\n",
            "Test 4: Initial State Vector Properties\n",
            "Sum of X0: 1\n",
            "✅ PASS: X0 is a valid probability vector (sums to 1)\n",
            "------------------------------\n",
            "Test 5: Result State Vector Properties\n",
            "Sum of X1: 1.0\n",
            "✅ PASS: X1 is a valid probability vector (sums to 1)\n",
            "------------------------------\n",
            "Test 6: Manual Calculation Verification\n",
            "4th column of P (expected result):\n",
            "[[0.25]\n",
            " [0.25]\n",
            " [0.25]\n",
            " [0.  ]\n",
            " [0.25]]\n",
            "✅ PASS: X1 matches the 4th column of P (correct for X0=[0,0,0,1,0])\n",
            "==================================================\n",
            "🎉 \u001b[92m All tests passed \u001b[0m\n"
          ]
        },
        {
          "output_type": "execute_result",
          "data": {
            "text/plain": [
              "True"
            ]
          },
          "metadata": {},
          "execution_count": 10
        }
      ]
    },
    {
      "cell_type": "markdown",
      "source": [
        "Applying the transformation $m$ times you can find a vector $X_m$ with the probabilities of the browser being at each of the pages after $m$ steps of navigation."
      ],
      "metadata": {
        "id": "v2n_DUfP8x6r"
      }
    },
    {
      "cell_type": "code",
      "source": [
        "X = np.array([[0],[0],[0],[1],[0]])\n",
        "m = 20\n",
        "\n",
        "for t in range(m):\n",
        "    X = P @ X\n",
        "\n",
        "print(X)"
      ],
      "metadata": {
        "colab": {
          "base_uri": "https://localhost:8080/"
        },
        "id": "QpFJ0whL8r2u",
        "outputId": "29a4d79f-8633-48b6-9698-2893d4da9d9d"
      },
      "execution_count": null,
      "outputs": [
        {
          "output_type": "stream",
          "name": "stdout",
          "text": [
            "[[0.39392366]\n",
            " [0.13392366]\n",
            " [0.11407667]\n",
            " [0.0850993 ]\n",
            " [0.27297672]]\n"
          ]
        }
      ]
    },
    {
      "cell_type": "markdown",
      "source": [
        "It is useful to predict the probabilities in $X_m$ when $m$ is large, and thus determine what pages a browser is more likely to visit after a long period of browsing the web. In other words, we want to know which pages ultimately get the most traffic. One way to do that is just apply the transformation many times, and with this small $5 \\times 5$ example you can do that just fine. In real life problems, however, you'll have enormous matrices and doing so will be computationally expensive. Here is where eigenvalues and eigenvectors can help here significantly reducing the amount of calculations. Let's see how!"
      ],
      "metadata": {
        "id": "3lnOMzMg9HIY"
      }
    },
    {
      "cell_type": "markdown",
      "source": [
        "Begin by finding eigenvalues and eigenvectors for the previously defined matrix $P$:"
      ],
      "metadata": {
        "id": "1abbvQJX9Kr6"
      }
    },
    {
      "cell_type": "code",
      "source": [
        "eigenvals, eigenvecs = np.linalg.eig(P)\n",
        "print(f'Eigenvalues of P:\\n{eigenvals}\\n\\nEigenvectors of P\\n{eigenvecs}')"
      ],
      "metadata": {
        "colab": {
          "base_uri": "https://localhost:8080/"
        },
        "id": "Cv9WooZj85Dc",
        "outputId": "1b7d5670-b988-4fd1-a37f-a5d3149ebbf7"
      },
      "execution_count": null,
      "outputs": [
        {
          "output_type": "stream",
          "name": "stdout",
          "text": [
            "Eigenvalues of P:\n",
            "[ 1.         -0.70367062  0.00539505 -0.08267227 -0.21905217]\n",
            "\n",
            "Eigenvectors of P\n",
            "[[-0.76088562 -0.81362074  0.10935376  0.14270615 -0.39408574]\n",
            " [-0.25879453  0.050269   -0.6653158   0.67528802 -0.66465044]\n",
            " [-0.2204546   0.07869601 -0.29090665  0.17007443  0.35048734]\n",
            " [-0.1644783   0.12446953  0.19740707 -0.43678067  0.23311487]\n",
            " [-0.52766004  0.56018621  0.64946163 -0.55128793  0.47513398]]\n"
          ]
        }
      ]
    },
    {
      "cell_type": "markdown",
      "source": [
        "As you can see, there is one eigenvalue with value $1$, and the other four have an aboslute values smaller than 1. It turns out this is a property of transition matrices. In fact, they have so many properties that these types of matrices fall into a category of matrices called **Markov matrix**.\n",
        "\n",
        "In general, a square matrix whose entries are all nonnegative, and the sum of the elements for each column is equal to $1$ is called a **Markov matrix**. Markov matrices have a handy property - they always have an eigenvalue equal to 1. As you learned in the lectures, in the case of transition matrices, the eigenvector associated with the eigenvalue $1$ will determine the state of the model in the long run , after evolving for a long period of time.\n",
        "\n",
        "You can easily verify that the matrix $P$ you defined earlier is in fact a Markov matrix.\n",
        "So, if $m$ is large enough, the equation $X_m=PX_{m-1}$ can be rewritten as $X_m=PX_{m-1}=1\\times X_m$. This means that predicting probabilities at time $m$, when $m$ is large you can simply just look for an eigenvector corresponding to the eigenvalue $1$.\n",
        "\n",
        "So, let's extract the eigenvector associated to the eigenvalue $1$."
      ],
      "metadata": {
        "id": "raU118e-9z3o"
      }
    },
    {
      "cell_type": "code",
      "source": [
        "X_inf = eigenvecs[:,0]\n",
        "\n",
        "print(f\"Eigenvector corresponding to the eigenvalue 1:\\n{X_inf[:,np.newaxis]}\")"
      ],
      "metadata": {
        "colab": {
          "base_uri": "https://localhost:8080/"
        },
        "id": "hs5eIlUQ9QRC",
        "outputId": "0f41f0f6-e239-45e6-cdec-0d53acc08ab2"
      },
      "execution_count": null,
      "outputs": [
        {
          "output_type": "stream",
          "name": "stdout",
          "text": [
            "Eigenvector corresponding to the eigenvalue 1:\n",
            "[[-0.76088562]\n",
            " [-0.25879453]\n",
            " [-0.2204546 ]\n",
            " [-0.1644783 ]\n",
            " [-0.52766004]]\n"
          ]
        }
      ]
    },
    {
      "cell_type": "markdown",
      "source": [
        "<a name='ex02'></a>\n",
        "### Exercise 2\n",
        "\n",
        "Just to verify the results, perform matrix multiplication $PX$ (multiply matrix `P` and vector `X_inf`) to check that the result will be equal to the vector $X$ (`X_inf`)."
      ],
      "metadata": {
        "id": "mUYFo04h-Mwm"
      }
    },
    {
      "cell_type": "code",
      "source": [
        "# This is organised as a function only for grading purposes.\n",
        "def check_eigenvector(P, X_inf):\n",
        "    ### START CODE HERE ###\n",
        "    X_check = P @ X_inf\n",
        "    ### END CODE HERE ###\n",
        "    return X_check\n",
        "\n",
        "X_check = check_eigenvector(P, X_inf)\n",
        "print(\"Original eigenvector corresponding to the eigenvalue 1:\\n\" + str(X_inf))\n",
        "print(\"Result of multiplication:\" + str(X_check))\n",
        "\n",
        "# Function np.isclose compares two NumPy arrays element by element, allowing for error tolerance (rtol parameter).\n",
        "print(\"Check that PX=X element by element:\" + str(np.isclose(X_inf, X_check, rtol=1e-10)))"
      ],
      "metadata": {
        "colab": {
          "base_uri": "https://localhost:8080/"
        },
        "id": "2R_rZ8nr9_YR",
        "outputId": "7d997918-f7dd-4f4e-da54-4ebeeda0ad33"
      },
      "execution_count": null,
      "outputs": [
        {
          "output_type": "stream",
          "name": "stdout",
          "text": [
            "Original eigenvector corresponding to the eigenvalue 1:\n",
            "[-0.76088562 -0.25879453 -0.2204546  -0.1644783  -0.52766004]\n",
            "Result of multiplication:[-0.76088562 -0.25879453 -0.2204546  -0.1644783  -0.52766004]\n",
            "Check that PX=X element by element:[ True  True  True  True  True]\n"
          ]
        }
      ]
    },
    {
      "cell_type": "code",
      "metadata": {
        "colab": {
          "base_uri": "https://localhost:8080/"
        },
        "id": "5f727562",
        "outputId": "4d5da949-399b-4681-b388-d2610b844073"
      },
      "source": [
        "def manual_test_check_eigenvector():\n",
        "    \"\"\"\n",
        "    Manual test for the check_eigenvector function.\n",
        "    Uses a simple 2x2 matrix and its known eigenvector for eigenvalue 1.\n",
        "    \"\"\"\n",
        "    print(\"🧪 Running manual test for check_eigenvector...\")\n",
        "\n",
        "    # Define a simple 2x2 transition matrix\n",
        "    # Columns sum to 1, and it has an eigenvalue of 1\n",
        "    P_test = np.array([\n",
        "        [0.5, 0.3],\n",
        "        [0.5, 0.7]\n",
        "    ])\n",
        "\n",
        "    # Define the eigenvector for eigenvalue 1 for P_test\n",
        "    # You can calculate this manually or using np.linalg.eig\n",
        "    # For P_test, the eigenvector for eigenvalue 1 is proportional to [0.3, 0.5]\n",
        "    # We normalize it so the sum is 1, representing probabilities\n",
        "    X_inf_test = np.array([[0.375], [0.625]]) # Normalized [0.3, 0.5]\n",
        "\n",
        "    print(f\"Test matrix P_test:\\n{P_test}\")\n",
        "    print(f\"Test eigenvector X_inf_test (for eigenvalue 1):\\n{X_inf_test}\")\n",
        "\n",
        "    # Call the function to be tested\n",
        "    X_check_test = check_eigenvector(P_test, X_inf_test)\n",
        "\n",
        "    print(f\"Result of P_test @ X_inf_test:\\n{X_check_test}\")\n",
        "\n",
        "    # Check if the result is close to the original eigenvector\n",
        "    is_close = np.allclose(X_inf_test, X_check_test, rtol=1e-10)\n",
        "\n",
        "    print(f\"Check that P_test @ X_inf_test is close to X_inf_test: {is_close}\")\n",
        "\n",
        "    if is_close:\n",
        "        print(\"✅ PASS: check_eigenvector test passed\")\n",
        "    else:\n",
        "        print(\"❌ FAIL: check_eigenvector test failed\")\n",
        "        print(f\"Difference:\\n{X_inf_test - X_check_test}\")\n",
        "\n",
        "# Run the manual test\n",
        "manual_test_check_eigenvector()"
      ],
      "execution_count": null,
      "outputs": [
        {
          "output_type": "stream",
          "name": "stdout",
          "text": [
            "🧪 Running manual test for check_eigenvector...\n",
            "Test matrix P_test:\n",
            "[[0.5 0.3]\n",
            " [0.5 0.7]]\n",
            "Test eigenvector X_inf_test (for eigenvalue 1):\n",
            "[[0.375]\n",
            " [0.625]]\n",
            "Result of P_test @ X_inf_test:\n",
            "[[0.375]\n",
            " [0.625]]\n",
            "Check that P_test @ X_inf_test is close to X_inf_test: True\n",
            "✅ PASS: check_eigenvector test passed\n"
          ]
        }
      ]
    },
    {
      "cell_type": "markdown",
      "source": [
        "This result gives the direction of the eigenvector, but as you can see the entries can't be interpreted as probabilities since you have negative values, and they don't add to 1. That's no problem. Remember that by convention `np.eig` returns eigenvectors with norm 1, but actually any vector on the same line is also an eigenvector to the eigenvalue 1, so you can simply scale the vector so that all entries are positive and add to one.This will give you the long-run probabilities of landing on a given web page."
      ],
      "metadata": {
        "id": "_kK37wj7_d_t"
      }
    },
    {
      "cell_type": "code",
      "source": [
        "X_inf = X_inf/sum(X_inf)\n",
        "print(f\"Long-run probabilities of being at each webpage:\\n{X_inf[:,np.newaxis]}\")"
      ],
      "metadata": {
        "colab": {
          "base_uri": "https://localhost:8080/"
        },
        "id": "Dwu_t54i_e2q",
        "outputId": "6aacbcf3-8d14-4eff-8455-7263164852a2"
      },
      "execution_count": null,
      "outputs": [
        {
          "output_type": "stream",
          "name": "stdout",
          "text": [
            "Long-run probabilities of being at each webpage:\n",
            "[[0.39377747]\n",
            " [0.13393269]\n",
            " [0.11409081]\n",
            " [0.08512166]\n",
            " [0.27307736]]\n"
          ]
        }
      ]
    },
    {
      "cell_type": "markdown",
      "source": [
        "This means that after navigating the web for a long time, the probability that the browser is at page 1 is 0.394, of being on page 2 is 0.134, on page 3 0.114, on page 4 0.085, and finally page 5 has a probability of 0.273.\n",
        "\n",
        "Looking at this result you can conclude that page 1 is the most likely for the browser to be at, while page 4 is the least probable one.\n",
        "\n",
        "If you compare the result of `X_inf` with the one you got after evolving the systems 20 times, they are the same up to the third decimal!\n",
        "\n",
        "Here is a fun fact: this type of a model was the foundation of the PageRank algorithm, which is the basis of Google's very successful search engine."
      ],
      "metadata": {
        "id": "iR47IEXA_24z"
      }
    },
    {
      "cell_type": "markdown",
      "source": [
        "<a name='2'></a>\n",
        "## 2 - Application of Eigenvalues and Eigenvectors: Principal Component Analysis\n",
        "\n",
        "As you learned in the lectures, one of the useful applications of eigenvalues and eigenvectors is the dimensionality reduction algorithm called Principal Component Analyisis, or PCA for short.\n",
        "\n",
        "In this second section of the assignment you will be applying PCA on an image dataset to perform image compression.\n",
        "\n",
        "You will be using a portion of the [Cat and dog face](https://www.kaggle.com/datasets/alessiosanna/cat-dog-64x64-pixel/data) dataset from Kaggle. In particular, you will be using the cat images.\n",
        "\n",
        "Remember that to apply PCA on any dataset you will begin by defining the covariance matrix. After that you will compute the eigenvalues and eigenvectors of this covariance matrix. Each of these eigenvectors will be a **principal component**. To perform the dimensionality reduction, you will take the $k$ principal components associated to the $k$ biggest eigenvalues, and transform the original data by projecting it onto the direction of these principal components (eigenvectors).\n",
        "\n",
        "<a name='2.1'></a>\n",
        "### 2.1 - Load the data\n",
        "Begin by loading the images and transforming them to black and white using `load_images` function from utils."
      ],
      "metadata": {
        "id": "x-U62cMBAOk5"
      }
    },
    {
      "cell_type": "markdown",
      "source": [],
      "metadata": {
        "id": "MurWqKN2BrSr"
      }
    },
    {
      "cell_type": "code",
      "source": [
        "# Graded cell\n",
        "def center_data(Y):\n",
        "    \"\"\"\n",
        "    Center your original data\n",
        "    Args:\n",
        "         Y (ndarray): input data. Shape (n_observations x n_pixels)\n",
        "    Outputs:\n",
        "        X (ndarray): centered data\n",
        "    \"\"\"\n",
        "    ### START CODE HERE ###\n",
        "    mean_vector = np.mean(Y, axis=0)\n",
        "    # use np.reshape to reshape into a matrix with the same size as Y. Remember to use order='F'\n",
        "    mean_matrix = np.tile(mean_vector, (Y.shape[0], 1))\n",
        "\n",
        "    X = Y - mean_matrix\n",
        "    ### END CODE HERE ###\n",
        "    return X"
      ],
      "metadata": {
        "id": "z69j1FJDC7d_"
      },
      "execution_count": null,
      "outputs": []
    },
    {
      "cell_type": "code",
      "source": [],
      "metadata": {
        "id": "ix1-WYmaEH_g"
      },
      "execution_count": null,
      "outputs": []
    },
    {
      "cell_type": "code",
      "metadata": {
        "id": "7a9dd9f1"
      },
      "source": [
        "# Graded cell\n",
        "def get_cov_matrix(X):\n",
        "    \"\"\" Calculate covariance matrix from centered data X\n",
        "    Args:\n",
        "        X (np.ndarray): centered data matrix\n",
        "    Outputs:\n",
        "        cov_matrix (np.ndarray): covariance matrix\n",
        "    \"\"\"\n",
        "\n",
        "    ### START CODE HERE ###\n",
        "    # Get the number of observations (rows) and features (columns)\n",
        "    n_observations, n_features = X.shape\n",
        "\n",
        "    # Calculate the covariance matrix using the formula: (X.T @ X) / (n_observations - 1)\n",
        "    cov_matrix = (X.T @ X) / (n_observations - 1)\n",
        "    ### END CODE HERE ###\n",
        "\n",
        "    return cov_matrix"
      ],
      "execution_count": null,
      "outputs": []
    },
    {
      "cell_type": "code",
      "metadata": {
        "id": "046ac201"
      },
      "source": [
        "# GRADED cell\n",
        "def perform_PCA(X, eigenvecs, k):\n",
        "    \"\"\"\n",
        "    Perform dimensionality reduction with PCA\n",
        "    Inputs:\n",
        "        X (ndarray): original data matrix. Has dimensions (n_observations)x(n_variables)\n",
        "        eigenvecs (ndarray): matrix of eigenvectors. Each column is one eigenvector. The k-th eigenvector\n",
        "                            is associated to the k-th eigenvalue\n",
        "        k (int): number of principal components to use\n",
        "    Returns:\n",
        "        Xred\n",
        "    \"\"\"\n",
        "\n",
        "    ### START CODE HERE ###\n",
        "    # Select the first k eigenvectors (principal components)\n",
        "    V = eigenvecs[:, :k]\n",
        "\n",
        "    # Project the centered data onto the selected eigenvectors\n",
        "    Xred = X @ V\n",
        "    ### END CODE HERE ###\n",
        "    return Xred"
      ],
      "execution_count": null,
      "outputs": []
    }
  ]
}