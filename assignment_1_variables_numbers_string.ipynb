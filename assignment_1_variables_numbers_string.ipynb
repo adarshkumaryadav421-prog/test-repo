{
  "cells": [
    {
      "cell_type": "markdown",
      "metadata": {
        "id": "view-in-github",
        "colab_type": "text"
      },
      "source": [
        "<a href=\"https://colab.research.google.com/github/adarshkumaryadav421-prog/test-repo/blob/main/assignment_1_variables_numbers_string.ipynb\" target=\"_parent\"><img src=\"https://colab.research.google.com/assets/colab-badge.svg\" alt=\"Open In Colab\"/></a>"
      ]
    },
    {
      "cell_type": "markdown",
      "metadata": {
        "id": "IOrg8WbTpg0K"
      },
      "source": [
        "<h2 align=\"center\" style=\"color:blue\">Codebasics Python Course: Exercise - Variables, Numbers, Strings</h2>"
      ]
    },
    {
      "cell_type": "markdown",
      "metadata": {
        "id": "QAGsAcQXOm1c"
      },
      "source": [
        "### Task 1\n",
        "\n",
        "Create a variable named pi and store the value 22/7 in it. Now check the data type of this variable."
      ]
    },
    {
      "cell_type": "code",
      "execution_count": 7,
      "metadata": {
        "id": "5DbTb-5gOecw",
        "colab": {
          "base_uri": "https://localhost:8080/"
        },
        "outputId": "89c73108-e449-4604-d320-121b5fb3001e"
      },
      "outputs": [
        {
          "output_type": "execute_result",
          "data": {
            "text/plain": [
              "float"
            ]
          },
          "metadata": {},
          "execution_count": 7
        }
      ],
      "source": [
        "# write your code here\n",
        "pi = 22/7\n",
        "type(pi)"
      ]
    },
    {
      "cell_type": "markdown",
      "metadata": {
        "id": "OpWz40YNpg0O"
      },
      "source": [
        "### Task 2\n",
        "\n",
        "Create a variable called ```for``` and assign it a value 4. See what happens and find out the reason behind the behavior that you see."
      ]
    },
    {
      "cell_type": "code",
      "execution_count": 10,
      "metadata": {
        "colab": {
          "base_uri": "https://localhost:8080/"
        },
        "id": "qHskWLeFPUSa",
        "outputId": "0a646d79-3a82-48f4-fb13-f7724f982ab4"
      },
      "outputs": [
        {
          "output_type": "stream",
          "name": "stdout",
          "text": [
            "4\n"
          ]
        }
      ],
      "source": [
        "# write your code here\n",
        "_for = 4\n",
        "print(_for)"
      ]
    },
    {
      "cell_type": "markdown",
      "metadata": {
        "id": "SjdlDlu0pg0O"
      },
      "source": [
        "### Task 3\n",
        "\n",
        "Below we have defined the variables for storing the principal amount, rate of interest and time. You need to calculate the simple interest for 3 years. Once simple interest is calculated, calculate the total amount you will have at the end of the tenure"
      ]
    },
    {
      "cell_type": "code",
      "execution_count": 11,
      "metadata": {
        "id": "h-7Ro-oVQDVB"
      },
      "outputs": [],
      "source": [
        "principle_amount = 567.00\n",
        "rate_of_interest = 5.6\n",
        "time = 3"
      ]
    },
    {
      "cell_type": "markdown",
      "metadata": {
        "id": "vlTW7195RAUb"
      },
      "source": [
        "Now let's calculate the simple intrest using simple math formula:\n",
        "\n",
        "`simple interest  = P x R x T / 100`\n",
        "\n",
        "where:\n",
        "\n",
        "    P = principle amount\n",
        "    R = rate of interest\n",
        "    T = time\n",
        "\n"
      ]
    },
    {
      "cell_type": "code",
      "execution_count": 13,
      "metadata": {
        "id": "36-AbY5WQemi"
      },
      "outputs": [],
      "source": [
        "# calculate simple interest\n",
        "simple_interest = principle_amount * rate_of_interest * time / 100"
      ]
    },
    {
      "cell_type": "code",
      "execution_count": 15,
      "metadata": {
        "colab": {
          "base_uri": "https://localhost:8080/"
        },
        "id": "6OXTiuuIQyu4",
        "outputId": "1b6304c3-a91e-44de-aca5-e3c57a2b8627"
      },
      "outputs": [
        {
          "output_type": "stream",
          "name": "stdout",
          "text": [
            "662.256\n"
          ]
        }
      ],
      "source": [
        "# calculate total amount after including interest\n"
      ]
    },
    {
      "cell_type": "markdown",
      "metadata": {
        "id": "bhBdNCdJpg0Q"
      },
      "source": [
        "### Task 4\n",
        "\n",
        "There is a circular pond in a village. This pond has a radius of 84 meter. Can you find the area of the pond?"
      ]
    },
    {
      "cell_type": "code",
      "execution_count": 16,
      "metadata": {
        "scrolled": true,
        "colab": {
          "base_uri": "https://localhost:8080/"
        },
        "id": "0SuL5Wmbpg0Q",
        "outputId": "0e80b4ca-4bf0-406b-ce9a-062307bea8e3"
      },
      "outputs": [
        {
          "output_type": "stream",
          "name": "stdout",
          "text": [
            "22155.84\n"
          ]
        }
      ],
      "source": [
        "# write your code here\n",
        "area = 3.14 * 84 ** 2\n",
        "print(area)"
      ]
    },
    {
      "cell_type": "markdown",
      "metadata": {
        "id": "Mx6auBQwpg0Q"
      },
      "source": [
        "### Task 5\n",
        "\n",
        "If there is a 2000 liter water in a square meter, what is the total amount of water in this pond?\n",
        "\n",
        "**Note:** For simplicity, use the value of pi as 3.14."
      ]
    },
    {
      "cell_type": "code",
      "execution_count": 17,
      "metadata": {
        "colab": {
          "base_uri": "https://localhost:8080/"
        },
        "id": "mhdMHyNPpg0Q",
        "outputId": "f9565474-d59a-4fd7-a12b-e6cbe94a2278"
      },
      "outputs": [
        {
          "output_type": "stream",
          "name": "stdout",
          "text": [
            "44311680.0\n"
          ]
        }
      ],
      "source": [
        "# write your code here\n",
        "total_amount_of_water = area * 2000\n",
        "print(total_amount_of_water)\n"
      ]
    },
    {
      "cell_type": "markdown",
      "metadata": {
        "id": "JKZ29QNZpg0Q"
      },
      "source": [
        "### Task 6\n",
        "\n",
        "If you cross a 490-meter-long street in 7 minutes, then what is your speed in meter per seconds. Print your answer with only two decimal points\n",
        "\n",
        "Hint:\n",
        "        Speed = Distance / Time"
      ]
    },
    {
      "cell_type": "code",
      "execution_count": 19,
      "metadata": {
        "colab": {
          "base_uri": "https://localhost:8080/"
        },
        "id": "gzd7-tzzpg0Q",
        "outputId": "54c7482f-3b05-410a-cab7-dd0bc9e1d8d0"
      },
      "outputs": [
        {
          "output_type": "stream",
          "name": "stdout",
          "text": [
            "1.17\n"
          ]
        }
      ],
      "source": [
        "# write your code here\n",
        "Speed = 490 / 420\n",
        "print(round(Speed,2))"
      ]
    },
    {
      "cell_type": "markdown",
      "metadata": {
        "id": "OzlgnV_Tpg0R"
      },
      "source": [
        "### Task 7\n",
        "\n",
        "Create two variables to store how many fruits and vegetables you eat in a day. The value should be numeric for example 3 fruits and 4 vegetables. Now Print \"I eat x vegetables and y fruits daily\" where x and y presents vegetables and fruits that you eat every day. Use python f string for this."
      ]
    },
    {
      "cell_type": "code",
      "execution_count": 20,
      "metadata": {
        "colab": {
          "base_uri": "https://localhost:8080/"
        },
        "id": "7z15flSkpg0R",
        "outputId": "a5943fb0-1a3e-42ce-90b5-ffd124237fac"
      },
      "outputs": [
        {
          "output_type": "stream",
          "name": "stdout",
          "text": [
            "I eat 4 Vegetables and 3 fruits daily\n"
          ]
        }
      ],
      "source": [
        "# write your code here\n"
      ]
    },
    {
      "cell_type": "markdown",
      "metadata": {
        "id": "rZ7-BkWspg0R"
      },
      "source": [
        "### Task 8\n",
        "\n",
        "Create a variable and store the string “The Himalayas are one of the youngest mountain range on the planet.”\n",
        "\n",
        "1. Print ‘The Himalayas’ using slice operator\n",
        "1. Print “mountain range” using negative index\n",
        "1. Print “The Himalayas on the planet” using slice as well as f-string"
      ]
    },
    {
      "cell_type": "code",
      "execution_count": 5,
      "metadata": {
        "colab": {
          "base_uri": "https://localhost:8080/"
        },
        "id": "umpNdo0rpg0R",
        "outputId": "475c24eb-80dd-42a4-80da-fe9dfeb6dc8f"
      },
      "outputs": [
        {
          "output_type": "stream",
          "name": "stdout",
          "text": [
            "The Himalayas\n",
            "mountain range \n",
            "The Himalayas  the planet.\n"
          ]
        }
      ],
      "source": [
        "# write your code here\n",
        "sentence = \"The Himalayas are one of the youngest mountain range on the planet.\"\n",
        "\n",
        "# 1. Print ‘The Himalayas’ using slice operator\n",
        "print(sentence[0:13])\n",
        "\n",
        "# 2. Print “mountain range” using negative index\n",
        "print(sentence[-29:-14])\n",
        "\n",
        "# 3. Print “The Himalayas on the planet” using slice as well as f-string\n",
        "print(f\"{sentence[0:13]} {sentence[-12:]}\")"
      ]
    },
    {
      "cell_type": "markdown",
      "metadata": {
        "id": "74UVepm6pg0R"
      },
      "source": [
        "### Task 9\n",
        "\n",
        "You have created a string variable called string= ”There are 9 planets in the solar system”. After some time, you have realized that your sentence is incorrect and there are only 8 planets, now correct your sentence by replacing the incorrect words."
      ]
    },
    {
      "cell_type": "code",
      "execution_count": 6,
      "metadata": {
        "colab": {
          "base_uri": "https://localhost:8080/"
        },
        "id": "4RoQFkFjpg0S",
        "outputId": "9d486c96-252a-494a-f7d3-69e6b7e0d2db"
      },
      "outputs": [
        {
          "output_type": "stream",
          "name": "stdout",
          "text": [
            "There are 8 planets in the solar system\n"
          ]
        }
      ],
      "source": [
        "# write your code here\n"
      ]
    },
    {
      "cell_type": "markdown",
      "metadata": {
        "id": "NxhpKuH2pg0S"
      },
      "source": [
        "### Task 10\n",
        "\n",
        "Imagine you are a shop owner tracking sales of three products throughout the day. At the end of the day, you want to calculate the total sales from these products. Product quantity and prices are given below in the next code cell,\n",
        "\n",
        "Task: Write a program that:\n",
        "\n",
        "1. Calculates the total sales for each product.\n",
        "1. Summarizes the total sales for the day.\n",
        "1. Prints this summary in a formatted manner.\n",
        "\n",
        "Expected Output:\n",
        "\n",
        "```\n",
        "Daily Sales Summary:\n",
        "- Product 1: Sold 15 units at $20.0 each, Total: $300.0\n",
        "- Product 2: Sold 10 units at $35.0 each, Total: $350.0\n",
        "- Product 3: Sold 20 units at $12.0 each, Total: $240.0\n",
        "Total Sales for the Day: $890.0\n",
        "```"
      ]
    },
    {
      "cell_type": "code",
      "execution_count": 10,
      "metadata": {
        "id": "cpu09_Nzpg0S"
      },
      "outputs": [],
      "source": [
        "# Prices and quantities for each product\n",
        "product1_price = 20.0  # Price per unit for product 1\n",
        "product1_quantity = 15  # Quantity sold of product 1\n",
        "\n",
        "product2_price = 35.0  # Price per unit for product 2\n",
        "product2_quantity = 10  # Quantity sold of product 2\n",
        "\n",
        "product3_price = 12.0  # Price per unit for product 3\n",
        "product3_quantity = 20  # Quantity sold of product 3"
      ]
    },
    {
      "cell_type": "code",
      "execution_count": 11,
      "metadata": {
        "colab": {
          "base_uri": "https://localhost:8080/"
        },
        "id": "04guNKoupg0S",
        "outputId": "a0e5168c-f123-402e-b445-44a79fa9c85a"
      },
      "outputs": [
        {
          "output_type": "stream",
          "name": "stdout",
          "text": [
            "Daily Sales Summary:\n",
            "- Product 1: Sold 15 units at $20.0 each, Total: $300.0\n",
            "- Product 2: Sold 10 units at $35.0 each, Total: $350.0\n",
            "- Product 3: Sold 20 units at $12.0 each, Total: $240.0\n",
            "Total Sales for the Day: $890.0\n"
          ]
        }
      ],
      "source": [
        "# write your code here\n",
        "total_sales_product1 = product1_price * product1_quantity\n",
        "total_sales_product2 = product2_price * product2_quantity\n",
        "total_sales_product3 = product3_price * product3_quantity\n",
        "\n",
        "total_sales_day = total_sales_product1 + total_sales_product2 + total_sales_product3\n",
        "\n",
        "print(\"Daily Sales Summary:\")\n",
        "print(f\"- Product 1: Sold {product1_quantity} units at ${product1_price} each, Total: ${total_sales_product1}\")\n",
        "print(f\"- Product 2: Sold {product2_quantity} units at ${product2_price} each, Total: ${total_sales_product2}\")\n",
        "print(f\"- Product 3: Sold {product3_quantity} units at ${product3_price} each, Total: ${total_sales_product3}\")\n",
        "print(f\"Total Sales for the Day: ${total_sales_day}\")"
      ]
    }
  ],
  "metadata": {
    "colab": {
      "provenance": [],
      "include_colab_link": true
    },
    "kernelspec": {
      "display_name": "Python 3 (ipykernel)",
      "language": "python",
      "name": "python3"
    },
    "language_info": {
      "codemirror_mode": {
        "name": "ipython",
        "version": 3
      },
      "file_extension": ".py",
      "mimetype": "text/x-python",
      "name": "python",
      "nbconvert_exporter": "python",
      "pygments_lexer": "ipython3",
      "version": "3.10.11"
    }
  },
  "nbformat": 4,
  "nbformat_minor": 0
}