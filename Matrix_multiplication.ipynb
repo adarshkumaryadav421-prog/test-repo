{
  "nbformat": 4,
  "nbformat_minor": 0,
  "metadata": {
    "colab": {
      "provenance": [],
      "authorship_tag": "ABX9TyMb1arp1YilrZu3hm9/Lhp8",
      "include_colab_link": true
    },
    "kernelspec": {
      "name": "python3",
      "display_name": "Python 3"
    },
    "language_info": {
      "name": "python"
    }
  },
  "cells": [
    {
      "cell_type": "markdown",
      "metadata": {
        "id": "view-in-github",
        "colab_type": "text"
      },
      "source": [
        "<a href=\"https://colab.research.google.com/github/adarshkumaryadav421-prog/test-repo/blob/main/Matrix_multiplication.ipynb\" target=\"_parent\"><img src=\"https://colab.research.google.com/assets/colab-badge.svg\" alt=\"Open In Colab\"/></a>"
      ]
    },
    {
      "cell_type": "markdown",
      "source": [
        "# Matrix Multiplication"
      ],
      "metadata": {
        "id": "Z9I438ta3qWY"
      }
    },
    {
      "cell_type": "markdown",
      "source": [
        "In this lab you will use `NumPy` functions to perform matrix multiplication and see how it can be used in the Machine Learning applications."
      ],
      "metadata": {
        "id": "jbNfswxw3ulK"
      }
    },
    {
      "cell_type": "markdown",
      "source": [
        "# Table of Contents\n",
        "\n",
        "- [ 1 - Definition of Matrix Multiplication](#1)\n",
        "- [ 2 - Matrix Multiplication using Python](#2)\n",
        "- [ 3 - Matrix Convention and Broadcasting](#3)"
      ],
      "metadata": {
        "id": "_kB3xsTs3ywg"
      }
    },
    {
      "cell_type": "markdown",
      "source": [
        "## Packages\n",
        "\n",
        "Load the `NumPy` package to access its functions."
      ],
      "metadata": {
        "id": "hWhyqqFG33NF"
      }
    },
    {
      "cell_type": "code",
      "execution_count": 1,
      "metadata": {
        "id": "BX1vL9ne3cDL"
      },
      "outputs": [],
      "source": [
        "import numpy as np"
      ]
    },
    {
      "cell_type": "markdown",
      "source": [
        "<a name='1'></a>\n",
        "## 1 - Definition of Matrix Multiplication\n",
        "\n",
        "If $A$ is an $m \\times n$ matrix and $B$ is an $n \\times p$ matrix, the matrix product $C = AB$ (denoted without multiplication signs or dots) is defined to be the $m \\times p$ matrix such that\n",
        "$c_{ij}=a_{i1}b_{1j}+a_{i2}b_{2j}+\\ldots+a_{in}b_{nj}=\\sum_{k=1}^{n} a_{ik}b_{kj}, \\tag{4}$\n",
        "\n",
        "where $a_{ik}$ are the elements of matrix $A$, $b_{kj}$ are the elements of matrix $B$, and $i = 1, \\ldots, m$, $k=1, \\ldots, n$, $j = 1, \\ldots, p$. In other words, $c_{ij}$ is the dot product of the $i$-th row of $A$ and the $j$-th column of $B$."
      ],
      "metadata": {
        "id": "bPzaKhAS4Aas"
      }
    },
    {
      "cell_type": "markdown",
      "source": [
        "<a name='2'></a>\n",
        "## 2 - Matrix Multiplication using Python\n",
        "\n",
        "Like with the dot product, there are a few ways to perform matrix multiplication in Python. As discussed in the previous lab, the calculations are more efficient in the vectorized form. Let's discuss the most commonly used functions in the vectorized form. First, define two matrices:"
      ],
      "metadata": {
        "id": "pZCjvbVZ4NzE"
      }
    },
    {
      "cell_type": "code",
      "source": [
        "A = np.array([[4, 9, 9], [9, 1, 6], [9, 2, 3]])\n",
        "print(\"Matrix A (3 by 3):\\n\", A)\n",
        "\n",
        "B = np.array([[2, 2], [5, 7], [4, 4]])\n",
        "print(\"Matrix B (3 by 2):\\n\", B)"
      ],
      "metadata": {
        "colab": {
          "base_uri": "https://localhost:8080/"
        },
        "id": "ZItZt9WO4DmG",
        "outputId": "6908a9d6-c8b7-46ae-aa3d-bd0ecc741723"
      },
      "execution_count": 2,
      "outputs": [
        {
          "output_type": "stream",
          "name": "stdout",
          "text": [
            "Matrix A (3 by 3):\n",
            " [[4 9 9]\n",
            " [9 1 6]\n",
            " [9 2 3]]\n",
            "Matrix B (3 by 2):\n",
            " [[2 2]\n",
            " [5 7]\n",
            " [4 4]]\n"
          ]
        }
      ]
    },
    {
      "cell_type": "markdown",
      "source": [
        "You can multiply matrices $A$ and $B$ using `NumPy` package function `np.matmul()`:"
      ],
      "metadata": {
        "id": "Ii0J11v-4f9c"
      }
    },
    {
      "cell_type": "code",
      "source": [
        "np.matmul(A, B)"
      ],
      "metadata": {
        "colab": {
          "base_uri": "https://localhost:8080/"
        },
        "id": "xu6-o2QH4g7_",
        "outputId": "a9e14b1f-c219-4273-bba9-3e3d9601707f"
      },
      "execution_count": 3,
      "outputs": [
        {
          "output_type": "execute_result",
          "data": {
            "text/plain": [
              "array([[ 89, 107],\n",
              "       [ 47,  49],\n",
              "       [ 40,  44]])"
            ]
          },
          "metadata": {},
          "execution_count": 3
        }
      ]
    },
    {
      "cell_type": "markdown",
      "source": [
        "Which will output $3 \\times 2$ matrix as a `np.array`. Python operator `@` will also work here giving the same result:"
      ],
      "metadata": {
        "id": "rF-dLOPF46nv"
      }
    },
    {
      "cell_type": "code",
      "source": [
        "A @ B"
      ],
      "metadata": {
        "colab": {
          "base_uri": "https://localhost:8080/"
        },
        "id": "8iNG6_kh4nNX",
        "outputId": "8ba694c4-751b-405e-ce62-88ad06fce288"
      },
      "execution_count": 4,
      "outputs": [
        {
          "output_type": "execute_result",
          "data": {
            "text/plain": [
              "array([[ 89, 107],\n",
              "       [ 47,  49],\n",
              "       [ 40,  44]])"
            ]
          },
          "metadata": {},
          "execution_count": 4
        }
      ]
    },
    {
      "cell_type": "markdown",
      "source": [
        "<a name='3'></a>\n",
        "## 3 - Matrix Convention and Broadcasting\n",
        "\n",
        "Mathematically, matrix multiplication is defined only if number of the columns of matrix $A$ is equal to the number of the rows of matrix $B$ (you can check again the definition in the secition [1](#1) and see that otherwise the dot products between rows and columns will not be defined).\n",
        "\n",
        "Thus, in the example above ([2](#2)), changing the order of matrices when performing the multiplication $BA$ will not work as the above rule does not hold anymore. You can check it by running the cells below - both of them will give errors."
      ],
      "metadata": {
        "id": "v1Gk8O0K5Drd"
      }
    },
    {
      "cell_type": "code",
      "source": [
        "try:\n",
        "    np.matmul(B, A)\n",
        "except ValueError as err:\n",
        "    print(err)"
      ],
      "metadata": {
        "colab": {
          "base_uri": "https://localhost:8080/"
        },
        "id": "4RJbqIu04-Xz",
        "outputId": "211583b4-7c6f-496c-dd03-1073e27ad847"
      },
      "execution_count": 5,
      "outputs": [
        {
          "output_type": "stream",
          "name": "stdout",
          "text": [
            "matmul: Input operand 1 has a mismatch in its core dimension 0, with gufunc signature (n?,k),(k,m?)->(n?,m?) (size 3 is different from 2)\n"
          ]
        }
      ]
    },
    {
      "cell_type": "code",
      "source": [
        "try:\n",
        "    B @ A\n",
        "except ValueError as err:\n",
        "    print(err)"
      ],
      "metadata": {
        "colab": {
          "base_uri": "https://localhost:8080/"
        },
        "id": "99LTNTyj5P9E",
        "outputId": "0636a626-6bc9-428a-99be-468011b46f6d"
      },
      "execution_count": 6,
      "outputs": [
        {
          "output_type": "stream",
          "name": "stdout",
          "text": [
            "matmul: Input operand 1 has a mismatch in its core dimension 0, with gufunc signature (n?,k),(k,m?)->(n?,m?) (size 3 is different from 2)\n"
          ]
        }
      ]
    },
    {
      "cell_type": "markdown",
      "source": [
        "So when using matrix multiplication you will need to be very careful about the dimensions - the number of the columns in the first matrix should match the number of the rows in the second matrix. This is very important for your future understanding of Neural Networks and how they work.\n",
        "\n",
        "However, for multiplying of the vectors, `NumPy` has a shortcut. You can define two vectors $x$ and $y$ of the same size (which one can understand as two $3 \\times 1$ matrices). If you check the shape of the vector $x$, you can see that :"
      ],
      "metadata": {
        "id": "8o8ByTbF5log"
      }
    },
    {
      "cell_type": "code",
      "source": [
        "x = np.array([1, -2, -5])\n",
        "y = np.array([4, 3, -1])\n",
        "\n",
        "print(\"Shape of vector x:\", x.shape)\n",
        "print(\"Number of dimensions of vector x:\", x.ndim)\n",
        "print(\"Shape of vector x, reshaped to a matrix:\", x.reshape((3, 1)).shape)\n",
        "print(\"Number of dimensions of vector x, reshaped to a matrix:\", x.reshape((3, 1)).ndim)"
      ],
      "metadata": {
        "colab": {
          "base_uri": "https://localhost:8080/"
        },
        "id": "fY6yKc1k5YzG",
        "outputId": "3ba303f5-55ec-4a86-fdb0-2924b5b3049f"
      },
      "execution_count": 7,
      "outputs": [
        {
          "output_type": "stream",
          "name": "stdout",
          "text": [
            "Shape of vector x: (3,)\n",
            "Number of dimensions of vector x: 1\n",
            "Shape of vector x, reshaped to a matrix: (3, 1)\n",
            "Number of dimensions of vector x, reshaped to a matrix: 2\n"
          ]
        }
      ]
    },
    {
      "cell_type": "markdown",
      "source": [
        "Following the matrix convention, multiplication of matrices $3 \\times 1$ and $3 \\times 1$ is not defined. For matrix multiplication you would expect an error in the following cell, but let's check the output:"
      ],
      "metadata": {
        "id": "SNRD-l7Z6AnS"
      }
    },
    {
      "cell_type": "code",
      "source": [
        "np.matmul(x,y)"
      ],
      "metadata": {
        "colab": {
          "base_uri": "https://localhost:8080/"
        },
        "id": "GNAvjvuO5rPX",
        "outputId": "6d877ab8-c1d6-40a6-9838-5b0642af9ab6"
      },
      "execution_count": 8,
      "outputs": [
        {
          "output_type": "execute_result",
          "data": {
            "text/plain": [
              "np.int64(3)"
            ]
          },
          "metadata": {},
          "execution_count": 8
        }
      ]
    },
    {
      "cell_type": "markdown",
      "source": [
        "You can see that there is no error and that the result is actually a dot product $x \\cdot y\\,$! So, vector $x$ was automatically transposed into the vector $1 \\times 3$ and matrix multiplication $x^Ty$ was calculated. While this is very convenient, you need to keep in mind such functionality in Python and pay attention to not use it in a wrong way. The following cell will return an error:"
      ],
      "metadata": {
        "id": "MLjUvXuv6aBO"
      }
    },
    {
      "cell_type": "code",
      "source": [
        "try:\n",
        "    np.matmul(x.reshape((3, 1)), y.reshape((3, 1)))\n",
        "except ValueError as err:\n",
        "    print(err)"
      ],
      "metadata": {
        "colab": {
          "base_uri": "https://localhost:8080/"
        },
        "id": "8CIlMygU6GL7",
        "outputId": "bbead88f-626c-4c33-ecd9-a5118414914f"
      },
      "execution_count": 9,
      "outputs": [
        {
          "output_type": "stream",
          "name": "stdout",
          "text": [
            "matmul: Input operand 1 has a mismatch in its core dimension 0, with gufunc signature (n?,k),(k,m?)->(n?,m?) (size 3 is different from 1)\n"
          ]
        }
      ]
    },
    {
      "cell_type": "markdown",
      "source": [
        "You might have a question in you mind: does `np.dot()` function also work for matrix multiplication? Let's try it:"
      ],
      "metadata": {
        "id": "_qpXZQX66oJ0"
      }
    },
    {
      "cell_type": "code",
      "source": [
        "np.dot(A, B)"
      ],
      "metadata": {
        "colab": {
          "base_uri": "https://localhost:8080/"
        },
        "id": "cDYkRKPW6g6K",
        "outputId": "251a250b-0116-497d-b112-b91e5cc4811a"
      },
      "execution_count": 10,
      "outputs": [
        {
          "output_type": "execute_result",
          "data": {
            "text/plain": [
              "array([[ 89, 107],\n",
              "       [ 47,  49],\n",
              "       [ 40,  44]])"
            ]
          },
          "metadata": {},
          "execution_count": 10
        }
      ]
    },
    {
      "cell_type": "markdown",
      "source": [
        "Yes, it works! What actually happens is what is called **broadcasting** in Python: `NumPy` broadcasts this dot product operation to all rows and all columns, you get the resultant product matrix. Broadcasting also works in other cases, for example:"
      ],
      "metadata": {
        "id": "NJwUy-ih61Uu"
      }
    },
    {
      "cell_type": "code",
      "source": [
        "A - 2"
      ],
      "metadata": {
        "colab": {
          "base_uri": "https://localhost:8080/"
        },
        "id": "QIHRFwkQ6sUs",
        "outputId": "d1ac8544-b2c1-483b-a049-2830460f4f6c"
      },
      "execution_count": 11,
      "outputs": [
        {
          "output_type": "execute_result",
          "data": {
            "text/plain": [
              "array([[ 2,  7,  7],\n",
              "       [ 7, -1,  4],\n",
              "       [ 7,  0,  1]])"
            ]
          },
          "metadata": {},
          "execution_count": 11
        }
      ]
    },
    {
      "cell_type": "markdown",
      "source": [
        "Mathematically, subtraction of the $3 \\times 3$ matrix $A$ and a scalar is not defined, but Python broadcasts the scalar, creating a $3 \\times 3$ `np.array` and performing subtraction element by element. A practical example of matrix multiplication can be seen in a linear regression model. You will implement it in this week's assignment!"
      ],
      "metadata": {
        "id": "TKMOSAdk7PLz"
      }
    }
  ]
}