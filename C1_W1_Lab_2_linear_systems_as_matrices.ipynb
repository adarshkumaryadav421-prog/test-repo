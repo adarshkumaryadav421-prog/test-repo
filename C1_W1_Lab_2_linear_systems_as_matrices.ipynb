{
  "nbformat": 4,
  "nbformat_minor": 0,
  "metadata": {
    "colab": {
      "provenance": [],
      "authorship_tag": "ABX9TyMBrsWB8UAUOmH9NRsUEPJ9",
      "include_colab_link": true
    },
    "kernelspec": {
      "name": "python3",
      "display_name": "Python 3"
    },
    "language_info": {
      "name": "python"
    }
  },
  "cells": [
    {
      "cell_type": "markdown",
      "metadata": {
        "id": "view-in-github",
        "colab_type": "text"
      },
      "source": [
        "<a href=\"https://colab.research.google.com/github/adarshkumaryadav421-prog/test-repo/blob/main/C1_W1_Lab_2_linear_systems_as_matrices.ipynb\" target=\"_parent\"><img src=\"https://colab.research.google.com/assets/colab-badge.svg\" alt=\"Open In Colab\"/></a>"
      ]
    },
    {
      "cell_type": "markdown",
      "source": [
        "# Representing Systems of Equations as Matrices"
      ],
      "metadata": {
        "id": "XaX2KnUpUdr9"
      }
    },
    {
      "cell_type": "markdown",
      "source": [
        "By completing this lab, you will be able to use basic programming skills with Python and the [`NumPy`](https://numpy.org/doc/stable/index.html) package to represent systems of linear equations as matrices. In this notebook, you will:\n",
        "\n",
        "- Use the [`NumPy`](https://numpy.org/doc/stable/index.html) linear algebra package to model systems of linear equations as matrices.\n",
        "- Evaluate the determinant of the matrix and examine the relationship between matrix singularity and the number of solutions of the linear system."
      ],
      "metadata": {
        "id": "-iNdu-6HUptx"
      }
    },
    {
      "cell_type": "markdown",
      "source": [
        "# Table of Contents\n",
        "\n",
        "- [ 1 - Representing and Solving System of Linear Equations using Matrices](#1)\n",
        "  - [ 1.1 - System of Linear Equations](#1.1)\n",
        "  - [ 1.2 - Systems of Linear Equations using Matrices](#1.2)\n",
        "  - [ 1.3 - Evaluating Determinant of a Matrix](#1.3)\n",
        "- [ 2 - Visualizing 2x2 Systems as Plotlines](#2)\n",
        "  - [ 2.1 - Elimination Method](#2.1)\n",
        "  - [ 2.2 - Graphical Representation of the Solution](#2.2)\n",
        "- [ 3 - System of Linear Equations with No Solutions](#3)\n",
        "- [ 4 - System of Linear Equations with Infinite Number of Solutions](#4)"
      ],
      "metadata": {
        "id": "yT9LiGb9UuhR"
      }
    },
    {
      "cell_type": "markdown",
      "source": [
        "## Packages\n",
        "\n",
        "Load the `NumPy` package to access its functions. Additionally, load the `matplotlib.pyplot` package, which you will use for creating the plots."
      ],
      "metadata": {
        "id": "_OeShSCJU4IB"
      }
    },
    {
      "cell_type": "code",
      "execution_count": 14,
      "metadata": {
        "id": "djDL_In-Tj8H"
      },
      "outputs": [],
      "source": [
        "import numpy as np\n",
        "import matplotlib.pyplot as plt\n",
        "\n",
        "# Define the plot_lines function directly since utils module isn't available\n",
        "def plot_lines(x_data, y_data, labels=None, colors=None, title=\"Line Plot\",\n",
        "               xlabel=\"X\", ylabel=\"Y\", figsize=(10, 6)):\n",
        "    \"\"\"\n",
        "    Plot multiple lines on the same figure\n",
        "\n",
        "    Parameters:\n",
        "    - x_data: array or list of x values, or list of arrays for multiple lines\n",
        "    - y_data: array or list of y values, or list of arrays for multiple lines\n",
        "    - labels: list of labels for each line (optional)\n",
        "    - colors: list of colors for each line (optional)\n",
        "    - title: plot title\n",
        "    - xlabel: x-axis label\n",
        "    - ylabel: y-axis label\n",
        "    - figsize: figure size tuple\n",
        "    \"\"\"\n",
        "    plt.figure(figsize=figsize)\n",
        "\n",
        "    # Handle single line case\n",
        "    if not isinstance(y_data[0], (list, np.ndarray)) or len(np.array(y_data).shape) == 1:\n",
        "        plt.plot(x_data, y_data, label=labels[0] if labels else None,\n",
        "                color=colors[0] if colors else None)\n",
        "    else:\n",
        "        # Handle multiple lines\n",
        "        for i, (x, y) in enumerate(zip(x_data, y_data)):\n",
        "            label = labels[i] if labels and i < len(labels) else None\n",
        "            color = colors[i] if colors and i < len(colors) else None\n",
        "            plt.plot(x, y, label=label, color=color)\n",
        "\n",
        "    plt.title(title)\n",
        "    plt.xlabel(xlabel)\n",
        "    plt.ylabel(ylabel)\n",
        "\n",
        "    if labels:\n",
        "        plt.legend()\n",
        "\n",
        "    plt.grid(True, alpha=0.3)\n",
        "    plt.tight_layout()\n",
        "    plt.show()"
      ]
    },
    {
      "cell_type": "markdown",
      "source": [
        "<a name='1'></a>\n",
        "## 1 - Representing System of Linear Equations using Matrices"
      ],
      "metadata": {
        "id": "bf520s9YVN33"
      }
    },
    {
      "cell_type": "markdown",
      "source": [
        "<a name='1.1'></a>\n",
        "### 1.1 - System of Linear Equations\n",
        "\n",
        "A **system of linear equations** (or **linear system**) is a collection of one or more linear equations involving the same variables. For example:\n",
        "\n",
        "\n",
        "$$\n",
        "\\begin{cases}\n",
        "-x_1+3x_2=7, \\\\ 3x_1+2x_2=1, \\end{cases}\\tag{1}\n",
        "$$\n",
        "\n",
        "is a system of two equations with two unknown variables $x_1$ and $x_2$. **To solve** a system of linear equations means to find values for the variables $x_1$ and $x_2$ such that all of its equations are simultaneously satisfied.\n",
        "\n",
        "A linear system is **singular** if it has no unique solution, and otherwise, it is said to be **non-singular**."
      ],
      "metadata": {
        "id": "bQjoMFkEVR79"
      }
    },
    {
      "cell_type": "markdown",
      "source": [
        "<a name='1.2'></a>\n",
        "### 1.2 - System of Linear Equations as Matrices\n",
        "In the lecture, you saw that we represented linear systems of equations as matrices. The system $(1)$ represented as a matrix is as follows:\n",
        "\n",
        "$$\n",
        "\\begin{bmatrix}\n",
        "-1 & 3 & 7 \\\\\n",
        "3 & 2 & 1\n",
        "\\end{bmatrix}\n",
        "$$\n",
        "\n",
        "Each row represents an equation in the system. The first column represents the coefficients of $x_1$ in the system, the second column represents the coefficients of $x_2$, and the third column represents the constant values on the right side of the equals signs in the equations.\n",
        "\n",
        "We could further choose to represent the coefficients of the system $(1)$ as its own matrix $A$ as follows:\n",
        "\n",
        "$$\n",
        "\\begin{bmatrix}\n",
        "-1 & 3\\\\\n",
        "3 & 2\n",
        "\\end{bmatrix}\n",
        "$$\n",
        "\n",
        "and the outputs of the system as a vector $b$ like this:\n",
        "\n",
        "$$\n",
        "\\begin{bmatrix}\n",
        "7 \\\\\n",
        "1\n",
        "\\end{bmatrix}\n",
        "$$\n",
        "\n",
        "We show the matrix $A$ and vector $b$ in `NumPy` below:"
      ],
      "metadata": {
        "id": "c6yoUsa6VoD2"
      }
    },
    {
      "cell_type": "code",
      "source": [
        "A = np.array([\n",
        "        [-1, 3],\n",
        "        [3, 2]\n",
        "    ], dtype=np.dtype(float))\n",
        "\n",
        "b = np.array([7, 1], dtype=np.dtype(float))\n",
        "\n",
        "print(\"Matrix A:\")\n",
        "print(A)\n",
        "print(\"\\nArray b:\")\n",
        "print(b)"
      ],
      "metadata": {
        "colab": {
          "base_uri": "https://localhost:8080/"
        },
        "id": "FfJ4YWwbU-3Y",
        "outputId": "f6b86ac9-d1f6-4305-ae54-9f811fae155c"
      },
      "execution_count": 3,
      "outputs": [
        {
          "output_type": "stream",
          "name": "stdout",
          "text": [
            "Matrix A:\n",
            "[[-1.  3.]\n",
            " [ 3.  2.]]\n",
            "\n",
            "Array b:\n",
            "[7. 1.]\n"
          ]
        }
      ]
    },
    {
      "cell_type": "markdown",
      "source": [
        "What are the dimensions of matrix $A$ and vector $b$?\n",
        "\n",
        "You can confirm the dimensions of $A$ and $b$ using the `shape` attribute (you can also use `np.shape()` as an alternative)."
      ],
      "metadata": {
        "id": "c5QO3C8NWFf4"
      }
    },
    {
      "cell_type": "code",
      "source": [
        "print(f\"Shape of A: {A.shape}\")\n",
        "print(f\"Shape of b: {b.shape}\")\n",
        "\n",
        "# print(f\"Shape of A: {np.shape(A)}\")\n",
        "# print(f\"Shape of A: {np.shape(b)}\")"
      ],
      "metadata": {
        "colab": {
          "base_uri": "https://localhost:8080/"
        },
        "id": "_GljzIixV8AQ",
        "outputId": "303ef557-3fef-4953-e02d-c6d49aa76fb2"
      },
      "execution_count": 4,
      "outputs": [
        {
          "output_type": "stream",
          "name": "stdout",
          "text": [
            "Shape of A: (2, 2)\n",
            "Shape of b: (2,)\n"
          ]
        }
      ]
    },
    {
      "cell_type": "markdown",
      "source": [
        "In the lectures, you manually solved some simple linear systems with two equations. However, you have yet to formalize the approach to solving systems of linear equations. In this lab, we use a handy function to solve the equations.\n",
        "\n",
        "The `NumPy` linear algebra package provides a quick and reliable way to solve systems of linear equations using the function `np.linalg.solve(A, b)`. Here, $A$ is a matrix, as you've seen previously, where each row represents one equation in the system, and each column corresponds to the variables $x_1$ and $x_2$. $b$ is a 1-D array of the free (right side) coefficients. More information about the `np.linalg.solve()` function can be found in the [documentation](https://numpy.org/doc/stable/reference/generated/numpy.linalg.solve.html).\n",
        "\n",
        "To find the solution of the system $(1)$, we will simply use the `np.linalg.solve(A, b)` function. The result will be saved in the 1-D array $x$, where the elements correspond to the values of $x_1$ and $x_2$:"
      ],
      "metadata": {
        "id": "bDmrELH9Wq54"
      }
    },
    {
      "cell_type": "code",
      "source": [
        "x = np.linalg.solve(A, b)\n",
        "\n",
        "print(f\"Solution: {x}\")"
      ],
      "metadata": {
        "colab": {
          "base_uri": "https://localhost:8080/"
        },
        "id": "PcyxtqrhWV_5",
        "outputId": "d4a68a11-72c8-454f-b6d9-6e8c9205a733"
      },
      "execution_count": 5,
      "outputs": [
        {
          "output_type": "stream",
          "name": "stdout",
          "text": [
            "Solution: [-1.  2.]\n"
          ]
        }
      ]
    },
    {
      "cell_type": "markdown",
      "source": [
        "The first column in this output is the solution to the variable $x_1$, and the second column is the solution to the variable $x_2$. Confirm that the solution is correct by substituting these values of $x_1$ and $x_2$ into the original system of equations."
      ],
      "metadata": {
        "id": "4NZmxibNW8MS"
      }
    },
    {
      "cell_type": "markdown",
      "source": [
        "<a name='1.3'></a>\n",
        "### 1.3 - Evaluating Determinant of a Matrix\n",
        "\n",
        "The matrix $A$ corresponding to the linear system $(1)$ is a **square matrix** - it has the same number of rows and columns. In the case of a square matrix, it is possible to calculate its determinant - a real number which characterizes some properties of the matrix. A linear system containing two (or more) equations with the same number of unknown variables will have one solution if and only if matrix $A$ has a non-zero determinant.\n",
        "\n",
        "In this course, it's useful to calculate properties like the determinant by hand to develop an intuition for how it is calculated, but these calculations are also easily done by a computer.\n",
        "\n",
        "Let's calculate the determinant using the `NumPy` linear algebra package. You can do it with the `np.linalg.det(A)` function. More information about it can be found in [the official documentation](https://numpy.org/doc/stable/reference/generated/numpy.linalg.det.html)."
      ],
      "metadata": {
        "id": "MfDlRre4XG-o"
      }
    },
    {
      "cell_type": "code",
      "source": [
        "d = np.linalg.det(A)\n",
        "\n",
        "print(f\"Determinant of matrix A: {d:.2f}\")"
      ],
      "metadata": {
        "colab": {
          "base_uri": "https://localhost:8080/"
        },
        "id": "telp_BIuW2Yp",
        "outputId": "bd8f97be-7509-49bd-ae8f-f0e266b79982"
      },
      "execution_count": 6,
      "outputs": [
        {
          "output_type": "stream",
          "name": "stdout",
          "text": [
            "Determinant of matrix A: -11.00\n"
          ]
        }
      ]
    },
    {
      "cell_type": "markdown",
      "source": [
        "Note that its value is non-zero, as expected for a system with exactly one solution."
      ],
      "metadata": {
        "id": "ZTgKPnXWXirZ"
      }
    },
    {
      "cell_type": "markdown",
      "source": [
        "<a name='2'></a>\n",
        "## 2 - Visualizing 2x2 Systems as Plotlines"
      ],
      "metadata": {
        "id": "lEYGOidJXqNv"
      }
    },
    {
      "cell_type": "markdown",
      "source": [
        "You can see how easy it is to use contemporary packages to solve linear equations and calculate useful properties of matrices like the determinant. In this section, we will visualize a 2x2 system as plot lines, as you saw in the ungraded plugin."
      ],
      "metadata": {
        "id": "QHoG76A0XyqQ"
      }
    },
    {
      "cell_type": "markdown",
      "source": [
        "<a name='2.1'></a>\n",
        "### 2.1 - Representation of the system as a matrix\n",
        "\n",
        "Before you visualize the system $(1)$, you would want to represent the system in a matrix with the form:\n",
        "\n",
        "$$\n",
        "\\begin{bmatrix}\n",
        "-1 & 3 & 7 \\\\\n",
        "3 & 2 & 1\n",
        "\\end{bmatrix}\n",
        "$$\n",
        "\n",
        "To do this, you can either create a new matrix with these values or horizontally stack the $A$ and $b$ matrices you created earlier. Note that the `np.hstack()` function will require you to reshape array $b$ before it is stacked, as its current shape is $(2,)$. The code below includes the `.reshape((2, 1))` command to allow the horizontal stack to be completed."
      ],
      "metadata": {
        "id": "uB3FldI4YAtG"
      }
    },
    {
      "cell_type": "code",
      "source": [
        "A_system = np.hstack((A, b.reshape((2, 1))))\n",
        "\n",
        "print(A_system)"
      ],
      "metadata": {
        "colab": {
          "base_uri": "https://localhost:8080/"
        },
        "id": "Z62K7B4qXoYw",
        "outputId": "b40c3487-0d5d-4078-9c0d-eabcbb144c53"
      },
      "execution_count": 8,
      "outputs": [
        {
          "output_type": "stream",
          "name": "stdout",
          "text": [
            "[[-1.  3.  7.]\n",
            " [ 3.  2.  1.]]\n"
          ]
        }
      ]
    },
    {
      "cell_type": "markdown",
      "source": [
        "Let's review how to extract a row of a matrix, which will help later in performing the required operations with the rows. Remember that indexing of arrays in Python starts from zero, so to extract the second row of a matrix, you need to use the following code:"
      ],
      "metadata": {
        "id": "SKZ2bBdDYL7-"
      }
    },
    {
      "cell_type": "code",
      "source": [
        "print(A_system[1])"
      ],
      "metadata": {
        "colab": {
          "base_uri": "https://localhost:8080/"
        },
        "id": "hCiK4yjHYGv2",
        "outputId": "ffc63daf-b7b8-48b9-be2c-27d3048e5fb8"
      },
      "execution_count": 9,
      "outputs": [
        {
          "output_type": "stream",
          "name": "stdout",
          "text": [
            "[3. 2. 1.]\n"
          ]
        }
      ]
    },
    {
      "cell_type": "markdown",
      "source": [
        "<a name='2.2'></a>\n",
        "### 2.2 - Graphical Representation of the Solution\n",
        "\n",
        "A linear equation in two variables (here, $x_1$ and $x_2$) can be represented geometrically by a line in the plane. This is called the **graph of the linear equation**. In the case of the system of two equations, there will be two lines corresponding to each of the equations, and the solution will be the intersection point of those lines.\n",
        "\n",
        "In the following code, you will define a function `plot_lines()` to plot the lines and use it later to represent the solution which you found earlier. Do not worry if the code in the following cell is not clear - at this stage, it is not important to understand."
      ],
      "metadata": {
        "id": "oCIPgoL8Yj_7"
      }
    },
    {
      "cell_type": "markdown",
      "source": [
        "plot_lines(A_system)"
      ],
      "metadata": {
        "id": "NftW6AOlZPLe"
      }
    },
    {
      "cell_type": "code",
      "source": [
        "# Extract coefficients and constants from A_system\n",
        "eq1_coeffs = A_system[0, :2]\n",
        "eq1_const = A_system[0, 2]\n",
        "eq2_coeffs = A_system[1, :2]\n",
        "eq2_const = A_system[1, 2]\n",
        "\n",
        "# Define a range of x values for plotting\n",
        "x_values = np.linspace(-5, 5, 100) # Adjust the range as needed\n",
        "\n",
        "# Calculate corresponding y values for each equation\n",
        "# Equation 1: -x1 + 3x2 = 7  =>  3x2 = x1 + 7  =>  x2 = (1/3)x1 + 7/3\n",
        "y1_values = (1/eq1_coeffs[1]) * (eq1_const - eq1_coeffs[0] * x_values)\n",
        "\n",
        "# Equation 2: 3x1 + 2x2 = 1  =>  2x2 = -3x1 + 1  =>  x2 = (-3/2)x1 + 1/2\n",
        "y2_values = (1/eq2_coeffs[1]) * (eq2_const - eq2_coeffs[0] * x_values)\n",
        "\n",
        "# Plot the lines\n",
        "plot_lines([x_values, x_values], [y1_values, y2_values], labels=['-x1 + 3x2 = 7', '3x1 + 2x2 = 1'], title='System of Equations')"
      ],
      "metadata": {
        "colab": {
          "base_uri": "https://localhost:8080/",
          "height": 607
        },
        "id": "fkvRsPk6YpFn",
        "outputId": "33653425-7724-427b-9bfe-caea948975bc"
      },
      "execution_count": 15,
      "outputs": [
        {
          "output_type": "display_data",
          "data": {
            "text/plain": [
              "<Figure size 1000x600 with 1 Axes>"
            ],
            "image/png": "[encoded data removed]"
          },
          "metadata": {}
        }
      ]
    },
    {
      "cell_type": "markdown",
      "source": [
        "Notice how the lines intersect at $(x_1,x_2) = (-1, 2)$, the solution to the system of equations."
      ],
      "metadata": {
        "id": "i_BRDRqVaxl8"
      }
    },
    {
      "cell_type": "markdown",
      "source": [
        "<a name='3'></a>\n",
        "## 3 - System of Linear Equations with No Solutions\n",
        "\n",
        "Given another system of linear equations:\n",
        "\n",
        "$$\n",
        "\\begin{cases}\n",
        "-x_1+3x_2=7, \\\\ 3x_1-9x_2=1, \\end{cases}\\tag{2}\n",
        "$$\n",
        "\n",
        "Let's find the determinant of the corresponding matrix."
      ],
      "metadata": {
        "id": "vMjgC5yYa8Dj"
      }
    },
    {
      "cell_type": "code",
      "source": [
        "A_2 = np.array([\n",
        "        [-1, 3],\n",
        "        [3, -9]\n",
        "    ], dtype=np.dtype(float))\n",
        "\n",
        "b_2 = np.array([7, 1], dtype=np.dtype(float))\n",
        "\n",
        "d_2 = np.linalg.det(A_2)\n",
        "\n",
        "print(f\"Determinant of matrix A_2: {d_2:.2f}\")"
      ],
      "metadata": {
        "colab": {
          "base_uri": "https://localhost:8080/"
        },
        "id": "W8KWui0BaEC2",
        "outputId": "13a8c312-ad0f-4ea3-9289-3c371d36c6e1"
      },
      "execution_count": 16,
      "outputs": [
        {
          "output_type": "stream",
          "name": "stdout",
          "text": [
            "Determinant of matrix A_2: 0.00\n"
          ]
        }
      ]
    },
    {
      "cell_type": "markdown",
      "source": [
        "It is equal to zero, thus the system cannot have one unique solution. It will either have infinitely many solutions or none. The consistency of it will depend on the free coefficients (right-side coefficients). You can run the code in the following cell to check that the `np.linalg.solve()` function will give an error due to singularity."
      ],
      "metadata": {
        "id": "Ok57FNeAbGc6"
      }
    },
    {
      "cell_type": "code",
      "source": [
        "try:\n",
        "    x_2 = np.linalg.solve(A_2, b_2)\n",
        "except np.linalg.LinAlgError as err:\n",
        "    print(err)"
      ],
      "metadata": {
        "colab": {
          "base_uri": "https://localhost:8080/"
        },
        "id": "z-i-Bt1XbCpK",
        "outputId": "4b643686-1dfa-459f-b60b-2a4f06555c91"
      },
      "execution_count": 17,
      "outputs": [
        {
          "output_type": "stream",
          "name": "stdout",
          "text": [
            "Singular matrix\n"
          ]
        }
      ]
    },
    {
      "cell_type": "markdown",
      "source": [
        "Construct the matrix corresponding to this linear system:"
      ],
      "metadata": {
        "id": "umGb6wUSbZCp"
      }
    },
    {
      "cell_type": "code",
      "source": [
        "A_2_system = np.hstack((A_2, b_2.reshape((2, 1))))\n",
        "print(A_2_system)"
      ],
      "metadata": {
        "colab": {
          "base_uri": "https://localhost:8080/"
        },
        "id": "qXTm5xL9bQwH",
        "outputId": "397a7d52-fd83-4c5b-e5bb-d65ee5d94b4c"
      },
      "execution_count": 18,
      "outputs": [
        {
          "output_type": "stream",
          "name": "stdout",
          "text": [
            "[[-1.  3.  7.]\n",
            " [ 3. -9.  1.]]\n"
          ]
        }
      ]
    },
    {
      "cell_type": "code",
      "source": [
        "# Extract coefficients and constants from A_2_system\n",
        "eq1_coeffs_2 = A_2_system[0, :2]\n",
        "eq1_const_2 = A_2_system[0, 2]\n",
        "eq2_coeffs_2 = A_2_system[1, :2]\n",
        "eq2_const_2 = A_2_system[1, 2]\n",
        "\n",
        "# Define a range of x values for plotting\n",
        "x_values_2 = np.linspace(-5, 5, 100) # Adjust the range as needed\n",
        "\n",
        "# Calculate corresponding y values for each equation\n",
        "# Equation 1: -x1 + 3x2 = 7  =>  3x2 = x1 + 7  =>  x2 = (1/3)x1 + 7/3\n",
        "# Handle the case where the coefficient for x2 is zero to avoid division by zero\n",
        "if eq1_coeffs_2[1] != 0:\n",
        "    y1_values_2 = (1/eq1_coeffs_2[1]) * (eq1_const_2 - eq1_coeffs_2[0] * x_values_2)\n",
        "else:\n",
        "    # If x2 coefficient is 0, the equation is -x1 = 7, which is a vertical line x1 = -7\n",
        "    # This case needs special handling if we were to plot it, but based on the matrix A_2, this is not the case.\n",
        "    # For the current A_2, eq1_coeffs_2[1] is 3, so this else block is not strictly necessary but included for robustness.\n",
        "     y1_values_2 = np.full_like(x_values_2, np.nan) # Or handle as vertical line if needed\n",
        "\n",
        "\n",
        "# Equation 2: 3x1 - 9x2 = 1  =>  -9x2 = -3x1 + 1  =>  x2 = (-3/-9)x1 + 1/-9 => x2 = (1/3)x1 - 1/9\n",
        "# Handle the case where the coefficient for x2 is zero to avoid division by zero\n",
        "if eq2_coeffs_2[1] != 0:\n",
        "    y2_values_2 = (1/eq2_coeffs_2[1]) * (eq2_const_2 - eq2_coeffs_2[0] * x_values_2)\n",
        "else:\n",
        "     # If x2 coefficient is 0, handle as vertical line if needed\n",
        "     y2_values_2 = np.full_like(x_values_2, np.nan) # Or handle as vertical line if needed\n",
        "\n",
        "\n",
        "# Plot the lines\n",
        "plot_lines([x_values_2, x_values_2], [y1_values_2, y2_values_2], labels=['-x1 + 3x2 = 7', '3x1 - 9x2 = 1'], title='System of Equations with No Solutions')"
      ],
      "metadata": {
        "colab": {
          "base_uri": "https://localhost:8080/",
          "height": 607
        },
        "id": "nxwysnwxbdvk",
        "outputId": "fe2022ec-926e-4003-bc8a-5f44ba6edba6"
      },
      "execution_count": 20,
      "outputs": [
        {
          "output_type": "display_data",
          "data": {
            "text/plain": [
              "<Figure size 1000x600 with 1 Axes>"
            ],
            "image/png": "[encoded data removed]"
          },
          "metadata": {}
        }
      ]
    },
    {
      "cell_type": "markdown",
      "source": [
        "As expected, the lines of the two equations are parallel."
      ],
      "metadata": {
        "id": "j8z_cY9ObyLg"
      }
    },
    {
      "cell_type": "markdown",
      "source": [
        "<a name='4'></a>\n",
        "## 4 - System of Linear Equations with an Infinite Number of Solutions\n",
        "\n",
        "By changing the free coefficients of the system $(2)$, you can bring it to consistency:\n",
        "\n",
        "$$\n",
        "\\begin{cases}\n",
        "-x_1+3x_2=7, \\\\ 3x_1-9x_2=-21, \\end{cases}\\tag{3}\n",
        "$$"
      ],
      "metadata": {
        "id": "Ko8RGGOIb6J1"
      }
    },
    {
      "cell_type": "code",
      "source": [
        "b_3 = np.array([7, -21], dtype=np.dtype(float))"
      ],
      "metadata": {
        "id": "_XgLHGnpbjbp"
      },
      "execution_count": 21,
      "outputs": []
    },
    {
      "cell_type": "markdown",
      "source": [
        "Prepare the new matrix, corresponding to the system $(3)$:"
      ],
      "metadata": {
        "id": "6SMFKj1HcEPx"
      }
    },
    {
      "cell_type": "code",
      "source": [
        "A_3_system = np.hstack((A_2, b_3.reshape((2, 1))))\n",
        "print(A_3_system)"
      ],
      "metadata": {
        "colab": {
          "base_uri": "https://localhost:8080/"
        },
        "id": "DUUGznq5cARk",
        "outputId": "17968b0b-9401-4025-e1db-aaa0281ccd75"
      },
      "execution_count": 22,
      "outputs": [
        {
          "output_type": "stream",
          "name": "stdout",
          "text": [
            "[[ -1.   3.   7.]\n",
            " [  3.  -9. -21.]]\n"
          ]
        }
      ]
    },
    {
      "cell_type": "markdown",
      "source": [
        "Thus, from the corresponding linear system\n",
        "\n",
        "$$\n",
        "\\begin{cases}\n",
        "-x_1+3x_2=7, \\\\ 0=0, \\end{cases}\\tag{4}\n",
        "$$\n",
        "\n",
        "the solutions of the linear system $(3)$ are:\n",
        "\n",
        "$$\n",
        "x_1=3x_2-7, \\tag{5}\n",
        "$$\n",
        "\n",
        "where $x_2$ is any real number.\n",
        "\n",
        "If you plot the equations of the system, how many lines do you expect to see in the graph now? Check it using the code below:"
      ],
      "metadata": {
        "id": "Peo9iGNicRS1"
      }
    },
    {
      "cell_type": "code",
      "source": [
        "# Extract coefficients and constants from A_3_system\n",
        "eq1_coeffs_3 = A_3_system[0, :2]\n",
        "eq1_const_3 = A_3_system[0, 2]\n",
        "eq2_coeffs_3 = A_3_system[1, :2]\n",
        "eq2_const_3 = A_3_system[1, 2]\n",
        "\n",
        "# Define a range of x values for plotting\n",
        "x_values_3 = np.linspace(-5, 5, 100) # Adjust the range as needed\n",
        "\n",
        "# Calculate corresponding y values for each equation\n",
        "# Equation 1: -x1 + 3x2 = 7  =>  3x2 = x1 + 7  =>  x2 = (1/3)x1 + 7/3\n",
        "# Handle the case where the coefficient for x2 is zero to avoid division by zero\n",
        "if eq1_coeffs_3[1] != 0:\n",
        "    y1_values_3 = (1/eq1_coeffs_3[1]) * (eq1_const_3 - eq1_coeffs_3[0] * x_values_3)\n",
        "else:\n",
        "    # If x2 coefficient is 0, handle as vertical line if needed\n",
        "     y1_values_3 = np.full_like(x_values_3, np.nan)\n",
        "\n",
        "\n",
        "# Equation 2: 3x1 - 9x2 = -21  =>  -9x2 = -3x1 - 21  =>  x2 = (-3/-9)x1 - 21/-9 => x2 = (1/3)x1 + 7/3\n",
        "# Handle the case where the coefficient for x2 is zero to avoid division by zero\n",
        "if eq2_coeffs_3[1] != 0:\n",
        "    y2_values_3 = (1/eq2_coeffs_3[1]) * (eq2_const_3 - eq2_coeffs_3[0] * x_values_3)\n",
        "else:\n",
        "     # If x2 coefficient is 0, handle as vertical line if needed\n",
        "     y2_values_3 = np.full_like(x_values_3, np.nan)\n",
        "\n",
        "\n",
        "# Plot the lines\n",
        "plot_lines([x_values_3, x_values_3], [y1_values_3, y2_values_3], labels=['-x1 + 3x2 = 7', '3x1 - 9x2 = -21'], title='System of Equations with Infinite Solutions')"
      ],
      "metadata": {
        "colab": {
          "base_uri": "https://localhost:8080/",
          "height": 607
        },
        "id": "H7RmXC4RcSe5",
        "outputId": "121197ed-77ef-446a-df17-7b93d7d8db0a"
      },
      "execution_count": 24,
      "outputs": [
        {
          "output_type": "display_data",
          "data": {
            "text/plain": [
              "<Figure size 1000x600 with 1 Axes>"
            ],
            "image/png": "[encoded data removed]"
          },
          "metadata": {}
        }
      ]
    },
    {
      "cell_type": "code",
      "source": [],
      "metadata": {
        "id": "2jVoEWalcXUY"
      },
      "execution_count": null,
      "outputs": []
    }
  ]
}