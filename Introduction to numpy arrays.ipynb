{
  "nbformat": 4,
  "nbformat_minor": 0,
  "metadata": {
    "colab": {
      "provenance": [],
      "authorship_tag": "ABX9TyPUvKP7W03mInGvzOi83qF2",
      "include_colab_link": true
    },
    "kernelspec": {
      "name": "python3",
      "display_name": "Python 3"
    },
    "language_info": {
      "name": "python"
    }
  },
  "cells": [
    {
      "cell_type": "markdown",
      "metadata": {
        "id": "view-in-github",
        "colab_type": "text"
      },
      "source": [
        "<a href=\"https://colab.research.google.com/github/adarshkumaryadav421-prog/test-repo/blob/main/Introduction%20to%20numpy%20arrays.ipynb\" target=\"_parent\"><img src=\"https://colab.research.google.com/assets/colab-badge.svg\" alt=\"Open In Colab\"/></a>"
      ]
    },
    {
      "cell_type": "markdown",
      "source": [
        "# Introduction to Python Matrices and NumPy #\n",
        "\n",
        "Welcome to your first notebook of this specialization! In this notebook, you will use NumPy to create 2-D arrays and easily compute mathematical operations. NumPy (Numerical Python) is an open-source package that is widely used in science and engineering. Feel free to skip this notebook if you are already fluent with NumPy.\n",
        "\n",
        "**After this assignment you will be able to:**\n",
        "- Use Jupyter Notebook and its features.\n",
        "- Use NumPy functions to create arrays and NumPy array operations.\n",
        "- Use indexing and slicing for 2-D arrays.\n",
        "- Find the shape of an array, reshape it and stack it horizontally and vertically.\n",
        "\n",
        "**Instructions**\n",
        "- You will be using Python 3.\n",
        "- Follow along the cells using `Shift`+`Enter`. Alternatively, you can press `Run` in the menu."
      ],
      "metadata": {
        "id": "YCPYUTO6_FU2"
      }
    },
    {
      "cell_type": "markdown",
      "source": [
        "## Table of Contents ##\n",
        "[About Jupyter Notebooks](#0)\n",
        "- [1 - Basics of NumPy](#1)\n",
        "    - [1.1 - Packages](#1-1)\n",
        "    - [1.2 - Advantages of using NumPy arrays](#1-2)\n",
        "    - [1.3 - How to create NumPy arrays](#1-3)\n",
        "    - [1.4 - More on NumPy arrays](#1-4)\n",
        "- [2 - Multidimensional arrays](#2)\n",
        "    - [2.1 - Finding size, shape and dimension](#2-1)\n",
        "- [3 - Array math operations](#3)\n",
        "    - [3.1 - Multiplying vector with a scalar (broadcasting)](#3-1)\n",
        "- [4 - Indexing and slicing](#4)\n",
        "    - [4.1 - Indexing](#4-1)\n",
        "    - [4.2 - Slicing](#4-2)\n",
        "- [5 - Stacking](#5)\n",
        "- [6 - Exercises](#6)"
      ],
      "metadata": {
        "id": "kneyT3n7_Lbv"
      }
    },
    {
      "cell_type": "markdown",
      "source": [
        "<a name='0'></a>\n",
        "## About Jupyter Notebooks ##\n",
        "\n",
        "\n",
        "Jupyter Notebooks are interactive coding journals that integrate live code, explanatory text, equations, visualizations and other multimedia resources, all in a single document. As a first exercise, run the test snippet below and the print statement cell for \"Hello World\"."
      ],
      "metadata": {
        "id": "hkwHy8HO_STw"
      }
    },
    {
      "cell_type": "code",
      "execution_count": 1,
      "metadata": {
        "id": "btnDivOI-4yG"
      },
      "outputs": [],
      "source": [
        "# Run the \"Hello World\" in the cell below to print \"Hello World\".\n",
        "test = \"Hello World\""
      ]
    },
    {
      "cell_type": "code",
      "source": [
        "print(test)"
      ],
      "metadata": {
        "colab": {
          "base_uri": "https://localhost:8080/"
        },
        "id": "nYp_alyt_YPM",
        "outputId": "202476c6-6f3c-4b25-d474-f96ad4045cbd"
      },
      "execution_count": 2,
      "outputs": [
        {
          "output_type": "stream",
          "name": "stdout",
          "text": [
            "Hello World\n"
          ]
        }
      ]
    },
    {
      "cell_type": "markdown",
      "source": [
        "<a name='1'></a>\n",
        "# 1 - Basics of NumPy #\n",
        "\n",
        "NumPy is the main package for scientific computing in Python. It performs a wide variety of advanced mathematical operations with high efficiency. In this practice lab you will learn several key NumPy functions that will help you in future assignments, such as creating arrays, slicing, indexing, reshaping and stacking."
      ],
      "metadata": {
        "id": "QfYWuXyP_nfK"
      }
    },
    {
      "cell_type": "markdown",
      "source": [
        "<a name='1-1'></a>\n",
        "## 1.1 - Packages ##"
      ],
      "metadata": {
        "id": "lpmgQePo_ufe"
      }
    },
    {
      "cell_type": "markdown",
      "source": [
        "Before you get started, you have to import NumPy to load its functions. As you may notice, even though there is no expected output, when you run this cell, the Jupyter Notebook imports the package (often referred to as the library) and its functions. Try it for yourself and run the following cell."
      ],
      "metadata": {
        "id": "BXDNDR4K_uGC"
      }
    },
    {
      "cell_type": "code",
      "source": [
        "import numpy as np"
      ],
      "metadata": {
        "id": "yXkfWCT7_mG5"
      },
      "execution_count": 4,
      "outputs": []
    },
    {
      "cell_type": "markdown",
      "source": [
        "<a name='1-2'></a>\n",
        "## 1.2 - Advantages of using NumPy arrays ##"
      ],
      "metadata": {
        "id": "5CFy8OeC_8mc"
      }
    },
    {
      "cell_type": "markdown",
      "source": [
        "Arrays are one of the core data structures of the NumPy library, essential for organizing your data. You can think of them as a grid of values, all of the same type. If you have used Python lists before, you may remember that they are convenient, as you can store different data types. However, Python lists are limited in functions and take up more space and time to process than NumPy arrays.\n",
        "\n",
        "NumPy provides an array object that is much faster and more compact than Python lists. Through its extensive API integration, the library offers many built-in functions that make computing much easier with only a few lines of code. This can be a huge advantage when performing math operations on large datasets.\n",
        "\n",
        "The array object in NumPy is called `ndarray` meaning 'n-dimensional array'. To begin with, you will use one of the most common array types: the one-dimensional array ('1-D'). A 1-D array represents a standard list of values entirely in one dimension. Remember that in NumPy, all of the elements within the array are of the same type."
      ],
      "metadata": {
        "id": "X8ccHoEdARZZ"
      }
    },
    {
      "cell_type": "code",
      "source": [
        "one_dimensional_arr = np.array([10, 12])\n",
        "print(one_dimensional_arr)"
      ],
      "metadata": {
        "colab": {
          "base_uri": "https://localhost:8080/"
        },
        "id": "pHoNhqmQ_4V7",
        "outputId": "4ee9fde0-e98b-44f5-a1ec-5bc20a1e46dd"
      },
      "execution_count": 5,
      "outputs": [
        {
          "output_type": "stream",
          "name": "stdout",
          "text": [
            "[10 12]\n"
          ]
        }
      ]
    },
    {
      "cell_type": "markdown",
      "source": [
        "<a name='1-3'></a>\n",
        "## 1.3 - How to create NumPy arrays ##"
      ],
      "metadata": {
        "id": "pUCMGK4lAe5p"
      }
    },
    {
      "cell_type": "markdown",
      "source": [
        "There are several ways to create an array in NumPy. You can create a 1-D array by simply using the function `array()` which takes in a list of values as an argument and returns a 1-D array."
      ],
      "metadata": {
        "id": "ecnZvz3vAkKw"
      }
    },
    {
      "cell_type": "code",
      "source": [
        "# Create and print a NumPy array 'a' containing the elements 1, 2, 3.\n",
        "a = np.array([1, 2, 3])\n",
        "print(a)"
      ],
      "metadata": {
        "colab": {
          "base_uri": "https://localhost:8080/"
        },
        "id": "9YFK52VyAXAq",
        "outputId": "49b5ba84-0a00-4649-a48a-1146453362ff"
      },
      "execution_count": 6,
      "outputs": [
        {
          "output_type": "stream",
          "name": "stdout",
          "text": [
            "[1 2 3]\n"
          ]
        }
      ]
    },
    {
      "cell_type": "markdown",
      "source": [
        "Another way to implement an array is using `np.arange()`. This function will return an array of evenly spaced values within a given interval. To learn more about the arguments that this function takes, there is a powerful feature in Jupyter Notebook that allows you to access the documentation of any function by simply pressing `shift+tab` on your keyboard when clicking on the function. Give it a try for the built-in documentation of `np.arange()`."
      ],
      "metadata": {
        "id": "1oixvyZTAvd1"
      }
    },
    {
      "cell_type": "code",
      "source": [
        "# Create an array with 3 integers, starting from the default integer 0.\n",
        "b = np.arange(3)\n",
        "print(b)"
      ],
      "metadata": {
        "colab": {
          "base_uri": "https://localhost:8080/"
        },
        "id": "W9Eb4g2yArFp",
        "outputId": "8b2d6daa-f648-4691-944d-0b499a894f14"
      },
      "execution_count": 7,
      "outputs": [
        {
          "output_type": "stream",
          "name": "stdout",
          "text": [
            "[0 1 2]\n"
          ]
        }
      ]
    },
    {
      "cell_type": "code",
      "source": [
        "# Create an array that starts from the integer 1, ends at 20, incremented by 3.\n",
        "c = np.arange(1, 20, 3)\n",
        "print(c)"
      ],
      "metadata": {
        "colab": {
          "base_uri": "https://localhost:8080/"
        },
        "id": "kli7pjZpA2-i",
        "outputId": "776a5a43-41d8-486b-c291-f79b8603fd5f"
      },
      "execution_count": 8,
      "outputs": [
        {
          "output_type": "stream",
          "name": "stdout",
          "text": [
            "[ 1  4  7 10 13 16 19]\n"
          ]
        }
      ]
    },
    {
      "cell_type": "markdown",
      "source": [
        "What if you wanted to create an array with five evenly spaced values in the interval from 0 to 100? As you may notice, you have 3 parameters that a function must take. One paremeter is the starting number, in  this case 0, the final number 100 and the number of elements in the array, in this case, 5. NumPy has a function that allows you to do specifically this by using `np.linspace()`."
      ],
      "metadata": {
        "id": "UcZo2xVeBCoM"
      }
    },
    {
      "cell_type": "code",
      "source": [
        "lin_spaced_arr = np.linspace(0, 100, 5)\n",
        "print(lin_spaced_arr)"
      ],
      "metadata": {
        "colab": {
          "base_uri": "https://localhost:8080/"
        },
        "id": "YZnadevpA9n6",
        "outputId": "08a1b09c-05ca-455e-fb5e-e5941c50e26a"
      },
      "execution_count": 9,
      "outputs": [
        {
          "output_type": "stream",
          "name": "stdout",
          "text": [
            "[  0.  25.  50.  75. 100.]\n"
          ]
        }
      ]
    },
    {
      "cell_type": "markdown",
      "source": [
        "Did you notice that the output of the function is presented in the float value form (e.g. \"... 25. 50. ...\")? The reason is that the default type for values in the NumPy function `np.linspace` is a floating point (`np.float64`). You can easily specify your data type using `dtype`. If you access the built-in documentation for the functions, you will notice that most numpy functions take an optional parameter `dtype`. In addition to float, NumPy has several other data types such as `int`, and `char`.\n",
        "\n",
        "To change the type to integers, you need to set the dtype to `int`. You can do so, even in the previous functions. Feel free to try it out and modify the cells to output your desired data type."
      ],
      "metadata": {
        "id": "BDtYIlhvBTq_"
      }
    },
    {
      "cell_type": "code",
      "source": [
        "lin_spaced_arr_int = np.linspace(0, 100, 5, dtype=int)\n",
        "print(lin_spaced_arr_int)\n"
      ],
      "metadata": {
        "colab": {
          "base_uri": "https://localhost:8080/"
        },
        "id": "gTxZUs8PBGpv",
        "outputId": "3a5b23a6-f556-45dd-db46-2d2a71f52f0b"
      },
      "execution_count": 10,
      "outputs": [
        {
          "output_type": "stream",
          "name": "stdout",
          "text": [
            "[  0  25  50  75 100]\n"
          ]
        }
      ]
    },
    {
      "cell_type": "code",
      "source": [
        "c_int = np.arange(1, 20, 3, dtype=int)\n",
        "print(c_int)"
      ],
      "metadata": {
        "colab": {
          "base_uri": "https://localhost:8080/"
        },
        "id": "MP46BQWVIIyK",
        "outputId": "cc37c780-4cc1-4216-841a-9b5724738b54"
      },
      "execution_count": 11,
      "outputs": [
        {
          "output_type": "stream",
          "name": "stdout",
          "text": [
            "[ 1  4  7 10 13 16 19]\n"
          ]
        }
      ]
    },
    {
      "cell_type": "code",
      "source": [
        "b_float = np.arange(3, dtype=float)\n",
        "print(b_float)"
      ],
      "metadata": {
        "colab": {
          "base_uri": "https://localhost:8080/"
        },
        "id": "IVHt2dRvIaYe",
        "outputId": "d2741c3c-5232-4f5f-d77a-6085d417243b"
      },
      "execution_count": 12,
      "outputs": [
        {
          "output_type": "stream",
          "name": "stdout",
          "text": [
            "[0. 1. 2.]\n"
          ]
        }
      ]
    },
    {
      "cell_type": "code",
      "source": [
        "char_arr = np.array(['Welcome to Math for ML!'])\n",
        "print(char_arr)\n",
        "print(char_arr.dtype) # Prints the data type of the array"
      ],
      "metadata": {
        "colab": {
          "base_uri": "https://localhost:8080/"
        },
        "id": "isgLn5opIjpN",
        "outputId": "6b6efa3e-b98c-430f-c092-fd473af9d454"
      },
      "execution_count": 14,
      "outputs": [
        {
          "output_type": "stream",
          "name": "stdout",
          "text": [
            "['Welcome to Math for ML!']\n",
            "<U23\n"
          ]
        }
      ]
    },
    {
      "cell_type": "markdown",
      "source": [
        "Did you notice that the output of the data type of the `char_arr` array is `<U23`?\n",
        "This means that the string (`'Welcome to Math for ML!'`) is a 23-character (23) unicode string (`U`) on a little-endian architecture (`<`). You can learn more about data types [here](https://numpy.org/doc/stable/user/basics.types.html)."
      ],
      "metadata": {
        "id": "bv5MfrQdI7E9"
      }
    },
    {
      "cell_type": "markdown",
      "source": [
        "<a name='1-4'></a>\n",
        "## 1.4 - More on NumPy arrays ##\n",
        "\n",
        "One of the advantages of using NumPy is that you can easily create arrays with built-in functions such as:\n",
        "- `np.ones()` - Returns a new array setting values to one.\n",
        "- `np.zeros()` - Returns a new array setting values to zero.\n",
        "- `np.empty()` - Returns a new uninitialized array.\n",
        "- `np.random.rand()` - Returns a new array with values chosen at random."
      ],
      "metadata": {
        "id": "fBtDlmnMJF0j"
      }
    },
    {
      "cell_type": "code",
      "source": [
        "# Return a new array of shape 3, filled with ones.\n",
        "ones_arr = np.ones(3)\n",
        "print(ones_arr)"
      ],
      "metadata": {
        "colab": {
          "base_uri": "https://localhost:8080/"
        },
        "id": "BvSJKpupJB_U",
        "outputId": "93883aec-89ca-46cf-9795-6f1e76f93979"
      },
      "execution_count": 16,
      "outputs": [
        {
          "output_type": "stream",
          "name": "stdout",
          "text": [
            "[1. 1. 1.]\n"
          ]
        }
      ]
    },
    {
      "cell_type": "code",
      "source": [
        "# Return a new array of shape 3, filled with zeroes.\n",
        "zeros_arr = np.zeros(3)\n",
        "print(zeros_arr)"
      ],
      "metadata": {
        "colab": {
          "base_uri": "https://localhost:8080/"
        },
        "id": "9MmIzaLVJRQY",
        "outputId": "46777007-1c77-47ae-ce81-a011e97adb40"
      },
      "execution_count": 17,
      "outputs": [
        {
          "output_type": "stream",
          "name": "stdout",
          "text": [
            "[0. 0. 0.]\n"
          ]
        }
      ]
    },
    {
      "cell_type": "code",
      "source": [
        "# Return a new array of shape 3, without initializing entries.\n",
        "empt_arr = np.empty(3)\n",
        "print(empt_arr)"
      ],
      "metadata": {
        "colab": {
          "base_uri": "https://localhost:8080/"
        },
        "id": "Fybs6J19JLMh",
        "outputId": "046519d5-b2ef-4e42-ef3e-0ee6a4c62951"
      },
      "execution_count": 18,
      "outputs": [
        {
          "output_type": "stream",
          "name": "stdout",
          "text": [
            "[0. 0. 0.]\n"
          ]
        }
      ]
    },
    {
      "cell_type": "code",
      "source": [
        "# Return a new array of shape 3 with random numbers between 0 and 1.\n",
        "rand_arr = np.random.rand(3)\n",
        "print(rand_arr)"
      ],
      "metadata": {
        "colab": {
          "base_uri": "https://localhost:8080/"
        },
        "id": "pnRSVFm2Jd5s",
        "outputId": "276ddb6d-a76c-429d-ed9a-1ae90f6ba502"
      },
      "execution_count": 19,
      "outputs": [
        {
          "output_type": "stream",
          "name": "stdout",
          "text": [
            "[0.24347866 0.44613087 0.2462805 ]\n"
          ]
        }
      ]
    },
    {
      "cell_type": "markdown",
      "source": [
        "<a name='2'></a>\n",
        "# 2 - Multidimensional Arrays #\n",
        "With NumPy you can also create arrays with more than one dimension. In the above examples, you dealt with 1-D arrays, where you can access their elements using a single index. A multidimensional array has more than one column. Think of a multidimensional array as an excel sheet where each row/column represents a dimension."
      ],
      "metadata": {
        "id": "i7cbrFgaJm9P"
      }
    },
    {
      "cell_type": "markdown",
      "source": [
        "![multidimensional array.png](data:image/png;base64,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)\n",
        "\n"
      ],
      "metadata": {
        "id": "tKAUKhaeJqkm"
      }
    },
    {
      "cell_type": "code",
      "source": [
        "# Create a 2 dimensional array (2-D)\n",
        "two_dim_arr = np.array([[1,2,3], [4,5,6]])\n",
        "print(two_dim_arr)"
      ],
      "metadata": {
        "colab": {
          "base_uri": "https://localhost:8080/"
        },
        "id": "tvqFmxlhKNM_",
        "outputId": "d98badb7-0c83-41da-cb1b-8678b79a5841"
      },
      "execution_count": 21,
      "outputs": [
        {
          "output_type": "stream",
          "name": "stdout",
          "text": [
            "[[1 2 3]\n",
            " [4 5 6]]\n"
          ]
        }
      ]
    },
    {
      "cell_type": "markdown",
      "source": [
        "An alternative way to create a multidimensional array is by reshaping the initial 1-D array. Using `np.reshape()` you can rearrange elements of the previous array into a new shape."
      ],
      "metadata": {
        "id": "pxs-sJvFK2tP"
      }
    },
    {
      "cell_type": "code",
      "source": [
        "# 1-D array\n",
        "one_dim_arr = np.array([1, 2, 3, 4, 5, 6])\n",
        "\n",
        "# Multidimensional array using reshape()\n",
        "multi_dim_arr = np.reshape(\n",
        "                one_dim_arr, # the array to be reshaped\n",
        "               (2,3) # dimensions of the new array\n",
        "              )\n",
        "# Print the new 2-D array with two rows and three columns\n",
        "print(multi_dim_arr)"
      ],
      "metadata": {
        "colab": {
          "base_uri": "https://localhost:8080/"
        },
        "id": "31c_FFBoKx8W",
        "outputId": "df4a58e9-ad6f-43b3-8080-a4c5a8aff07e"
      },
      "execution_count": 22,
      "outputs": [
        {
          "output_type": "stream",
          "name": "stdout",
          "text": [
            "[[1 2 3]\n",
            " [4 5 6]]\n"
          ]
        }
      ]
    },
    {
      "cell_type": "markdown",
      "source": [
        "<a name='2-1'></a>\n",
        "## 2.1 - Finding size, shape and dimension. ##"
      ],
      "metadata": {
        "id": "I-RR9UvPLFjW"
      }
    },
    {
      "cell_type": "markdown",
      "source": [
        "In future assignments, you will need to know how to find the size, dimension and shape of an array. These are all atrributes of a `ndarray` and can be accessed as follows:\n",
        "- `ndarray.ndim` - Stores the number dimensions of the array.\n",
        "- `ndarray.shape` - Stores the shape of the array. Each number in the tuple denotes the lengths of each corresponding dimension.\n",
        "- `ndarray.size` - Stores the number of elements in the array.\n"
      ],
      "metadata": {
        "id": "QrExrpZPLJ5Z"
      }
    },
    {
      "cell_type": "code",
      "source": [
        "# Dimension of the 2-D array multi_dim_arr\n",
        "multi_dim_arr.ndim"
      ],
      "metadata": {
        "colab": {
          "base_uri": "https://localhost:8080/"
        },
        "id": "P1iDiX-yK-VY",
        "outputId": "f3ff1f72-5a2d-484d-cc2a-caa9d4625e99"
      },
      "execution_count": 23,
      "outputs": [
        {
          "output_type": "execute_result",
          "data": {
            "text/plain": [
              "2"
            ]
          },
          "metadata": {},
          "execution_count": 23
        }
      ]
    },
    {
      "cell_type": "code",
      "source": [
        "# Shape of the 2-D array multi_dim_arr\n",
        "# Returns shape of 2 rows and 3 columns\n",
        "multi_dim_arr.shape"
      ],
      "metadata": {
        "colab": {
          "base_uri": "https://localhost:8080/"
        },
        "id": "KoSFSYaOLRsi",
        "outputId": "69fc5a19-f726-451d-87e5-7151222d4f18"
      },
      "execution_count": 24,
      "outputs": [
        {
          "output_type": "execute_result",
          "data": {
            "text/plain": [
              "(2, 3)"
            ]
          },
          "metadata": {},
          "execution_count": 24
        }
      ]
    },
    {
      "cell_type": "code",
      "source": [
        "# Size of the array multi_dim_arr\n",
        "# Returns total number of elements\n",
        "multi_dim_arr.size"
      ],
      "metadata": {
        "colab": {
          "base_uri": "https://localhost:8080/"
        },
        "id": "doW09pRdLVmh",
        "outputId": "5009fe91-d37f-44ca-89c1-42dda12fe33b"
      },
      "execution_count": 25,
      "outputs": [
        {
          "output_type": "execute_result",
          "data": {
            "text/plain": [
              "6"
            ]
          },
          "metadata": {},
          "execution_count": 25
        }
      ]
    },
    {
      "cell_type": "markdown",
      "source": [
        "<a name='3'></a>\n",
        "# 3 - Array math operations #\n",
        "In this section, you will see that NumPy allows you to quickly perform elementwise addition, substraction, multiplication and division for both 1-D and multidimensional arrays. The operations are performed using the math symbol for each '+', '-' and '*'. Recall that addition of Python lists works completely differently as it would append the lists, thus making a longer list, in addition, subtraction and multiplication of Python lists do not work."
      ],
      "metadata": {
        "id": "_sJwwR1mLg2Z"
      }
    },
    {
      "cell_type": "code",
      "source": [
        "arr_1 = np.array([2, 4, 6])\n",
        "arr_2 = np.array([1, 3, 5])\n",
        "\n",
        "# Adding two 1-D arrays\n",
        "addition = arr_1 + arr_2\n",
        "print(addition)\n",
        "\n",
        "# Subtracting two 1-D arrays\n",
        "subtraction = arr_1 - arr_2\n",
        "print(subtraction)\n",
        "\n",
        "# Multiplying two 1-D arrays elementwise\n",
        "multiplication = arr_1 * arr_2\n",
        "print(multiplication)"
      ],
      "metadata": {
        "colab": {
          "base_uri": "https://localhost:8080/"
        },
        "id": "KxZYEJ7TLcG9",
        "outputId": "f9b67a02-4c7b-4f30-bd5a-5574a379169c"
      },
      "execution_count": 26,
      "outputs": [
        {
          "output_type": "stream",
          "name": "stdout",
          "text": [
            "[ 3  7 11]\n",
            "[1 1 1]\n",
            "[ 2 12 30]\n"
          ]
        }
      ]
    },
    {
      "cell_type": "markdown",
      "source": [
        "<a name='3-1'></a>\n",
        "## 3.1 - Multiplying vector with a scalar (broadcasting) ##\n",
        "Suppose you need to convert miles to kilometers. To do so, you can use the NumPy array functions that you've learned so far. You can do this by carrying out an operation between an array (miles) and a single number (the conversion rate which is a scalar). Since, 1 mile = 1.6 km, NumPy computes each multiplication within each cell.\n",
        "\n",
        "This concept is called **broadcasting**, which allows you to perform operations specifically on arrays of different shapes."
      ],
      "metadata": {
        "id": "WgkErnx4LwMC"
      }
    },
    {
      "cell_type": "code",
      "source": [
        "vector = np.array([1, 2])\n",
        "vector * 1.6"
      ],
      "metadata": {
        "colab": {
          "base_uri": "https://localhost:8080/"
        },
        "id": "QE0z8im6Lmdr",
        "outputId": "134cf261-d5be-45f9-abd2-225eab229ce5"
      },
      "execution_count": 27,
      "outputs": [
        {
          "output_type": "execute_result",
          "data": {
            "text/plain": [
              "array([1.6, 3.2])"
            ]
          },
          "metadata": {},
          "execution_count": 27
        }
      ]
    },
    {
      "cell_type": "markdown",
      "source": [
        "![image.png](data:image/png;base64,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)"
      ],
      "metadata": {
        "id": "m1XqdSgYL7mV"
      }
    },
    {
      "cell_type": "markdown",
      "source": [
        "<a name='4'></a>\n",
        "# 4 - Indexing and slicing #\n",
        "Indexing is very useful as it allows you to select specific elements from an array. It also lets you select entire rows/columns or planes as you'll see in future assignments for multidimensional arrays.\n",
        "\n",
        "## 4.1 - Indexing ##\n",
        "Let us select specific elements from the arrays as given."
      ],
      "metadata": {
        "id": "WtTVUwfzMKxb"
      }
    },
    {
      "cell_type": "code",
      "source": [
        "# Select the third element of the array. Remember the counting starts from 0.\n",
        "a = ([1, 2, 3, 4, 5])\n",
        "print(a[2])\n",
        "\n",
        "# Select the first element of the array.\n",
        "print(a[0])"
      ],
      "metadata": {
        "colab": {
          "base_uri": "https://localhost:8080/"
        },
        "id": "K7k85lr9MS_K",
        "outputId": "edda361b-eb69-4977-97cf-128098b434ba"
      },
      "execution_count": 29,
      "outputs": [
        {
          "output_type": "stream",
          "name": "stdout",
          "text": [
            "3\n",
            "1\n"
          ]
        }
      ]
    },
    {
      "cell_type": "markdown",
      "source": [
        "For multidimensional arrays of shape `n`, to index a specific element, you must input `n` indices, one for each dimension."
      ],
      "metadata": {
        "id": "H2hQ8x6BMgzv"
      }
    },
    {
      "cell_type": "code",
      "source": [
        "# Indexing on a 2-D array\n",
        "two_dim = np.array(([1, 2, 3],\n",
        "          [4, 5, 6],\n",
        "          [7, 8, 9]))\n",
        "\n",
        "# Select element number 8 from the 2-D array using indices i, j.\n",
        "print(two_dim[2][1])"
      ],
      "metadata": {
        "colab": {
          "base_uri": "https://localhost:8080/"
        },
        "id": "tGACbGMPMX5Y",
        "outputId": "940c8d2a-75c2-4ede-9e55-acdd01e2aaef"
      },
      "execution_count": 30,
      "outputs": [
        {
          "output_type": "stream",
          "name": "stdout",
          "text": [
            "8\n"
          ]
        }
      ]
    },
    {
      "cell_type": "markdown",
      "source": [
        "<a name='4-2'></a>\n",
        "## 4.2 - Slicing ##\n",
        "Slicing gives you a sublist of elements that you specify from the array. The slice notation specifies a start and end value, and copies the list from start up to but not including the end (end-exclusive).\n",
        "\n",
        "The syntax is:\n",
        "\n",
        "`array[start:end:step]`\n",
        "\n",
        "If no value is passed to start, it is assumed `start = 0`, if no value is passed for end, it is assumed that `end = length of array` and if no value is passed to step, it is assumed `step = 1`."
      ],
      "metadata": {
        "id": "uEmlzVbaM0CK"
      }
    },
    {
      "cell_type": "code",
      "source": [
        "# Slice the array a to get the array [2,3,4]\n",
        "sliced_arr = a[1:4]\n",
        "print(sliced_arr)"
      ],
      "metadata": {
        "colab": {
          "base_uri": "https://localhost:8080/"
        },
        "id": "BWbv-9CNMmLr",
        "outputId": "bd48889d-44c8-4b82-e8a6-c04f45adcddc"
      },
      "execution_count": 31,
      "outputs": [
        {
          "output_type": "stream",
          "name": "stdout",
          "text": [
            "[2, 3, 4]\n"
          ]
        }
      ]
    },
    {
      "cell_type": "code",
      "source": [
        "# Slice the array a to get the array [1,2,3]\n",
        "sliced_arr = a[:3]\n",
        "print(sliced_arr)"
      ],
      "metadata": {
        "colab": {
          "base_uri": "https://localhost:8080/"
        },
        "id": "93YenTSbM7rN",
        "outputId": "fff23dc6-08f9-4067-d306-2d7b0a90e505"
      },
      "execution_count": 32,
      "outputs": [
        {
          "output_type": "stream",
          "name": "stdout",
          "text": [
            "[1, 2, 3]\n"
          ]
        }
      ]
    },
    {
      "cell_type": "code",
      "source": [
        "# Slice the array a to get the array [3,4,5]\n",
        "sliced_arr = a[2:]\n",
        "print(sliced_arr)"
      ],
      "metadata": {
        "colab": {
          "base_uri": "https://localhost:8080/"
        },
        "id": "K3cDTrriNA5b",
        "outputId": "c4141840-1c28-4580-882e-9b9e2f7355dd"
      },
      "execution_count": 33,
      "outputs": [
        {
          "output_type": "stream",
          "name": "stdout",
          "text": [
            "[3, 4, 5]\n"
          ]
        }
      ]
    },
    {
      "cell_type": "code",
      "source": [
        "# Slice the array a to get the array [1,3,5]\n",
        "sliced_arr = a[::2]\n",
        "print(sliced_arr)"
      ],
      "metadata": {
        "colab": {
          "base_uri": "https://localhost:8080/"
        },
        "id": "S8F60yaINFvz",
        "outputId": "9efaa5d1-e687-4164-ab5e-090998fefd88"
      },
      "execution_count": 34,
      "outputs": [
        {
          "output_type": "stream",
          "name": "stdout",
          "text": [
            "[1, 3, 5]\n"
          ]
        }
      ]
    },
    {
      "cell_type": "code",
      "source": [
        "# Note that a == a[:] == a[::]\n",
        "print(a == a[:] == a[::])"
      ],
      "metadata": {
        "colab": {
          "base_uri": "https://localhost:8080/"
        },
        "id": "jwzlNU_2NJ7X",
        "outputId": "8158d5ed-8796-4068-e86f-6a164828527c"
      },
      "execution_count": 35,
      "outputs": [
        {
          "output_type": "stream",
          "name": "stdout",
          "text": [
            "True\n"
          ]
        }
      ]
    },
    {
      "cell_type": "code",
      "source": [
        "# Slice the two_dim array to get the first two rows\n",
        "sliced_arr_1 = two_dim[0:2]\n",
        "sliced_arr_1"
      ],
      "metadata": {
        "colab": {
          "base_uri": "https://localhost:8080/"
        },
        "id": "C-VNZQGLNNg0",
        "outputId": "1e23f69a-b045-47a4-b2bf-728234198b85"
      },
      "execution_count": 36,
      "outputs": [
        {
          "output_type": "execute_result",
          "data": {
            "text/plain": [
              "array([[1, 2, 3],\n",
              "       [4, 5, 6]])"
            ]
          },
          "metadata": {},
          "execution_count": 36
        }
      ]
    },
    {
      "cell_type": "code",
      "source": [
        "# Similarily, slice the two_dim array to get the last two rows\n",
        "sliced_two_dim_rows = two_dim[1:3]\n",
        "print(sliced_two_dim_rows)"
      ],
      "metadata": {
        "colab": {
          "base_uri": "https://localhost:8080/"
        },
        "id": "VHZKWHFDNS7b",
        "outputId": "96d83596-84b7-4a9b-e310-a0fb8368ea50"
      },
      "execution_count": 37,
      "outputs": [
        {
          "output_type": "stream",
          "name": "stdout",
          "text": [
            "[[4 5 6]\n",
            " [7 8 9]]\n"
          ]
        }
      ]
    },
    {
      "cell_type": "code",
      "source": [
        "sliced_two_dim_cols = two_dim[:,1]\n",
        "print(sliced_two_dim_cols)"
      ],
      "metadata": {
        "colab": {
          "base_uri": "https://localhost:8080/"
        },
        "id": "dtlwGzgENWMB",
        "outputId": "c9af225d-d154-49fb-eafb-27267faced08"
      },
      "execution_count": 38,
      "outputs": [
        {
          "output_type": "stream",
          "name": "stdout",
          "text": [
            "[2 5 8]\n"
          ]
        }
      ]
    },
    {
      "cell_type": "markdown",
      "source": [
        "<a name='5'></a>\n",
        "# 5 - Stacking #\n",
        "Finally, stacking is a feature of NumPy that leads to increased customization of arrays. It means to join two or more arrays, either horizontally or vertically, meaning that it is done along a new axis.\n",
        "\n",
        "- `np.vstack()` - stacks vertically\n",
        "- `np.hstack()` - stacks horizontally\n",
        "- `np.hsplit()` - splits an array into several smaller arrays"
      ],
      "metadata": {
        "id": "AoDmrJxfNlJm"
      }
    },
    {
      "cell_type": "code",
      "source": [
        "a1 = np.array([[1,1],\n",
        "               [2,2]])\n",
        "a2 = np.array([[3,3],\n",
        "              [4,4]])\n",
        "print(f'a1:\\n{a1}')\n",
        "print(f'a2:\\n{a2}')"
      ],
      "metadata": {
        "colab": {
          "base_uri": "https://localhost:8080/"
        },
        "id": "HXsId89iNZ4i",
        "outputId": "d0ee1be4-5a63-4f28-ef4e-5a41afe2650c"
      },
      "execution_count": 39,
      "outputs": [
        {
          "output_type": "stream",
          "name": "stdout",
          "text": [
            "a1:\n",
            "[[1 1]\n",
            " [2 2]]\n",
            "a2:\n",
            "[[3 3]\n",
            " [4 4]]\n"
          ]
        }
      ]
    },
    {
      "cell_type": "code",
      "source": [
        "# Stack the arrays vertically\n",
        "vert_stack = np.vstack((a1, a2))\n",
        "print(vert_stack)"
      ],
      "metadata": {
        "colab": {
          "base_uri": "https://localhost:8080/"
        },
        "id": "0HoUsfSQNqs-",
        "outputId": "1e28b63a-d8e7-4a1d-8cea-74296d510474"
      },
      "execution_count": 40,
      "outputs": [
        {
          "output_type": "stream",
          "name": "stdout",
          "text": [
            "[[1 1]\n",
            " [2 2]\n",
            " [3 3]\n",
            " [4 4]]\n"
          ]
        }
      ]
    },
    {
      "cell_type": "code",
      "source": [
        "# Stack the arrays horizontally\n",
        "horz_stack = np.hstack((a1, a2))\n",
        "print(horz_stack)"
      ],
      "metadata": {
        "colab": {
          "base_uri": "https://localhost:8080/"
        },
        "id": "a5XQhpmmN68J",
        "outputId": "4189752b-7680-4adf-800b-4d37f50d23ec"
      },
      "execution_count": 41,
      "outputs": [
        {
          "output_type": "stream",
          "name": "stdout",
          "text": [
            "[[1 1 3 3]\n",
            " [2 2 4 4]]\n"
          ]
        }
      ]
    },
    {
      "cell_type": "markdown",
      "source": [
        "<a name='6'></a>\n",
        "## Exercises ##\n",
        "Well done! Now, from what you learned today, try to answer the following question.\n",
        "\n",
        "### Question 1 ###\n",
        "Is there a difference between `np.zeros()` and `np.empty()`? Select one of the options given:\n",
        "- A. No difference, they both output arrays of zeros.\n",
        "- B. `np.zeros()` is not initialized, but gives an output of zeros.\n",
        "- C. `np.zeros()` is faster to execute than `np.empty()`.\n",
        "- D. `np.empty()` outputs an uninitialized array, but `np.zeros()` outputs an initialized array of value zero."
      ],
      "metadata": {
        "id": "kbOVQlONOZXr"
      }
    },
    {
      "cell_type": "code",
      "metadata": {
        "colab": {
          "base_uri": "https://localhost:8080/"
        },
        "id": "f0c2710e",
        "outputId": "776804de-48fa-4993-c0f7-c7507a633a03"
      },
      "source": [
        "!pip install quiz"
      ],
      "execution_count": 44,
      "outputs": [
        {
          "output_type": "stream",
          "name": "stdout",
          "text": [
            "Collecting quiz\n",
            "  Downloading quiz-0.3.2-py3-none-any.whl.metadata (9.8 kB)\n",
            "Collecting gentools<2.0.0,>=1.2.0 (from quiz)\n",
            "  Downloading gentools-1.2.2-py3-none-any.whl.metadata (4.3 kB)\n",
            "Collecting snug<3.0.0,>=2.2.0 (from quiz)\n",
            "  Downloading snug-2.4.0-py3-none-any.whl.metadata (11 kB)\n",
            "Downloading quiz-0.3.2-py3-none-any.whl (27 kB)\n",
            "Downloading gentools-1.2.2-py3-none-any.whl (9.0 kB)\n",
            "Downloading snug-2.4.0-py3-none-any.whl (18 kB)\n",
            "Installing collected packages: snug, gentools, quiz\n",
            "Successfully installed gentools-1.2.2 quiz-0.3.2 snug-2.4.0\n"
          ]
        }
      ]
    },
    {
      "cell_type": "code",
      "source": [],
      "metadata": {
        "id": "Vq9MYoyBRDnO"
      },
      "execution_count": null,
      "outputs": []
    }
  ]
}